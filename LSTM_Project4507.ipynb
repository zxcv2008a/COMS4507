{
  "nbformat": 4,
  "nbformat_minor": 0,
  "metadata": {
    "colab": {
      "provenance": []
    },
    "kernelspec": {
      "name": "python3",
      "display_name": "Python 3"
    },
    "language_info": {
      "name": "python"
    }
  },
  "cells": [
    {
      "cell_type": "code",
      "execution_count": 30,
      "metadata": {
        "id": "7bSEz0uUBzBn",
        "colab": {
          "base_uri": "https://localhost:8080/",
          "height": 1000
        },
        "outputId": "3a0d2c54-aa4e-49a7-a1f5-33ce25710ec9"
      },
      "outputs": [
        {
          "output_type": "stream",
          "name": "stdout",
          "text": [
            "last_trainingdate=2023-01-06:\n",
            "Above is data_training\n",
            "Above  is data_test\n",
            "Above is training_data.head())\n",
            "Model: \"sequential_14\"\n",
            "_________________________________________________________________\n",
            " Layer (type)                Output Shape              Param #   \n",
            "=================================================================\n",
            " lstm_56 (LSTM)              (None, 60, 50)            11200     \n",
            "                                                                 \n",
            " dropout_56 (Dropout)        (None, 60, 50)            0         \n",
            "                                                                 \n",
            " lstm_57 (LSTM)              (None, 60, 60)            26640     \n",
            "                                                                 \n",
            " dropout_57 (Dropout)        (None, 60, 60)            0         \n",
            "                                                                 \n",
            " lstm_58 (LSTM)              (None, 60, 80)            45120     \n",
            "                                                                 \n",
            " dropout_58 (Dropout)        (None, 60, 80)            0         \n",
            "                                                                 \n",
            " lstm_59 (LSTM)              (None, 120)               96480     \n",
            "                                                                 \n",
            " dropout_59 (Dropout)        (None, 120)               0         \n",
            "                                                                 \n",
            " dense_14 (Dense)            (None, 1)                 121       \n",
            "                                                                 \n",
            "=================================================================\n",
            "Total params: 179,561\n",
            "Trainable params: 179,561\n",
            "Non-trainable params: 0\n",
            "_________________________________________________________________\n",
            "Epoch 1/50\n",
            "4/4 [==============================] - 8s 445ms/step - loss: 0.0416 - val_loss: 8.4255e-04\n",
            "Epoch 2/50\n",
            "4/4 [==============================] - 1s 233ms/step - loss: 0.0140 - val_loss: 0.0162\n",
            "Epoch 3/50\n",
            "4/4 [==============================] - 1s 229ms/step - loss: 0.0122 - val_loss: 0.0044\n",
            "Epoch 4/50\n",
            "4/4 [==============================] - 1s 230ms/step - loss: 0.0112 - val_loss: 0.0038\n",
            "Epoch 5/50\n",
            "4/4 [==============================] - 1s 230ms/step - loss: 0.0100 - val_loss: 0.0081\n",
            "Epoch 6/50\n",
            "4/4 [==============================] - 1s 368ms/step - loss: 0.0097 - val_loss: 0.0084\n",
            "Epoch 7/50\n",
            "4/4 [==============================] - 2s 410ms/step - loss: 0.0083 - val_loss: 0.0037\n",
            "Epoch 8/50\n",
            "4/4 [==============================] - 1s 226ms/step - loss: 0.0073 - val_loss: 0.0040\n",
            "Epoch 9/50\n",
            "4/4 [==============================] - 1s 224ms/step - loss: 0.0062 - val_loss: 0.0044\n",
            "Epoch 10/50\n",
            "4/4 [==============================] - 1s 221ms/step - loss: 0.0062 - val_loss: 0.0019\n",
            "Epoch 11/50\n",
            "4/4 [==============================] - 1s 229ms/step - loss: 0.0061 - val_loss: 0.0016\n",
            "Epoch 12/50\n",
            "4/4 [==============================] - 1s 224ms/step - loss: 0.0056 - val_loss: 0.0017\n",
            "Epoch 13/50\n",
            "4/4 [==============================] - 1s 220ms/step - loss: 0.0055 - val_loss: 0.0010\n",
            "Epoch 14/50\n",
            "4/4 [==============================] - 1s 228ms/step - loss: 0.0047 - val_loss: 5.1721e-04\n",
            "Epoch 15/50\n",
            "4/4 [==============================] - 1s 231ms/step - loss: 0.0047 - val_loss: 0.0021\n",
            "Epoch 16/50\n",
            "4/4 [==============================] - 1s 228ms/step - loss: 0.0045 - val_loss: 0.0019\n",
            "Epoch 17/50\n",
            "4/4 [==============================] - 1s 226ms/step - loss: 0.0046 - val_loss: 0.0018\n",
            "Epoch 18/50\n",
            "4/4 [==============================] - 1s 227ms/step - loss: 0.0042 - val_loss: 0.0013\n",
            "Epoch 19/50\n",
            "4/4 [==============================] - 2s 405ms/step - loss: 0.0049 - val_loss: 0.0014\n",
            "Epoch 20/50\n",
            "4/4 [==============================] - 2s 407ms/step - loss: 0.0045 - val_loss: 0.0024\n",
            "Epoch 21/50\n",
            "4/4 [==============================] - 1s 225ms/step - loss: 0.0040 - val_loss: 0.0041\n",
            "Epoch 22/50\n",
            "4/4 [==============================] - 1s 229ms/step - loss: 0.0039 - val_loss: 0.0055\n",
            "Epoch 23/50\n",
            "4/4 [==============================] - 1s 226ms/step - loss: 0.0042 - val_loss: 0.0054\n",
            "Epoch 24/50\n",
            "4/4 [==============================] - 1s 236ms/step - loss: 0.0038 - val_loss: 0.0067\n",
            "Epoch 25/50\n",
            "4/4 [==============================] - 1s 226ms/step - loss: 0.0036 - val_loss: 0.0099\n",
            "Epoch 26/50\n",
            "4/4 [==============================] - 1s 235ms/step - loss: 0.0034 - val_loss: 0.0103\n",
            "Epoch 27/50\n",
            "4/4 [==============================] - 1s 229ms/step - loss: 0.0034 - val_loss: 0.0047\n",
            "Epoch 28/50\n",
            "4/4 [==============================] - 1s 228ms/step - loss: 0.0039 - val_loss: 0.0096\n",
            "Epoch 29/50\n",
            "4/4 [==============================] - 1s 226ms/step - loss: 0.0044 - val_loss: 0.0118\n",
            "Epoch 30/50\n",
            "4/4 [==============================] - 1s 221ms/step - loss: 0.0035 - val_loss: 0.0072\n",
            "Epoch 31/50\n",
            "4/4 [==============================] - 1s 251ms/step - loss: 0.0037 - val_loss: 0.0129\n",
            "Epoch 32/50\n",
            "4/4 [==============================] - 2s 405ms/step - loss: 0.0039 - val_loss: 0.0041\n",
            "Epoch 33/50\n",
            "4/4 [==============================] - 1s 346ms/step - loss: 0.0046 - val_loss: 0.0080\n",
            "Epoch 34/50\n",
            "4/4 [==============================] - 2s 444ms/step - loss: 0.0038 - val_loss: 0.0126\n",
            "Epoch 35/50\n",
            "4/4 [==============================] - 1s 231ms/step - loss: 0.0037 - val_loss: 0.0058\n",
            "Epoch 36/50\n",
            "4/4 [==============================] - 1s 229ms/step - loss: 0.0037 - val_loss: 0.0073\n",
            "Epoch 37/50\n",
            "4/4 [==============================] - 1s 371ms/step - loss: 0.0032 - val_loss: 0.0048\n",
            "Epoch 38/50\n",
            "4/4 [==============================] - 1s 262ms/step - loss: 0.0031 - val_loss: 0.0034\n",
            "Epoch 39/50\n",
            "4/4 [==============================] - 1s 224ms/step - loss: 0.0030 - val_loss: 0.0075\n",
            "Epoch 40/50\n",
            "4/4 [==============================] - 1s 226ms/step - loss: 0.0031 - val_loss: 0.0093\n",
            "Epoch 41/50\n",
            "4/4 [==============================] - 1s 219ms/step - loss: 0.0027 - val_loss: 0.0070\n",
            "Epoch 42/50\n",
            "4/4 [==============================] - 1s 230ms/step - loss: 0.0027 - val_loss: 0.0054\n",
            "Epoch 43/50\n",
            "4/4 [==============================] - 2s 401ms/step - loss: 0.0039 - val_loss: 0.0059\n",
            "Epoch 44/50\n",
            "4/4 [==============================] - 2s 389ms/step - loss: 0.0033 - val_loss: 0.0047\n",
            "Epoch 45/50\n",
            "4/4 [==============================] - 1s 227ms/step - loss: 0.0034 - val_loss: 0.0110\n",
            "Epoch 46/50\n",
            "4/4 [==============================] - 1s 223ms/step - loss: 0.0031 - val_loss: 0.0054\n",
            "Epoch 47/50\n",
            "4/4 [==============================] - 1s 238ms/step - loss: 0.0036 - val_loss: 0.0033\n",
            "Epoch 48/50\n",
            "4/4 [==============================] - 1s 225ms/step - loss: 0.0028 - val_loss: 0.0074\n",
            "Epoch 49/50\n",
            "4/4 [==============================] - 1s 233ms/step - loss: 0.0029 - val_loss: 0.0055\n",
            "Epoch 50/50\n",
            "4/4 [==============================] - 1s 224ms/step - loss: 0.0034 - val_loss: 0.0050\n"
          ]
        },
        {
          "output_type": "display_data",
          "data": {
            "text/plain": [
              "<Figure size 640x480 with 1 Axes>"
            ],
            "image/png": "[encoded data removed]"
          },
          "metadata": {}
        }
      ],
      "source": [
        "import numpy as np\n",
        "import matplotlib.pyplot as plt\n",
        "import pandas as pd\n",
        "from sklearn.preprocessing import MinMaxScaler\n",
        "import pandas as pd\n",
        "import IPython\n",
        "from IPython.display import display, HTML, Javascript\n",
        "from datetime import datetime, timedelta\n",
        "\n",
        "def preprocess_data(data_url):\n",
        "    df = pd.read_csv(data_url)\n",
        "    df = df.drop(['Adj Close'], axis=1)\n",
        "    #df.rename(columns={'Date': 'ds', 'Close': 'y'}, inplace=True)\n",
        "    return df\n",
        "\n",
        "\n",
        "def configure_browser_state():\n",
        "  display(IPython.core.display.HTML('''\n",
        "    <canvas id=\"myChart\"></canvas>\n",
        "  '''))\n",
        "  display(IPython.core.display.HTML('''\n",
        "        <script src=\"https://cdn.jsdelivr.net/npm/chart.js@2.8.0\"></script>\n",
        "        <script>\n",
        "          var ctx = document.getElementById('myChart').getContext('2d');\n",
        "          var chart = new Chart(ctx, {\n",
        "              // The type of chart we want to create\n",
        "              type: 'line',\n",
        "\n",
        "              // The data for our dataset\n",
        "              data: {\n",
        "                  labels: [],\n",
        "                  datasets: [{\n",
        "                      label: 'Actual',\n",
        "                      borderColor: 'rgb(255, 99, 132)',\n",
        "                      data: []\n",
        "                  }, \n",
        "                  {\n",
        "                      label: 'Predicted',\n",
        "                      borderColor: 'rgb(155, 199, 32)',\n",
        "                      data: []\n",
        "                  }]\n",
        "              },\n",
        "\n",
        "              // Configuration options go here\n",
        "            //  options: { animation: {duration: 0} ,\n",
        "            //    scales: {x: {\n",
        "             //              type: 'time',\n",
        "             //              time: { unit: 'day',displayFormats: {day: 'YYYY-MM-DD'},tooltipFormat: 'YYYY-MM-DD'},\n",
        "             //              title: {display: true, text: 'Date'}},\n",
        "             //          y: {\n",
        "             //              title: { display: true, text: 'value'}},\n",
        "              //           //xAxes: [{ type : 'time', scaleLabel: { display: true, labelString: 'Timestamp [YYYY-MM-DD]'}}],\n",
        "              //            xAxes: [{type: 'time',time: {unit: 'day',displayFormats: {day: 'YYYY-MM-DD'}},scaleLabel: { display: true, labelString: 'Timestamp [YYYY-MM-DD]'}}],\n",
        "               //         yAxes: [{scaleLabel: {display: true, labelString: 'BitCoin Price [Normalised]'} }], },\n",
        "               // title: { display: true, text: 'Bitcoin Price - Realtime Prediction'}}});\n",
        "\n",
        "                             // Configuration options go here\n",
        "              options: { animation: {duration: 0} ,\n",
        "                scales: {x: {\n",
        "                           type: 'time',\n",
        "                           time: { unit: 'day',unitStepSize: 1,displayFormats: {day: 'YYYY-MM-DD'},tooltipFormat: 'YYYY-MM-DD'},\n",
        "                           title: {display: true, text: 'Date'}},\n",
        "                         y: {\n",
        "                           title: { display: true, text: 'value'}},\n",
        "                         xAxes: [{ scaleLabel: { display: true, labelString: 'Timestamp [YYYY-MM-DD]'}}], \n",
        "                        // xAxes : [time: { unit: 'day',unitStepSize: 1,displayFormats: {day: 'YYYY MM DD'},tooltipFormat: 'YYYY MM DD'},],\n",
        "                        yAxes: [{scaleLabel: {display: true, labelString: 'BitCoin Price [$USD Normalised]'} }], },\n",
        "                title: { display: true, text: 'Bitcoin Price - Realtime Prediction'}}});\n",
        "\n",
        "\n",
        "          function getEpoch(offset_sec=0) {\n",
        "             var now     = new Date(); \n",
        "             return Math.floor((now.getTime() - offset_sec*1000)/1000);}\n",
        "\n",
        "          function getDateTime(offset_sec=0) {\n",
        "             var now     = new Date(); \n",
        "             var numberOfMlSeconds = now.getTime() + offset_sec*1000;\n",
        "             var update_now = new Date (numberOfMlSeconds);\n",
        "             var year    = update_now.getFullYear();\n",
        "             var month   = update_now.getMonth()+1; \n",
        "             var day     = update_now.getDate();\n",
        "             var hour    = update_now.getHours();\n",
        "             var minute  = update_now.getMinutes();\n",
        "             var second  = update_now.getSeconds(); \n",
        "             if(month.toString().length == 1) {\n",
        "                 month = '0'+month;}\n",
        "             if(day.toString().length == 1) {\n",
        "                 day = '0'+day;}   \n",
        "             if(hour.toString().length == 1) {\n",
        "                 hour = '0'+hour;}\n",
        "             if(minute.toString().length == 1) {\n",
        "                 minute = '0'+minute; }\n",
        "             if(second.toString().length == 1) {\n",
        "                 second = '0'+second;}   \n",
        "             //var dateTime = year+'-'+month+'-'+day+' '+hour+':'+minute+':'+second;   \n",
        "             var dateTime = year+'-'+month+'-'+day;  \n",
        "             return dateTime;\n",
        "          }\n",
        "\n",
        "          function addData(current, predicted, day){\n",
        "            chart.data.labels.push(day)\n",
        "            if (chart.data.datasets[1].data.length > 0)\n",
        "            //chart.data.datasets[0].data[chart.data.datasets[0].data.length - 1] = current\n",
        "               chart.data.datasets[0].data.push(current)\n",
        "            chart.data.datasets[1].data.push(predicted)\n",
        "            // optional windowing\n",
        "            if(chart.data.labels.length > 100) {\n",
        "              chart.data.labels.shift()\n",
        "              chart.data.datasets[0].data.shift()\n",
        "              chart.data.datasets[1].data.shift() \n",
        "            }\n",
        "            chart.update();\n",
        "          }\n",
        "        </script>\n",
        "        '''))\n",
        "    \n",
        "\n",
        "url = 'https://raw.githubusercontent.com/AnsonCNS/COMS4507/main/BTC-USD_2023-05-07.csv'\n",
        "data = preprocess_data(url)\n",
        "#data = pd.read_csv(SKELETON_DIR+'BTC-USD.csv', date_parser = True)\n",
        "last_date = datetime.strptime(data['Date'][data.shape[0]-1],'%Y-%m-%d')\n",
        "\n",
        "#separate the last 120 days to simulate as live daily data\n",
        "last_trainingdate = str(last_date+timedelta(days=-120))\n",
        "\n",
        "print(\"last_trainingdate=\"+last_trainingdate[0:10]+\":\")\n",
        "\n",
        "data_training = data[data['Date']< last_trainingdate[0:10]].copy()\n",
        "data_training\n",
        "print(\"Above is data_training\")\n",
        "\n",
        "data_test = data[data['Date']< last_trainingdate[0:10]].copy()\n",
        "data_test\n",
        "print(\"Above  is data_test\")\n",
        "\n",
        "live_data = data[data['Date'] >= last_trainingdate[0:10]].copy()\n",
        "\n",
        "training_data = data_training.drop(['Date'], axis = 1)\n",
        "training_data.head()\n",
        "print(\"Above is training_data.head())\")\n",
        "\n",
        "scaler = MinMaxScaler()\n",
        "training_data = scaler.fit_transform(training_data)\n",
        "training_data\n",
        "\n",
        "X_train = [] \n",
        "Y_train = []\n",
        "training_data.shape[0]\n",
        "for i in range(60, training_data.shape[0]):\n",
        "  X_train.append(training_data[i-60:i])\n",
        "  Y_train.append(training_data[i,0])\n",
        "X_train, Y_train = np.array(X_train), np.array(Y_train)\n",
        "X_train.shape\n",
        "\n",
        "from tensorflow.keras import Sequential\n",
        "from tensorflow.keras.layers import Dense, LSTM, Dropout\n",
        "#Initialize the RNN\n",
        "model = Sequential() \n",
        "model.add(LSTM(units = 50, activation = 'relu', return_sequences = True, input_shape = (X_train.shape[1], 5)))\n",
        "\n",
        "model.add(Dropout(0.2)) \n",
        "model.add(LSTM(units = 60, activation = 'relu', return_sequences = True))\n",
        "model.add(Dropout(0.3)) \n",
        "model.add(LSTM(units = 80, activation = 'relu', return_sequences = True))\n",
        "\n",
        "model.add(Dropout(0.4)) \n",
        "model.add(LSTM(units = 120, activation = 'relu'))\n",
        "model.add(Dropout(0.5)) \n",
        "model.add(Dense(units =1))\n",
        "model.summary()\n",
        "\n",
        "model.compile(optimizer = 'adam', loss = 'mean_squared_error')\n",
        "\n",
        "history= model.fit(X_train, Y_train, epochs = 50, batch_size =50, validation_split=0.1)\n",
        "                   \n",
        "loss = history.history['loss']\n",
        "val_loss = history.history['val_loss']\n",
        "epochs = range(len(loss))\n",
        "plt.figure()\n",
        "plt.plot(epochs, loss, 'b', label='Training loss')\n",
        "plt.plot(epochs, val_loss, 'r', label='Validation loss')\n",
        "plt.title(\"Training and Validation Loss\")\n",
        "plt.legend()\n",
        "plt.show()\n",
        "\n",
        "\n"
      ]
    },
    {
      "cell_type": "code",
      "source": [
        "# Ready graph display\n",
        "configure_browser_state() \n",
        "\n",
        "part_60_days = data_training.tail(60)\n",
        "df= part_60_days.append(live_data, ignore_index = True)\n",
        "days = df['Date']\n",
        "df = df.drop(['Date'], axis = 1)\n",
        "df.head()\n",
        "\n",
        "print(\"days=\",days)\n",
        "inputs = scaler.transform(df) \n",
        "inputs\n",
        "\n",
        "X_test = []\n",
        "Y_test = []\n",
        "Y_pred = -1\n",
        "print(\"inputs.shape[0]=\",inputs.shape[0])\n",
        "for i in range (60, inputs.shape[0]):\n",
        "    X_test.append(inputs[i-60:i]) \n",
        "    Y_test.append(inputs[i, 0])\n",
        "    x1 = X_test[-1][-1]\n",
        "    y1 = Y_test[-1]\n",
        "    print(\"x1=\",x1)\n",
        "    print(\"y1=\",y1)\n",
        "    #if Y_pred != -1:\n",
        "    #    model.train_on_batch(x1, y1)\n",
        "    Y_pred = model.predict(np.array(X_test))\n",
        "    print(\"days=\",days[i])\n",
        "    display(Javascript('addData('+str(Y_test[-1])+','+str(Y_pred[-1])+',\"'+str(days[i])+'\")'))\n",
        "\n",
        "plt.figure(figsize=(14,5))\n",
        "plt.plot(Y_test, color = 'red', label = 'Real Bitcoin Price')\n",
        "plt.plot(Y_pred, color = 'green', label = 'Predicted Bitcoin Price')\n",
        "plt.title('Bitcoin Price Prediction using RNN-LSTM')\n",
        "plt.xlabel('Time')\n",
        "plt.ylabel('Price')\n",
        "plt.legend()\n",
        "plt.show()\n",
        "\n"
      ],
      "metadata": {
        "id": "onSrNJ-PB0uR",
        "colab": {
          "base_uri": "https://localhost:8080/",
          "height": 1000
        },
        "outputId": "d73ca8a9-209a-4542-a5b9-fa5ad25d1a5f"
      },
      "execution_count": 31,
      "outputs": [
        {
          "output_type": "display_data",
          "data": {
            "text/plain": [
              "<IPython.core.display.HTML object>"
            ],
            "text/html": [
              "\n",
              "    <canvas id=\"myChart\"></canvas>\n",
              "  "
            ]
          },
          "metadata": {}
        },
        {
          "output_type": "display_data",
          "data": {
            "text/plain": [
              "<IPython.core.display.HTML object>"
            ],
            "text/html": [
              "\n",
              "        <script src=\"https://cdn.jsdelivr.net/npm/chart.js@2.8.0\"></script>\n",
              "        <script>\n",
              "          var ctx = document.getElementById('myChart').getContext('2d');\n",
              "          var chart = new Chart(ctx, {\n",
              "              // The type of chart we want to create\n",
              "              type: 'line',\n",
              "\n",
              "              // The data for our dataset\n",
              "              data: {\n",
              "                  labels: [],\n",
              "                  datasets: [{\n",
              "                      label: 'Actual',\n",
              "                      borderColor: 'rgb(255, 99, 132)',\n",
              "                      data: []\n",
              "                  }, \n",
              "                  {\n",
              "                      label: 'Predicted',\n",
              "                      borderColor: 'rgb(155, 199, 32)',\n",
              "                      data: []\n",
              "                  }]\n",
              "              },\n",
              "\n",
              "              // Configuration options go here\n",
              "            //  options: { animation: {duration: 0} ,\n",
              "            //    scales: {x: {\n",
              "             //              type: 'time',\n",
              "             //              time: { unit: 'day',displayFormats: {day: 'YYYY-MM-DD'},tooltipFormat: 'YYYY-MM-DD'},\n",
              "             //              title: {display: true, text: 'Date'}},\n",
              "             //          y: {\n",
              "             //              title: { display: true, text: 'value'}},\n",
              "              //           //xAxes: [{ type : 'time', scaleLabel: { display: true, labelString: 'Timestamp [YYYY-MM-DD]'}}],\n",
              "              //            xAxes: [{type: 'time',time: {unit: 'day',displayFormats: {day: 'YYYY-MM-DD'}},scaleLabel: { display: true, labelString: 'Timestamp [YYYY-MM-DD]'}}],\n",
              "               //         yAxes: [{scaleLabel: {display: true, labelString: 'BitCoin Price [Normalised]'} }], },\n",
              "               // title: { display: true, text: 'Bitcoin Price - Realtime Prediction'}}});\n",
              "\n",
              "                             // Configuration options go here\n",
              "              options: { animation: {duration: 0} ,\n",
              "                scales: {x: {\n",
              "                           type: 'time',\n",
              "                           time: { unit: 'day',unitStepSize: 1,displayFormats: {day: 'YYYY-MM-DD'},tooltipFormat: 'YYYY-MM-DD'},\n",
              "                           title: {display: true, text: 'Date'}},\n",
              "                         y: {\n",
              "                           title: { display: true, text: 'value'}},\n",
              "                         xAxes: [{ scaleLabel: { display: true, labelString: 'Timestamp [YYYY-MM-DD]'}}], \n",
              "                        // xAxes : [time: { unit: 'day',unitStepSize: 1,displayFormats: {day: 'YYYY MM DD'},tooltipFormat: 'YYYY MM DD'},],\n",
              "                        yAxes: [{scaleLabel: {display: true, labelString: 'BitCoin Price [$USD Normalised]'} }], },\n",
              "                title: { display: true, text: 'Bitcoin Price - Realtime Prediction'}}});\n",
              "\n",
              "\n",
              "          function getEpoch(offset_sec=0) {\n",
              "             var now     = new Date(); \n",
              "             return Math.floor((now.getTime() - offset_sec*1000)/1000);}\n",
              "\n",
              "          function getDateTime(offset_sec=0) {\n",
              "             var now     = new Date(); \n",
              "             var numberOfMlSeconds = now.getTime() + offset_sec*1000;\n",
              "             var update_now = new Date (numberOfMlSeconds);\n",
              "             var year    = update_now.getFullYear();\n",
              "             var month   = update_now.getMonth()+1; \n",
              "             var day     = update_now.getDate();\n",
              "             var hour    = update_now.getHours();\n",
              "             var minute  = update_now.getMinutes();\n",
              "             var second  = update_now.getSeconds(); \n",
              "             if(month.toString().length == 1) {\n",
              "                 month = '0'+month;}\n",
              "             if(day.toString().length == 1) {\n",
              "                 day = '0'+day;}   \n",
              "             if(hour.toString().length == 1) {\n",
              "                 hour = '0'+hour;}\n",
              "             if(minute.toString().length == 1) {\n",
              "                 minute = '0'+minute; }\n",
              "             if(second.toString().length == 1) {\n",
              "                 second = '0'+second;}   \n",
              "             //var dateTime = year+'-'+month+'-'+day+' '+hour+':'+minute+':'+second;   \n",
              "             var dateTime = year+'-'+month+'-'+day;  \n",
              "             return dateTime;\n",
              "          }\n",
              "\n",
              "          function addData(current, predicted, day){\n",
              "            chart.data.labels.push(day)\n",
              "            if (chart.data.datasets[1].data.length > 0)\n",
              "            //chart.data.datasets[0].data[chart.data.datasets[0].data.length - 1] = current\n",
              "               chart.data.datasets[0].data.push(current)\n",
              "            chart.data.datasets[1].data.push(predicted)\n",
              "            // optional windowing\n",
              "            if(chart.data.labels.length > 100) {\n",
              "              chart.data.labels.shift()\n",
              "              chart.data.datasets[0].data.shift()\n",
              "              chart.data.datasets[1].data.shift() \n",
              "            }\n",
              "            chart.update();\n",
              "          }\n",
              "        </script>\n",
              "        "
            ]
          },
          "metadata": {}
        },
        {
          "output_type": "stream",
          "name": "stderr",
          "text": [
            "<ipython-input-31-10db86d4db07>:5: FutureWarning: The frame.append method is deprecated and will be removed from pandas in a future version. Use pandas.concat instead.\n",
            "  df= part_60_days.append(live_data, ignore_index = True)\n"
          ]
        },
        {
          "output_type": "stream",
          "name": "stdout",
          "text": [
            "days= 0      2022-11-07\n",
            "1      2022-11-08\n",
            "2      2022-11-09\n",
            "3      2022-11-10\n",
            "4      2022-11-11\n",
            "          ...    \n",
            "176    2023-05-02\n",
            "177    2023-05-03\n",
            "178    2023-05-04\n",
            "179    2023-05-05\n",
            "180    2023-05-06\n",
            "Name: Date, Length: 181, dtype: object\n",
            "inputs.shape[0]= 181\n",
            "x1= [0.05200221 0.03097364 0.05991204 0.05181549 0.04053279]\n",
            "y1= 0.05070356485011096\n",
            "1/1 [==============================] - 1s 874ms/step\n",
            "days= 2023-01-06\n"
          ]
        },
        {
          "output_type": "display_data",
          "data": {
            "text/plain": [
              "<IPython.core.display.Javascript object>"
            ],
            "application/javascript": [
              "addData(0.05070356485011096,[0.14155824],\"2023-01-06\")"
            ]
          },
          "metadata": {}
        },
        {
          "output_type": "stream",
          "name": "stdout",
          "text": [
            "x1= [0.05070356 0.03627387 0.05619726 0.05750496 0.04710151]\n",
            "y1= 0.05626583620915537\n",
            "1/1 [==============================] - 0s 73ms/step\n",
            "days= 2023-01-07\n"
          ]
        },
        {
          "output_type": "display_data",
          "data": {
            "text/plain": [
              "<IPython.core.display.Javascript object>"
            ],
            "application/javascript": [
              "addData(0.05626583620915537,[0.14314109],\"2023-01-07\")"
            ]
          },
          "metadata": {}
        },
        {
          "output_type": "stream",
          "name": "stdout",
          "text": [
            "x1= [ 0.05626584  0.03544051  0.06614388  0.05765848 -0.01393732]\n",
            "y1= 0.0563634412997257\n",
            "1/1 [==============================] - 0s 62ms/step\n",
            "days= 2023-01-08\n"
          ]
        },
        {
          "output_type": "display_data",
          "data": {
            "text/plain": [
              "<IPython.core.display.Javascript object>"
            ],
            "application/javascript": [
              "addData(0.0563634412997257,[0.14523773],\"2023-01-08\")"
            ]
          },
          "metadata": {}
        },
        {
          "output_type": "stream",
          "name": "stdout",
          "text": [
            "x1= [0.05636344 0.04114103 0.06663975 0.0643766  0.00477882]\n",
            "y1= 0.06308974076751728\n",
            "1/1 [==============================] - 0s 59ms/step\n",
            "days= 2023-01-09\n"
          ]
        },
        {
          "output_type": "display_data",
          "data": {
            "text/plain": [
              "<IPython.core.display.Javascript object>"
            ],
            "application/javascript": [
              "addData(0.06308974076751728,[0.1471114],\"2023-01-09\")"
            ]
          },
          "metadata": {}
        },
        {
          "output_type": "stream",
          "name": "stdout",
          "text": [
            "x1= [0.06308974 0.05580933 0.07518679 0.06958111 0.08547187]\n",
            "y1= 0.0678493766083832\n",
            "1/1 [==============================] - 0s 58ms/step\n",
            "days= 2023-01-10\n"
          ]
        },
        {
          "output_type": "display_data",
          "data": {
            "text/plain": [
              "<IPython.core.display.Javascript object>"
            ],
            "application/javascript": [
              "addData(0.0678493766083832,[0.14884594],\"2023-01-10\")"
            ]
          },
          "metadata": {}
        },
        {
          "output_type": "stream",
          "name": "stdout",
          "text": [
            "x1= [0.06784938 0.06046115 0.07865697 0.08191165 0.05980948]\n",
            "y1= 0.08003789973552766\n",
            "1/1 [==============================] - 0s 60ms/step\n",
            "days= 2023-01-11\n"
          ]
        },
        {
          "output_type": "display_data",
          "data": {
            "text/plain": [
              "<IPython.core.display.Javascript object>"
            ],
            "application/javascript": [
              "addData(0.08003789973552766,[0.15054986],\"2023-01-11\")"
            ]
          },
          "metadata": {}
        },
        {
          "output_type": "stream",
          "name": "stdout",
          "text": [
            "x1= [0.0800379  0.08255966 0.08745862 0.10603588 0.08317157]\n",
            "y1= 0.1123229345287734\n",
            "1/1 [==============================] - 0s 62ms/step\n",
            "days= 2023-01-12\n"
          ]
        },
        {
          "output_type": "display_data",
          "data": {
            "text/plain": [
              "<IPython.core.display.Javascript object>"
            ],
            "application/javascript": [
              "addData(0.1123229345287734,[0.15230851],\"2023-01-12\")"
            ]
          },
          "metadata": {}
        },
        {
          "output_type": "stream",
          "name": "stdout",
          "text": [
            "x1= [0.11232293 0.13632112 0.12051229 0.15218519 0.23441842]\n",
            "y1= 0.14845956743453081\n",
            "1/1 [==============================] - 0s 69ms/step\n",
            "days= 2023-01-13\n"
          ]
        },
        {
          "output_type": "display_data",
          "data": {
            "text/plain": [
              "<IPython.core.display.Javascript object>"
            ],
            "application/javascript": [
              "addData(0.14845956743453081,[0.15425704],\"2023-01-13\")"
            ]
          },
          "metadata": {}
        },
        {
          "output_type": "stream",
          "name": "stdout",
          "text": [
            "x1= [0.14845957 0.18218142 0.15863318 0.20353332 0.18205935]\n",
            "y1= 0.1985599344256186\n",
            "1/1 [==============================] - 0s 64ms/step\n",
            "days= 2023-01-14\n"
          ]
        },
        {
          "output_type": "display_data",
          "data": {
            "text/plain": [
              "<IPython.core.display.Javascript object>"
            ],
            "application/javascript": [
              "addData(0.1985599344256186,[0.15674807],\"2023-01-14\")"
            ]
          },
          "metadata": {}
        },
        {
          "output_type": "stream",
          "name": "stdout",
          "text": [
            "x1= [0.19855993 0.23671008 0.21670586 0.25620161 0.27083313]\n",
            "y1= 0.2498779701048377\n",
            "1/1 [==============================] - 0s 85ms/step\n",
            "days= 2023-01-15\n"
          ]
        },
        {
          "output_type": "display_data",
          "data": {
            "text/plain": [
              "<IPython.core.display.Javascript object>"
            ],
            "application/javascript": [
              "addData(0.2498779701048377,[0.15985565],\"2023-01-15\")"
            ]
          },
          "metadata": {}
        },
        {
          "output_type": "stream",
          "name": "stdout",
          "text": [
            "x1= [0.24987797 0.23271453 0.25186933 0.25148641 0.0916102 ]\n",
            "y1= 0.24529616533700782\n",
            "1/1 [==============================] - 0s 69ms/step\n",
            "days= 2023-01-16\n"
          ]
        },
        {
          "output_type": "display_data",
          "data": {
            "text/plain": [
              "<IPython.core.display.Javascript object>"
            ],
            "application/javascript": [
              "addData(0.24529616533700782,[0.16409773],\"2023-01-16\")"
            ]
          },
          "metadata": {}
        },
        {
          "output_type": "stream",
          "name": "stdout",
          "text": [
            "x1= [0.24529617 0.25073629 0.25733929 0.26574726 0.15989463]\n",
            "y1= 0.25941819072865746\n",
            "1/1 [==============================] - 0s 89ms/step\n",
            "days= 2023-01-17\n"
          ]
        },
        {
          "output_type": "display_data",
          "data": {
            "text/plain": [
              "<IPython.core.display.Javascript object>"
            ],
            "application/javascript": [
              "addData(0.25941819072865746,[0.16976924],\"2023-01-17\")"
            ]
          },
          "metadata": {}
        },
        {
          "output_type": "stream",
          "name": "stdout",
          "text": [
            "x1= [0.25941819 0.25455466 0.27055591 0.26534667 0.14356168]\n",
            "y1= 0.2587071481465333\n",
            "1/1 [==============================] - 0s 76ms/step\n",
            "days= 2023-01-18\n"
          ]
        },
        {
          "output_type": "display_data",
          "data": {
            "text/plain": [
              "<IPython.core.display.Javascript object>"
            ],
            "application/javascript": [
              "addData(0.2587071481465333,[0.17705795],\"2023-01-18\")"
            ]
          },
          "metadata": {}
        },
        {
          "output_type": "stream",
          "name": "stdout",
          "text": [
            "x1= [0.25870715 0.26073206 0.24857802 0.24200576 0.18917196]\n",
            "y1= 0.23589403860875868\n",
            "1/1 [==============================] - 0s 53ms/step\n",
            "days= 2023-01-19\n"
          ]
        },
        {
          "output_type": "display_data",
          "data": {
            "text/plain": [
              "<IPython.core.display.Javascript object>"
            ],
            "application/javascript": [
              "addData(0.23589403860875868,[0.18573524],\"2023-01-19\")"
            ]
          },
          "metadata": {}
        },
        {
          "output_type": "stream",
          "name": "stdout",
          "text": [
            "x1= [0.23589404 0.24102345 0.2558121  0.26165713 0.10850745]\n",
            "y1= 0.2550672000654117\n",
            "1/1 [==============================] - 0s 68ms/step\n",
            "days= 2023-01-20\n"
          ]
        },
        {
          "output_type": "display_data",
          "data": {
            "text/plain": [
              "<IPython.core.display.Javascript object>"
            ],
            "application/javascript": [
              "addData(0.2550672000654117,[0.19569811],\"2023-01-20\")"
            ]
          },
          "metadata": {}
        },
        {
          "output_type": "stream",
          "name": "stdout",
          "text": [
            "x1= [0.2550672  0.31609696 0.26756813 0.34014969 0.17817887]\n",
            "y1= 0.33164185547179637\n",
            "1/1 [==============================] - 0s 54ms/step\n",
            "days= 2023-01-21\n"
          ]
        },
        {
          "output_type": "display_data",
          "data": {
            "text/plain": [
              "<IPython.core.display.Javascript object>"
            ],
            "application/javascript": [
              "addData(0.33164185547179637,[0.20690404],\"2023-01-21\")"
            ]
          },
          "metadata": {}
        },
        {
          "output_type": "stream",
          "name": "stdout",
          "text": [
            "x1= [0.33164186 0.34505878 0.34767174 0.34514002 0.21137419]\n",
            "y1= 0.33647852329896155\n",
            "1/1 [==============================] - 0s 56ms/step\n",
            "days= 2023-01-22\n"
          ]
        },
        {
          "output_type": "display_data",
          "data": {
            "text/plain": [
              "<IPython.core.display.Javascript object>"
            ],
            "application/javascript": [
              "addData(0.33647852329896155,[0.21914561],\"2023-01-22\")"
            ]
          },
          "metadata": {}
        },
        {
          "output_type": "stream",
          "name": "stdout",
          "text": [
            "x1= [0.33647852 0.33398353 0.34143862 0.34231539 0.14125096]\n",
            "y1= 0.333741821951945\n",
            "1/1 [==============================] - 0s 58ms/step\n",
            "days= 2023-01-23\n"
          ]
        },
        {
          "output_type": "display_data",
          "data": {
            "text/plain": [
              "<IPython.core.display.Javascript object>"
            ],
            "application/javascript": [
              "addData(0.333741821951945,[0.23234753],\"2023-01-23\")"
            ]
          },
          "metadata": {}
        },
        {
          "output_type": "stream",
          "name": "stdout",
          "text": [
            "x1= [0.33374182 0.33740775 0.35483716 0.35288216 0.15739988]\n",
            "y1= 0.3437721349442151\n",
            "1/1 [==============================] - 0s 65ms/step\n",
            "days= 2023-01-24\n"
          ]
        },
        {
          "output_type": "display_data",
          "data": {
            "text/plain": [
              "<IPython.core.display.Javascript object>"
            ],
            "application/javascript": [
              "addData(0.3437721349442151,[0.24629526],\"2023-01-24\")"
            ]
          },
          "metadata": {}
        },
        {
          "output_type": "stream",
          "name": "stdout",
          "text": [
            "x1= [0.34377213 0.33777717 0.34957839 0.33817059 0.15636451]\n",
            "y1= 0.32980642807108285\n",
            "1/1 [==============================] - 0s 60ms/step\n",
            "days= 2023-01-25\n"
          ]
        },
        {
          "output_type": "display_data",
          "data": {
            "text/plain": [
              "<IPython.core.display.Javascript object>"
            ],
            "application/javascript": [
              "addData(0.32980642807108285,[0.26069185],\"2023-01-25\")"
            ]
          },
          "metadata": {}
        },
        {
          "output_type": "stream",
          "name": "stdout",
          "text": [
            "x1= [0.32980643 0.3666456  0.34235276 0.36193869 0.19536561]\n",
            "y1= 0.35239746012222395\n",
            "1/1 [==============================] - 0s 65ms/step\n",
            "days= 2023-01-26\n"
          ]
        },
        {
          "output_type": "display_data",
          "data": {
            "text/plain": [
              "<IPython.core.display.Javascript object>"
            ],
            "application/javascript": [
              "addData(0.35239746012222395,[0.27522498],\"2023-01-26\")"
            ]
          },
          "metadata": {}
        },
        {
          "output_type": "stream",
          "name": "stdout",
          "text": [
            "x1= [0.35239746 0.34283656 0.36776616 0.35773787 0.15593415]\n",
            "y1= 0.3486343548369073\n",
            "1/1 [==============================] - 0s 59ms/step\n",
            "days= 2023-01-27\n"
          ]
        },
        {
          "output_type": "display_data",
          "data": {
            "text/plain": [
              "<IPython.core.display.Javascript object>"
            ],
            "application/javascript": [
              "addData(0.3486343548369073,[0.2895366],\"2023-01-27\")"
            ]
          },
          "metadata": {}
        },
        {
          "output_type": "stream",
          "name": "stdout",
          "text": [
            "x1= [0.34863435 0.35170405 0.3548517  0.36000665 0.14705469]\n",
            "y1= 0.3510030876821142\n",
            "1/1 [==============================] - 0s 69ms/step\n",
            "days= 2023-01-28\n"
          ]
        },
        {
          "output_type": "display_data",
          "data": {
            "text/plain": [
              "<IPython.core.display.Javascript object>"
            ],
            "application/javascript": [
              "addData(0.3510030876821142,[0.3032449],\"2023-01-28\")"
            ]
          },
          "metadata": {}
        },
        {
          "output_type": "stream",
          "name": "stdout",
          "text": [
            "x1= [0.35100309 0.33934235 0.36763905 0.35765455 0.04982835]\n",
            "y1= 0.3486695828744364\n",
            "1/1 [==============================] - 0s 65ms/step\n",
            "days= 2023-01-29\n"
          ]
        },
        {
          "output_type": "display_data",
          "data": {
            "text/plain": [
              "<IPython.core.display.Javascript object>"
            ],
            "application/javascript": [
              "addData(0.3486695828744364,[0.31599128],\"2023-01-29\")"
            ]
          },
          "metadata": {}
        },
        {
          "output_type": "stream",
          "name": "stdout",
          "text": [
            "x1= [0.34866958 0.37635489 0.37147269 0.39436285 0.16564592]\n",
            "y1= 0.3844159831444287\n",
            "1/1 [==============================] - 0s 80ms/step\n",
            "days= 2023-01-30\n"
          ]
        },
        {
          "output_type": "display_data",
          "data": {
            "text/plain": [
              "<IPython.core.display.Javascript object>"
            ],
            "application/javascript": [
              "addData(0.3844159831444287,[0.32755047],\"2023-01-30\")"
            ]
          },
          "metadata": {}
        },
        {
          "output_type": "stream",
          "name": "stdout",
          "text": [
            "x1= [0.38441598 0.36994672 0.35500199 0.34822656 0.16365872]\n",
            "y1= 0.33949958534644353\n",
            "1/1 [==============================] - 0s 72ms/step\n",
            "days= 2023-01-31\n"
          ]
        },
        {
          "output_type": "display_data",
          "data": {
            "text/plain": [
              "<IPython.core.display.Javascript object>"
            ],
            "application/javascript": [
              "addData(0.33949958534644353,[0.33762068],\"2023-01-31\")"
            ]
          },
          "metadata": {}
        },
        {
          "output_type": "stream",
          "name": "stdout",
          "text": [
            "x1= [0.33949959 0.34224471 0.36043306 0.36299647 0.12386061]\n",
            "y1= 0.35378657189105867\n",
            "1/1 [==============================] - 0s 75ms/step\n",
            "days= 2023-02-01\n"
          ]
        },
        {
          "output_type": "display_data",
          "data": {
            "text/plain": [
              "<IPython.core.display.Javascript object>"
            ],
            "application/javascript": [
              "addData(0.35378657189105867,[0.34595764],\"2023-02-01\")"
            ]
          },
          "metadata": {}
        },
        {
          "output_type": "stream",
          "name": "stdout",
          "text": [
            "x1= [0.35378657 0.3687289  0.36607512 0.39185481 0.15889927]\n",
            "y1= 0.38182714555229214\n",
            "1/1 [==============================] - 0s 76ms/step\n",
            "days= 2023-02-02\n"
          ]
        },
        {
          "output_type": "display_data",
          "data": {
            "text/plain": [
              "<IPython.core.display.Javascript object>"
            ],
            "application/javascript": [
              "addData(0.38182714555229214,[0.35247654],\"2023-02-02\")"
            ]
          },
          "metadata": {}
        },
        {
          "output_type": "stream",
          "name": "stdout",
          "text": [
            "x1= [0.38182715 0.38849551 0.39579112 0.37941762 0.20795416]\n",
            "y1= 0.36973472445304\n",
            "1/1 [==============================] - 0s 84ms/step\n",
            "days= 2023-02-03\n"
          ]
        },
        {
          "output_type": "display_data",
          "data": {
            "text/plain": [
              "<IPython.core.display.Javascript object>"
            ],
            "application/javascript": [
              "addData(0.36973472445304,[0.35719335],\"2023-02-03\")"
            ]
          },
          "metadata": {}
        },
        {
          "output_type": "stream",
          "name": "stdout",
          "text": [
            "x1= [0.36973472 0.36448589 0.38630363 0.37830429 0.16254226]\n",
            "y1= 0.36862405511746177\n",
            "1/1 [==============================] - 0s 67ms/step\n",
            "days= 2023-02-04\n"
          ]
        },
        {
          "output_type": "display_data",
          "data": {
            "text/plain": [
              "<IPython.core.display.Javascript object>"
            ],
            "application/javascript": [
              "addData(0.36862405511746177,[0.36015707],\"2023-02-04\")"
            ]
          },
          "metadata": {}
        },
        {
          "output_type": "stream",
          "name": "stdout",
          "text": [
            "x1= [0.36862406 0.35853859 0.3868991  0.37250412 0.05826922]\n",
            "y1= 0.36313740661744354\n",
            "1/1 [==============================] - 0s 73ms/step\n",
            "days= 2023-02-05\n"
          ]
        },
        {
          "output_type": "display_data",
          "data": {
            "text/plain": [
              "<IPython.core.display.Javascript object>"
            ],
            "application/javascript": [
              "addData(0.36313740661744354,[0.36156148],\"2023-02-05\")"
            ]
          },
          "metadata": {}
        },
        {
          "output_type": "stream",
          "name": "stdout",
          "text": [
            "x1= [0.36313741 0.35198459 0.36426503 0.35393058 0.09403261]\n",
            "y1= 0.344945463235246\n",
            "1/1 [==============================] - 0s 71ms/step\n",
            "days= 2023-02-06\n"
          ]
        },
        {
          "output_type": "display_data",
          "data": {
            "text/plain": [
              "<IPython.core.display.Javascript object>"
            ],
            "application/javascript": [
              "addData(0.344945463235246,[0.36154985],\"2023-02-06\")"
            ]
          },
          "metadata": {}
        },
        {
          "output_type": "stream",
          "name": "stdout",
          "text": [
            "x1= [0.34494546 0.33705397 0.35673429 0.3442752  0.13285555]\n",
            "y1= 0.33548199274341206\n",
            "2/2 [==============================] - 0s 22ms/step\n",
            "days= 2023-02-07\n"
          ]
        },
        {
          "output_type": "display_data",
          "data": {
            "text/plain": [
              "<IPython.core.display.Javascript object>"
            ],
            "application/javascript": [
              "addData(0.33548199274341206,[0.36013877],\"2023-02-07\")"
            ]
          },
          "metadata": {}
        },
        {
          "output_type": "stream",
          "name": "stdout",
          "text": [
            "x1= [0.33548199 0.34646403 0.35996479 0.36916859 0.16349807]\n",
            "y1= 0.35982672319822084\n",
            "2/2 [==============================] - 0s 28ms/step\n",
            "days= 2023-02-08\n"
          ]
        },
        {
          "output_type": "display_data",
          "data": {
            "text/plain": [
              "<IPython.core.display.Javascript object>"
            ],
            "application/javascript": [
              "addData(0.35982672319822084,[0.35739905],\"2023-02-08\")"
            ]
          },
          "metadata": {}
        },
        {
          "output_type": "stream",
          "name": "stdout",
          "text": [
            "x1= [0.35982672 0.34926132 0.35869939 0.35312739 0.14694565]\n",
            "y1= 0.3445868888511252\n",
            "2/2 [==============================] - 0s 28ms/step\n",
            "days= 2023-02-09\n"
          ]
        },
        {
          "output_type": "display_data",
          "data": {
            "text/plain": [
              "<IPython.core.display.Javascript object>"
            ],
            "application/javascript": [
              "addData(0.3445868888511252,[0.35350573],\"2023-02-09\")"
            ]
          },
          "metadata": {}
        },
        {
          "output_type": "stream",
          "name": "stdout",
          "text": [
            "x1= [0.34458689 0.33102383 0.31056184 0.29781094 0.2125614 ]\n",
            "y1= 0.2903534752370114\n",
            "2/2 [==============================] - 0s 27ms/step\n",
            "days= 2023-02-10\n"
          ]
        },
        {
          "output_type": "display_data",
          "data": {
            "text/plain": [
              "<IPython.core.display.Javascript object>"
            ],
            "application/javascript": [
              "addData(0.2903534752370114,[0.34826356],\"2023-02-10\")"
            ]
          },
          "metadata": {}
        },
        {
          "output_type": "stream",
          "name": "stdout",
          "text": [
            "x1= [0.29035348 0.27922295 0.29876377 0.28952327 0.1624998 ]\n",
            "y1= 0.28231321723048386\n",
            "2/2 [==============================] - 0s 26ms/step\n",
            "days= 2023-02-11\n"
          ]
        },
        {
          "output_type": "display_data",
          "data": {
            "text/plain": [
              "<IPython.core.display.Javascript object>"
            ],
            "application/javascript": [
              "addData(0.28231321723048386,[0.34144878],\"2023-02-11\")"
            ]
          },
          "metadata": {}
        },
        {
          "output_type": "stream",
          "name": "stdout",
          "text": [
            "x1= [0.28231322 0.27677954 0.30273984 0.30037028 0.06480171]\n",
            "y1= 0.2928495926682322\n",
            "2/2 [==============================] - 0s 28ms/step\n",
            "days= 2023-02-12\n"
          ]
        },
        {
          "output_type": "display_data",
          "data": {
            "text/plain": [
              "<IPython.core.display.Javascript object>"
            ],
            "application/javascript": [
              "addData(0.2928495926682322,[0.33331835],\"2023-02-12\")"
            ]
          },
          "metadata": {}
        },
        {
          "output_type": "stream",
          "name": "stdout",
          "text": [
            "x1= [0.29284959 0.28510419 0.30597772 0.29628845 0.07814882]\n",
            "y1= 0.2888140572484694\n",
            "2/2 [==============================] - 0s 28ms/step\n",
            "days= 2023-02-13\n"
          ]
        },
        {
          "output_type": "display_data",
          "data": {
            "text/plain": [
              "<IPython.core.display.Javascript object>"
            ],
            "application/javascript": [
              "addData(0.2888140572484694,[0.3243962],\"2023-02-13\")"
            ]
          },
          "metadata": {}
        },
        {
          "output_type": "stream",
          "name": "stdout",
          "text": [
            "x1= [0.28881406 0.27712336 0.29477522 0.29727091 0.13370965]\n",
            "y1= 0.28952697868299015\n",
            "2/2 [==============================] - 0s 30ms/step\n",
            "days= 2023-02-14\n"
          ]
        },
        {
          "output_type": "display_data",
          "data": {
            "text/plain": [
              "<IPython.core.display.Javascript object>"
            ],
            "application/javascript": [
              "addData(0.28952697868299015,[0.31513226],\"2023-02-14\")"
            ]
          },
          "metadata": {}
        },
        {
          "output_type": "stream",
          "name": "stdout",
          "text": [
            "x1= [0.28952698 0.29649995 0.30344121 0.31764765 0.15989556]\n",
            "y1= 0.3096686761648384\n",
            "2/2 [==============================] - 0s 32ms/step\n",
            "days= 2023-02-15\n"
          ]
        },
        {
          "output_type": "display_data",
          "data": {
            "text/plain": [
              "<IPython.core.display.Javascript object>"
            ],
            "application/javascript": [
              "addData(0.3096686761648384,[0.3059652],\"2023-02-15\")"
            ]
          },
          "metadata": {}
        },
        {
          "output_type": "stream",
          "name": "stdout",
          "text": [
            "x1= [0.30966868 0.39539889 0.32609237 0.4206927  0.21174809]\n",
            "y1= 0.41003784710236113\n",
            "2/2 [==============================] - 0s 30ms/step\n",
            "days= 2023-02-16\n"
          ]
        },
        {
          "output_type": "display_data",
          "data": {
            "text/plain": [
              "<IPython.core.display.Javascript object>"
            ],
            "application/javascript": [
              "addData(0.41003784710236113,[0.29768223],\"2023-02-16\")"
            ]
          },
          "metadata": {}
        },
        {
          "output_type": "stream",
          "name": "stdout",
          "text": [
            "x1= [0.41003785 0.43595963 0.40252688 0.38690286 0.27401205]\n",
            "y1= 0.3770394211975687\n",
            "2/2 [==============================] - 0s 41ms/step\n",
            "days= 2023-02-17\n"
          ]
        },
        {
          "output_type": "display_data",
          "data": {
            "text/plain": [
              "<IPython.core.display.Javascript object>"
            ],
            "application/javascript": [
              "addData(0.3770394211975687,[0.29100603],\"2023-02-17\")"
            ]
          },
          "metadata": {}
        },
        {
          "output_type": "stream",
          "name": "stdout",
          "text": [
            "x1= [0.37703942 0.42564727 0.39539682 0.4334193  0.29261635]\n",
            "y1= 0.4224445961721366\n",
            "2/2 [==============================] - 0s 39ms/step\n",
            "days= 2023-02-18\n"
          ]
        },
        {
          "output_type": "display_data",
          "data": {
            "text/plain": [
              "<IPython.core.display.Javascript object>"
            ],
            "application/javascript": [
              "addData(0.4224445961721366,[0.28630537],\"2023-02-18\")"
            ]
          },
          "metadata": {}
        },
        {
          "output_type": "stream",
          "name": "stdout",
          "text": [
            "x1= [0.4224446  0.41950112 0.44607392 0.4371557  0.09458993]\n",
            "y1= 0.4260389826958906\n",
            "2/2 [==============================] - 0s 38ms/step\n",
            "days= 2023-02-19\n"
          ]
        },
        {
          "output_type": "display_data",
          "data": {
            "text/plain": [
              "<IPython.core.display.Javascript object>"
            ],
            "application/javascript": [
              "addData(0.4260389826958906,[0.28408682],\"2023-02-19\")"
            ]
          },
          "metadata": {}
        },
        {
          "output_type": "stream",
          "name": "stdout",
          "text": [
            "x1= [0.42603898 0.43394392 0.43899603 0.42167035 0.14861982]\n",
            "y1= 0.41144584109007654\n",
            "2/2 [==============================] - 0s 36ms/step\n",
            "days= 2023-02-20\n"
          ]
        },
        {
          "output_type": "display_data",
          "data": {
            "text/plain": [
              "<IPython.core.display.Javascript object>"
            ],
            "application/javascript": [
              "addData(0.41144584109007654,[0.28455812],\"2023-02-20\")"
            ]
          },
          "metadata": {}
        },
        {
          "output_type": "stream",
          "name": "stdout",
          "text": [
            "x1= [0.41144584 0.4303803  0.41889188 0.44643162 0.1798939 ]\n",
            "y1= 0.43532293113310216\n",
            "2/2 [==============================] - 0s 36ms/step\n",
            "days= 2023-02-21\n"
          ]
        },
        {
          "output_type": "display_data",
          "data": {
            "text/plain": [
              "<IPython.core.display.Javascript object>"
            ],
            "application/javascript": [
              "addData(0.43532293113310216,[0.28747576],\"2023-02-21\")"
            ]
          },
          "metadata": {}
        },
        {
          "output_type": "stream",
          "name": "stdout",
          "text": [
            "x1= [0.43532293 0.43560297 0.43259464 0.42703782 0.20052954]\n",
            "y1= 0.41629387582273214\n",
            "2/2 [==============================] - 0s 36ms/step\n",
            "days= 2023-02-22\n"
          ]
        },
        {
          "output_type": "display_data",
          "data": {
            "text/plain": [
              "<IPython.core.display.Javascript object>"
            ],
            "application/javascript": [
              "addData(0.41629387582273214,[0.29236913],\"2023-02-22\")"
            ]
          },
          "metadata": {}
        },
        {
          "output_type": "stream",
          "name": "stdout",
          "text": [
            "x1= [0.41629388 0.40347387 0.40462891 0.41481731 0.19094303]\n",
            "y1= 0.4044281353816508\n",
            "2/2 [==============================] - 0s 38ms/step\n",
            "days= 2023-02-23\n"
          ]
        },
        {
          "output_type": "display_data",
          "data": {
            "text/plain": [
              "<IPython.core.display.Javascript object>"
            ],
            "application/javascript": [
              "addData(0.4044281353816508,[0.29845583],\"2023-02-23\")"
            ]
          },
          "metadata": {}
        },
        {
          "output_type": "stream",
          "name": "stdout",
          "text": [
            "x1= [0.40442814 0.40837047 0.40712358 0.40290086 0.19346031]\n",
            "y1= 0.3926580273395339\n",
            "2/2 [==============================] - 0s 38ms/step\n",
            "days= 2023-02-24\n"
          ]
        },
        {
          "output_type": "display_data",
          "data": {
            "text/plain": [
              "<IPython.core.display.Javascript object>"
            ],
            "application/javascript": [
              "addData(0.3926580273395339,[0.30489528],\"2023-02-24\")"
            ]
          },
          "metadata": {}
        },
        {
          "output_type": "stream",
          "name": "stdout",
          "text": [
            "x1= [0.39265803 0.38537809 0.37257926 0.36590181 0.16007004]\n",
            "y1= 0.35678255155003935\n",
            "2/2 [==============================] - 0s 40ms/step\n",
            "days= 2023-02-25\n"
          ]
        },
        {
          "output_type": "display_data",
          "data": {
            "text/plain": [
              "<IPython.core.display.Javascript object>"
            ],
            "application/javascript": [
              "addData(0.35678255155003935,[0.31082964],\"2023-02-25\")"
            ]
          },
          "metadata": {}
        },
        {
          "output_type": "stream",
          "name": "stdout",
          "text": [
            "x1= [0.35678255 0.34151768 0.36526079 0.36477846 0.06247361]\n",
            "y1= 0.35553322465836157\n",
            "2/2 [==============================] - 0s 39ms/step\n",
            "days= 2023-02-26\n"
          ]
        },
        {
          "output_type": "display_data",
          "data": {
            "text/plain": [
              "<IPython.core.display.Javascript object>"
            ],
            "application/javascript": [
              "addData(0.35553322465836157,[0.31563765],\"2023-02-26\")"
            ]
          },
          "metadata": {}
        },
        {
          "output_type": "stream",
          "name": "stdout",
          "text": [
            "x1= [0.35553322 0.36332071 0.37645936 0.38382876 0.06742871]\n",
            "y1= 0.3741616198296256\n",
            "2/2 [==============================] - 0s 39ms/step\n",
            "days= 2023-02-27\n"
          ]
        },
        {
          "output_type": "display_data",
          "data": {
            "text/plain": [
              "<IPython.core.display.Javascript object>"
            ],
            "application/javascript": [
              "addData(0.3741616198296256,[0.31909412],\"2023-02-27\")"
            ]
          },
          "metadata": {}
        },
        {
          "output_type": "stream",
          "name": "stdout",
          "text": [
            "x1= [0.37416162 0.3733114  0.38257804 0.38193568 0.12224723]\n",
            "y1= 0.3722563000143826\n",
            "2/2 [==============================] - 0s 44ms/step\n",
            "days= 2023-02-28\n"
          ]
        },
        {
          "output_type": "display_data",
          "data": {
            "text/plain": [
              "<IPython.core.display.Javascript object>"
            ],
            "application/javascript": [
              "addData(0.3722563000143826,[0.3212015],\"2023-02-28\")"
            ]
          },
          "metadata": {}
        },
        {
          "output_type": "stream",
          "name": "stdout",
          "text": [
            "x1= [0.3722563  0.35993446 0.37612891 0.36339493 0.10288106]\n",
            "y1= 0.35441635515316294\n",
            "2/2 [==============================] - 0s 45ms/step\n",
            "days= 2023-03-01\n"
          ]
        },
        {
          "output_type": "display_data",
          "data": {
            "text/plain": [
              "<IPython.core.display.Javascript object>"
            ],
            "application/javascript": [
              "addData(0.35441635515316294,[0.3220446],\"2023-03-01\")"
            ]
          },
          "metadata": {}
        },
        {
          "output_type": "stream",
          "name": "stdout",
          "text": [
            "x1= [0.35441636 0.37442778 0.37668097 0.38804222 0.14048971]\n",
            "y1= 0.37827728724835086\n",
            "2/2 [==============================] - 0s 41ms/step\n",
            "days= 2023-03-02\n"
          ]
        },
        {
          "output_type": "display_data",
          "data": {
            "text/plain": [
              "<IPython.core.display.Javascript object>"
            ],
            "application/javascript": [
              "addData(0.37827728724835086,[0.3217793],\"2023-03-02\")"
            ]
          },
          "metadata": {}
        },
        {
          "output_type": "stream",
          "name": "stdout",
          "text": [
            "x1= [0.37827729 0.36748203 0.38454668 0.37959515 0.10152373]\n",
            "y1= 0.37008202591517336\n",
            "2/2 [==============================] - 0s 54ms/step\n",
            "days= 2023-03-03\n"
          ]
        },
        {
          "output_type": "display_data",
          "data": {
            "text/plain": [
              "<IPython.core.display.Javascript object>"
            ],
            "application/javascript": [
              "addData(0.37008202591517336,[0.32067615],\"2023-03-03\")"
            ]
          },
          "metadata": {}
        },
        {
          "output_type": "stream",
          "name": "stdout",
          "text": [
            "x1= [0.37008203 0.35472924 0.33265417 0.32465257 0.15324222]\n",
            "y1= 0.31651484480905756\n",
            "2/2 [==============================] - 0s 55ms/step\n",
            "days= 2023-03-04\n"
          ]
        },
        {
          "output_type": "display_data",
          "data": {
            "text/plain": [
              "<IPython.core.display.Javascript object>"
            ],
            "application/javascript": [
              "addData(0.31651484480905756,[0.31871128],\"2023-03-04\")"
            ]
          },
          "metadata": {}
        },
        {
          "output_type": "stream",
          "name": "stdout",
          "text": [
            "x1= [0.31651484 0.3019997  0.33193709 0.32419191 0.01750965]\n",
            "y1= 0.3160925781319299\n",
            "2/2 [==============================] - 0s 60ms/step\n",
            "days= 2023-03-05\n"
          ]
        },
        {
          "output_type": "display_data",
          "data": {
            "text/plain": [
              "<IPython.core.display.Javascript object>"
            ],
            "application/javascript": [
              "addData(0.3160925781319299,[0.31593418],\"2023-03-05\")"
            ]
          },
          "metadata": {}
        },
        {
          "output_type": "stream",
          "name": "stdout",
          "text": [
            "x1= [0.31609258 0.31223506 0.33737699 0.32824866 0.03710898]\n",
            "y1= 0.3200689304467199\n",
            "2/2 [==============================] - 0s 62ms/step\n",
            "days= 2023-03-06\n"
          ]
        },
        {
          "output_type": "display_data",
          "data": {
            "text/plain": [
              "<IPython.core.display.Javascript object>"
            ],
            "application/javascript": [
              "addData(0.3200689304467199,[0.31252313],\"2023-03-06\")"
            ]
          },
          "metadata": {}
        },
        {
          "output_type": "stream",
          "name": "stdout",
          "text": [
            "x1= [0.32006893 0.31079222 0.33859269 0.32796447 0.07388584]\n",
            "y1= 0.3196603792526027\n",
            "2/2 [==============================] - 0s 56ms/step\n",
            "days= 2023-03-07\n"
          ]
        },
        {
          "output_type": "display_data",
          "data": {
            "text/plain": [
              "<IPython.core.display.Javascript object>"
            ],
            "application/javascript": [
              "addData(0.3196603792526027,[0.30867743],\"2023-03-07\")"
            ]
          },
          "metadata": {}
        },
        {
          "output_type": "stream",
          "name": "stdout",
          "text": [
            "x1= [0.31966038 0.3080003  0.32249596 0.31759654 0.12320113]\n",
            "y1= 0.309469332441088\n",
            "2/2 [==============================] - 0s 58ms/step\n",
            "days= 2023-03-08\n"
          ]
        },
        {
          "output_type": "display_data",
          "data": {
            "text/plain": [
              "<IPython.core.display.Javascript object>"
            ],
            "application/javascript": [
              "addData(0.309469332441088,[0.304506],\"2023-03-08\")"
            ]
          },
          "metadata": {}
        },
        {
          "output_type": "stream",
          "name": "stdout",
          "text": [
            "x1= [0.30946933 0.29530983 0.30724627 0.29282621 0.12111566]\n",
            "y1= 0.28559534245882334\n",
            "2/2 [==============================] - 0s 59ms/step\n",
            "days= 2023-03-09\n"
          ]
        },
        {
          "output_type": "display_data",
          "data": {
            "text/plain": [
              "<IPython.core.display.Javascript object>"
            ],
            "application/javascript": [
              "addData(0.28559534245882334,[0.3000195],\"2023-03-09\")"
            ]
          },
          "metadata": {}
        },
        {
          "output_type": "stream",
          "name": "stdout",
          "text": [
            "x1= [0.28559534 0.27242571 0.23191872 0.22592175 0.19244344]\n",
            "y1= 0.22051498309313278\n",
            "2/2 [==============================] - 0s 61ms/step\n",
            "days= 2023-03-10\n"
          ]
        },
        {
          "output_type": "display_data",
          "data": {
            "text/plain": [
              "<IPython.core.display.Javascript object>"
            ],
            "application/javascript": [
              "addData(0.22051498309313278,[0.29480118],\"2023-03-10\")"
            ]
          },
          "metadata": {}
        },
        {
          "output_type": "stream",
          "name": "stdout",
          "text": [
            "x1= [0.22051498 0.20212483 0.20264495 0.21724295 0.27639563]\n",
            "y1= 0.21189942782253124\n",
            "3/3 [==============================] - 0s 40ms/step\n",
            "days= 2023-03-11\n"
          ]
        },
        {
          "output_type": "display_data",
          "data": {
            "text/plain": [
              "<IPython.core.display.Javascript object>"
            ],
            "application/javascript": [
              "addData(0.21189942782253124,[0.28812623],\"2023-03-11\")"
            ]
          },
          "metadata": {}
        },
        {
          "output_type": "stream",
          "name": "stdout",
          "text": [
            "x1= [0.21189943 0.22283678 0.22479475 0.23922251 0.19076345]\n",
            "y1= 0.23306987777210175\n",
            "3/3 [==============================] - 0s 40ms/step\n",
            "days= 2023-03-12\n"
          ]
        },
        {
          "output_type": "display_data",
          "data": {
            "text/plain": [
              "<IPython.core.display.Javascript object>"
            ],
            "application/javascript": [
              "addData(0.23306987777210175,[0.27986377],\"2023-03-12\")"
            ]
          },
          "metadata": {}
        },
        {
          "output_type": "stream",
          "name": "stdout",
          "text": [
            "x1= [0.23306988 0.291193   0.24391384 0.31484048 0.18255143]\n",
            "y1= 0.3065817611657373\n",
            "3/3 [==============================] - 0s 42ms/step\n",
            "days= 2023-03-13\n"
          ]
        },
        {
          "output_type": "display_data",
          "data": {
            "text/plain": [
              "<IPython.core.display.Javascript object>"
            ],
            "application/javascript": [
              "addData(0.3065817611657373,[0.27060467],\"2023-03-13\")"
            ]
          },
          "metadata": {}
        },
        {
          "output_type": "stream",
          "name": "stdout",
          "text": [
            "x1= [0.30658176 0.40732724 0.31781547 0.41524634 0.36649381]\n",
            "y1= 0.4049594680383426\n",
            "3/3 [==============================] - 0s 46ms/step\n",
            "days= 2023-03-14\n"
          ]
        },
        {
          "output_type": "display_data",
          "data": {
            "text/plain": [
              "<IPython.core.display.Javascript object>"
            ],
            "application/javascript": [
              "addData(0.4049594680383426,[0.2613995],\"2023-03-14\")"
            ]
          },
          "metadata": {}
        },
        {
          "output_type": "stream",
          "name": "stdout",
          "text": [
            "x1= [0.40495947 0.50373138 0.42660062 0.44232992 0.41347292]\n",
            "y1= 0.43233493646453747\n",
            "3/3 [==============================] - 0s 61ms/step\n",
            "days= 2023-03-15\n"
          ]
        },
        {
          "output_type": "display_data",
          "data": {
            "text/plain": [
              "<IPython.core.display.Javascript object>"
            ],
            "application/javascript": [
              "addData(0.43233493646453747,[0.2533885],\"2023-03-15\")"
            ]
          },
          "metadata": {}
        },
        {
          "output_type": "stream",
          "name": "stdout",
          "text": [
            "x1= [0.43233494 0.44118747 0.42075276 0.42405601 0.31354838]\n",
            "y1= 0.41321748226237776\n",
            "3/3 [==============================] - 0s 62ms/step\n",
            "days= 2023-03-16\n"
          ]
        },
        {
          "output_type": "display_data",
          "data": {
            "text/plain": [
              "<IPython.core.display.Javascript object>"
            ],
            "application/javascript": [
              "addData(0.41321748226237776,[0.24754244],\"2023-03-16\")"
            ]
          },
          "metadata": {}
        },
        {
          "output_type": "stream",
          "name": "stdout",
          "text": [
            "x1= [0.41321748 0.43871885 0.43383932 0.45747362 0.22434738]\n",
            "y1= 0.4460042581838779\n",
            "3/3 [==============================] - 0s 68ms/step\n",
            "days= 2023-03-17\n"
          ]
        },
        {
          "output_type": "display_data",
          "data": {
            "text/plain": [
              "<IPython.core.display.Javascript object>"
            ],
            "application/javascript": [
              "addData(0.4460042581838779,[0.24470104],\"2023-03-17\")"
            ]
          },
          "metadata": {}
        },
        {
          "output_type": "stream",
          "name": "stdout",
          "text": [
            "x1= [0.44600426 0.56622592 0.47055689 0.57454595 0.37801017]\n",
            "y1= 0.5611025040122715\n",
            "3/3 [==============================] - 0s 66ms/step\n",
            "days= 2023-03-18\n"
          ]
        },
        {
          "output_type": "display_data",
          "data": {
            "text/plain": [
              "<IPython.core.display.Javascript object>"
            ],
            "application/javascript": [
              "addData(0.5611025040122715,[0.24550402],\"2023-03-18\")"
            ]
          },
          "metadata": {}
        },
        {
          "output_type": "stream",
          "name": "stdout",
          "text": [
            "x1= [0.5611025  0.56318933 0.55510573 0.55193022 0.24126772]\n",
            "y1= 0.5380821596476382\n",
            "3/3 [==============================] - 0s 60ms/step\n",
            "days= 2023-03-19\n"
          ]
        },
        {
          "output_type": "display_data",
          "data": {
            "text/plain": [
              "<IPython.core.display.Javascript object>"
            ],
            "application/javascript": [
              "addData(0.5380821596476382,[0.2504531],\"2023-03-19\")"
            ]
          },
          "metadata": {}
        },
        {
          "output_type": "stream",
          "name": "stdout",
          "text": [
            "x1= [0.53808216 0.59826844 0.56875829 0.60489833 0.25991417]\n",
            "y1= 0.5896479188625205\n",
            "3/3 [==============================] - 0s 68ms/step\n",
            "days= 2023-03-20\n"
          ]
        },
        {
          "output_type": "display_data",
          "data": {
            "text/plain": [
              "<IPython.core.display.Javascript object>"
            ],
            "application/javascript": [
              "addData(0.5896479188625205,[0.25971046],\"2023-03-20\")"
            ]
          },
          "metadata": {}
        },
        {
          "output_type": "stream",
          "name": "stdout",
          "text": [
            "x1= [0.58964792 0.6025472  0.58561503 0.59149632 0.32373831]\n",
            "y1= 0.5765071115453262\n",
            "3/3 [==============================] - 0s 66ms/step\n",
            "days= 2023-03-21\n"
          ]
        },
        {
          "output_type": "display_data",
          "data": {
            "text/plain": [
              "<IPython.core.display.Javascript object>"
            ],
            "application/javascript": [
              "addData(0.5765071115453262,[0.27284262],\"2023-03-21\")"
            ]
          },
          "metadata": {}
        },
        {
          "output_type": "stream",
          "name": "stdout",
          "text": [
            "x1= [0.57650711 0.59821944 0.59551116 0.61166949 0.24472251]\n",
            "y1= 0.5952811159255509\n",
            "3/3 [==============================] - 0s 74ms/step\n",
            "days= 2023-03-22\n"
          ]
        },
        {
          "output_type": "display_data",
          "data": {
            "text/plain": [
              "<IPython.core.display.Javascript object>"
            ],
            "application/javascript": [
              "addData(0.5952811159255509,[0.28904587],\"2023-03-22\")"
            ]
          },
          "metadata": {}
        },
        {
          "output_type": "stream",
          "name": "stdout",
          "text": [
            "x1= [0.59528112 0.61607659 0.56132882 0.56879428 0.21993692]\n",
            "y1= 0.5540724919481081\n",
            "3/3 [==============================] - 0s 76ms/step\n",
            "days= 2023-03-23\n"
          ]
        },
        {
          "output_type": "display_data",
          "data": {
            "text/plain": [
              "<IPython.core.display.Javascript object>"
            ],
            "application/javascript": [
              "addData(0.5540724919481081,[0.30716777],\"2023-03-23\")"
            ]
          },
          "metadata": {}
        },
        {
          "output_type": "stream",
          "name": "stdout",
          "text": [
            "x1= [0.55407249 0.61246896 0.58262165 0.61947827 0.13645859]\n",
            "y1= 0.6032360751491481\n",
            "3/3 [==============================] - 0s 48ms/step\n",
            "days= 2023-03-24\n"
          ]
        },
        {
          "output_type": "display_data",
          "data": {
            "text/plain": [
              "<IPython.core.display.Javascript object>"
            ],
            "application/javascript": [
              "addData(0.6032360751491481,[0.32603484],\"2023-03-24\")"
            ]
          },
          "metadata": {}
        },
        {
          "output_type": "stream",
          "name": "stdout",
          "text": [
            "x1= [0.60323608 0.59570979 0.57537441 0.5779703  0.1524942 ]\n",
            "y1= 0.5629889416086336\n",
            "3/3 [==============================] - 0s 51ms/step\n",
            "days= 2023-03-25\n"
          ]
        },
        {
          "output_type": "display_data",
          "data": {
            "text/plain": [
              "<IPython.core.display.Javascript object>"
            ],
            "application/javascript": [
              "addData(0.5629889416086336,[0.34443617],\"2023-03-25\")"
            ]
          },
          "metadata": {}
        },
        {
          "output_type": "stream",
          "name": "stdout",
          "text": [
            "x1= [0.56298894 0.56642295 0.58326899 0.5780405  0.03771039]\n",
            "y1= 0.5633826500948784\n",
            "3/3 [==============================] - 0s 47ms/step\n",
            "days= 2023-03-26\n"
          ]
        },
        {
          "output_type": "display_data",
          "data": {
            "text/plain": [
              "<IPython.core.display.Javascript object>"
            ],
            "application/javascript": [
              "addData(0.5633826500948784,[0.36125582],\"2023-03-26\")"
            ]
          },
          "metadata": {}
        },
        {
          "output_type": "stream",
          "name": "stdout",
          "text": [
            "x1= [0.56338265 0.58538679 0.59578277 0.60270881 0.04222398]\n",
            "y1= 0.5873616665456984\n",
            "3/3 [==============================] - 0s 46ms/step\n",
            "days= 2023-03-27\n"
          ]
        },
        {
          "output_type": "display_data",
          "data": {
            "text/plain": [
              "<IPython.core.display.Javascript object>"
            ],
            "application/javascript": [
              "addData(0.5873616665456984,[0.375692],\"2023-03-27\")"
            ]
          },
          "metadata": {}
        },
        {
          "output_type": "stream",
          "name": "stdout",
          "text": [
            "x1= [0.58736167 0.57850364 0.55361842 0.56052175 0.08150057]\n",
            "y1= 0.5459406410536243\n",
            "3/3 [==============================] - 0s 47ms/step\n",
            "days= 2023-03-28\n"
          ]
        },
        {
          "output_type": "display_data",
          "data": {
            "text/plain": [
              "<IPython.core.display.Javascript object>"
            ],
            "application/javascript": [
              "addData(0.5459406410536243,[0.3869936],\"2023-03-28\")"
            ]
          },
          "metadata": {}
        },
        {
          "output_type": "stream",
          "name": "stdout",
          "text": [
            "x1= [0.54594064 0.55016933 0.55719578 0.56685356 0.07780762]\n",
            "y1= 0.5523926315345731\n",
            "3/3 [==============================] - 0s 47ms/step\n",
            "days= 2023-03-29\n"
          ]
        },
        {
          "output_type": "display_data",
          "data": {
            "text/plain": [
              "<IPython.core.display.Javascript object>"
            ],
            "application/javascript": [
              "addData(0.5523926315345731,[0.39455712],\"2023-03-29\")"
            ]
          },
          "metadata": {}
        },
        {
          "output_type": "stream",
          "name": "stdout",
          "text": [
            "x1= [0.55239263 0.60705444 0.58645903 0.62019265 0.10424403]\n",
            "y1= 0.6044880324245614\n",
            "3/3 [==============================] - 0s 48ms/step\n",
            "days= 2023-03-30\n"
          ]
        },
        {
          "output_type": "display_data",
          "data": {
            "text/plain": [
              "<IPython.core.display.Javascript object>"
            ],
            "application/javascript": [
              "addData(0.6044880324245614,[0.39841986],\"2023-03-30\")"
            ]
          },
          "metadata": {}
        },
        {
          "output_type": "stream",
          "name": "stdout",
          "text": [
            "x1= [0.60448803 0.63357995 0.60961932 0.60464587 0.12019331]\n",
            "y1= 0.5891986909925928\n",
            "3/3 [==============================] - 0s 53ms/step\n",
            "days= 2023-03-31\n"
          ]
        },
        {
          "output_type": "display_data",
          "data": {
            "text/plain": [
              "<IPython.core.display.Javascript object>"
            ],
            "application/javascript": [
              "addData(0.5891986909925928,[0.39893705],\"2023-03-31\")"
            ]
          },
          "metadata": {}
        },
        {
          "output_type": "stream",
          "name": "stdout",
          "text": [
            "x1= [0.58919869 0.60805357 0.60275694 0.62661337 0.08890328]\n",
            "y1= 0.6104132933722577\n",
            "3/3 [==============================] - 0s 50ms/step\n",
            "days= 2023-04-01\n"
          ]
        },
        {
          "output_type": "display_data",
          "data": {
            "text/plain": [
              "<IPython.core.display.Javascript object>"
            ],
            "application/javascript": [
              "addData(0.6104132933722577,[0.3964998],\"2023-04-01\")"
            ]
          },
          "metadata": {}
        },
        {
          "output_type": "stream",
          "name": "stdout",
          "text": [
            "x1= [0.61041329 0.61603344 0.63863955 0.62328314 0.0148714 ]\n",
            "y1= 0.6099089219083655\n",
            "3/3 [==============================] - 0s 51ms/step\n",
            "days= 2023-04-02\n"
          ]
        },
        {
          "output_type": "display_data",
          "data": {
            "text/plain": [
              "<IPython.core.display.Javascript object>"
            ],
            "application/javascript": [
              "addData(0.6099089219083655,[0.39179063],\"2023-04-02\")"
            ]
          },
          "metadata": {}
        },
        {
          "output_type": "stream",
          "name": "stdout",
          "text": [
            "x1= [0.60990892 0.60211691 0.6178639  0.61282939 0.02770235]\n",
            "y1= 0.5964527532830934\n",
            "3/3 [==============================] - 0s 50ms/step\n",
            "days= 2023-04-03\n"
          ]
        },
        {
          "output_type": "display_data",
          "data": {
            "text/plain": [
              "<IPython.core.display.Javascript object>"
            ],
            "application/javascript": [
              "addData(0.5964527532830934,[0.38541085],\"2023-04-03\")"
            ]
          },
          "metadata": {}
        },
        {
          "output_type": "stream",
          "name": "stdout",
          "text": [
            "x1= [0.59645275 0.59998961 0.58731697 0.59263115 0.09396189]\n",
            "y1= 0.5778000273027655\n",
            "3/3 [==============================] - 0s 59ms/step\n",
            "days= 2023-04-04\n"
          ]
        },
        {
          "output_type": "display_data",
          "data": {
            "text/plain": [
              "<IPython.core.display.Javascript object>"
            ],
            "application/javascript": [
              "addData(0.5778000273027655,[0.37768698],\"2023-04-04\")"
            ]
          },
          "metadata": {}
        },
        {
          "output_type": "stream",
          "name": "stdout",
          "text": [
            "x1= [0.57780003 0.59793373 0.60766512 0.611288   0.05503673]\n",
            "y1= 0.5958104758425391\n",
            "3/3 [==============================] - 0s 58ms/step\n",
            "days= 2023-04-05\n"
          ]
        },
        {
          "output_type": "display_data",
          "data": {
            "text/plain": [
              "<IPython.core.display.Javascript object>"
            ],
            "application/javascript": [
              "addData(0.5958104758425391,[0.36886555],\"2023-04-05\")"
            ]
          },
          "metadata": {}
        },
        {
          "output_type": "stream",
          "name": "stdout",
          "text": [
            "x1= [0.59581048 0.61293012 0.61583583 0.61177653 0.07114432]\n",
            "y1= 0.5960750148738765\n",
            "3/3 [==============================] - 0s 58ms/step\n",
            "days= 2023-04-06\n"
          ]
        },
        {
          "output_type": "display_data",
          "data": {
            "text/plain": [
              "<IPython.core.display.Javascript object>"
            ],
            "application/javascript": [
              "addData(0.5960750148738765,[0.3591624],\"2023-04-06\")"
            ]
          },
          "metadata": {}
        },
        {
          "output_type": "stream",
          "name": "stdout",
          "text": [
            "x1= [0.59607501 0.58539858 0.61055477 0.60516815 0.04185446]\n",
            "y1= 0.5895211918724406\n",
            "3/3 [==============================] - 0s 64ms/step\n",
            "days= 2023-04-07\n"
          ]
        },
        {
          "output_type": "display_data",
          "data": {
            "text/plain": [
              "<IPython.core.display.Javascript object>"
            ],
            "application/javascript": [
              "addData(0.5895211918724406,[0.34876645],\"2023-04-07\")"
            ]
          },
          "metadata": {}
        },
        {
          "output_type": "stream",
          "name": "stdout",
          "text": [
            "x1= [0.58952119 0.5821199  0.61333459 0.59932815 0.01473664]\n",
            "y1= 0.5838238327912795\n",
            "3/3 [==============================] - 0s 58ms/step\n",
            "days= 2023-04-08\n"
          ]
        },
        {
          "output_type": "display_data",
          "data": {
            "text/plain": [
              "<IPython.core.display.Javascript object>"
            ],
            "application/javascript": [
              "addData(0.5838238327912795,[0.3379295],\"2023-04-08\")"
            ]
          },
          "metadata": {}
        },
        {
          "output_type": "stream",
          "name": "stdout",
          "text": [
            "x1= [0.58382383 0.58448939 0.61782863 0.60041119 0.00117445]\n",
            "y1= 0.5853559233853394\n",
            "3/3 [==============================] - 0s 59ms/step\n",
            "days= 2023-04-09\n"
          ]
        },
        {
          "output_type": "display_data",
          "data": {
            "text/plain": [
              "<IPython.core.display.Javascript object>"
            ],
            "application/javascript": [
              "addData(0.5853559233853394,[0.32695812],\"2023-04-09\")"
            ]
          },
          "metadata": {}
        },
        {
          "output_type": "stream",
          "name": "stdout",
          "text": [
            "x1= [0.58535592 0.60279782 0.61506718 0.61943276 0.02670626]\n",
            "y1= 0.6038092117546099\n",
            "3/3 [==============================] - 0s 59ms/step\n",
            "days= 2023-04-10\n"
          ]
        },
        {
          "output_type": "display_data",
          "data": {
            "text/plain": [
              "<IPython.core.display.Javascript object>"
            ],
            "application/javascript": [
              "addData(0.6038092117546099,[0.3161667],\"2023-04-10\")"
            ]
          },
          "metadata": {}
        },
        {
          "output_type": "stream",
          "name": "stdout",
          "text": [
            "x1= [0.60380921 0.66360072 0.6332128  0.68460276 0.09146434]\n",
            "y1= 0.6671856617039169\n",
            "3/3 [==============================] - 0s 62ms/step\n",
            "days= 2023-04-11\n"
          ]
        },
        {
          "output_type": "display_data",
          "data": {
            "text/plain": [
              "<IPython.core.display.Javascript object>"
            ],
            "application/javascript": [
              "addData(0.6671856617039169,[0.3059461],\"2023-04-11\")"
            ]
          },
          "metadata": {}
        },
        {
          "output_type": "stream",
          "name": "stdout",
          "text": [
            "x1= [0.66718566 0.69980944 0.70463176 0.7133422  0.09910785]\n",
            "y1= 0.6949816118902483\n",
            "4/4 [==============================] - 0s 45ms/step\n",
            "days= 2023-04-12\n"
          ]
        },
        {
          "output_type": "display_data",
          "data": {
            "text/plain": [
              "<IPython.core.display.Javascript object>"
            ],
            "application/javascript": [
              "addData(0.6949816118902483,[0.29680252],\"2023-04-12\")"
            ]
          },
          "metadata": {}
        },
        {
          "output_type": "stream",
          "name": "stdout",
          "text": [
            "x1= [0.69498161 0.69752174 0.71047962 0.70860202 0.08571964]\n",
            "y1= 0.6786839972075216\n",
            "4/4 [==============================] - 0s 48ms/step\n",
            "days= 2023-04-13\n"
          ]
        },
        {
          "output_type": "display_data",
          "data": {
            "text/plain": [
              "<IPython.core.display.Javascript object>"
            ],
            "application/javascript": [
              "addData(0.6786839972075216,[0.28905183],\"2023-04-13\")"
            ]
          },
          "metadata": {}
        },
        {
          "output_type": "stream",
          "name": "stdout",
          "text": [
            "x1= [0.678684   0.70131949 0.71817706 0.72143989 0.07511163]\n",
            "y1= 0.7035421175022905\n",
            "4/4 [==============================] - 0s 48ms/step\n",
            "days= 2023-04-14\n"
          ]
        },
        {
          "output_type": "display_data",
          "data": {
            "text/plain": [
              "<IPython.core.display.Javascript object>"
            ],
            "application/javascript": [
              "addData(0.7035421175022905,[0.2827903],\"2023-04-14\")"
            ]
          },
          "metadata": {}
        },
        {
          "output_type": "stream",
          "name": "stdout",
          "text": [
            "x1= [0.70354212 0.7241831  0.72651958 0.72571729 0.12224023]\n",
            "y1= 0.7074470743398731\n",
            "4/4 [==============================] - 0s 49ms/step\n",
            "days= 2023-04-15\n"
          ]
        },
        {
          "output_type": "display_data",
          "data": {
            "text/plain": [
              "<IPython.core.display.Javascript object>"
            ],
            "application/javascript": [
              "addData(0.7074470743398731,[0.27789187],\"2023-04-15\")"
            ]
          },
          "metadata": {}
        },
        {
          "output_type": "stream",
          "name": "stdout",
          "text": [
            "x1= [0.70744707 0.70435781 0.73664802 0.71746183 0.02456829]\n",
            "y1= 0.6990408205712395\n",
            "4/4 [==============================] - 0s 48ms/step\n",
            "days= 2023-04-16\n"
          ]
        },
        {
          "output_type": "display_data",
          "data": {
            "text/plain": [
              "<IPython.core.display.Javascript object>"
            ],
            "application/javascript": [
              "addData(0.6990408205712395,[0.2741182],\"2023-04-16\")"
            ]
          },
          "metadata": {}
        },
        {
          "output_type": "stream",
          "name": "stdout",
          "text": [
            "x1= [0.69904082 0.70208976 0.7322196  0.71730676 0.03289765]\n",
            "y1= 0.6990970914381633\n",
            "4/4 [==============================] - 0s 51ms/step\n",
            "days= 2023-04-17\n"
          ]
        },
        {
          "output_type": "display_data",
          "data": {
            "text/plain": [
              "<IPython.core.display.Javascript object>"
            ],
            "application/javascript": [
              "addData(0.6990970914381633,[0.27111405],\"2023-04-17\")"
            ]
          },
          "metadata": {}
        },
        {
          "output_type": "stream",
          "name": "stdout",
          "text": [
            "x1= [0.69909709 0.69048816 0.6878371  0.67433618 0.0786148 ]\n",
            "y1= 0.6573453921569175\n",
            "4/4 [==============================] - 0s 47ms/step\n",
            "days= 2023-04-18\n"
          ]
        },
        {
          "output_type": "display_data",
          "data": {
            "text/plain": [
              "<IPython.core.display.Javascript object>"
            ],
            "application/javascript": [
              "addData(0.6573453921569175,[0.26831305],\"2023-04-18\")"
            ]
          },
          "metadata": {}
        },
        {
          "output_type": "stream",
          "name": "stdout",
          "text": [
            "x1= [0.65734539 0.69790572 0.68177559 0.72136516 0.09326966]\n",
            "y1= 0.7028026106646883\n",
            "4/4 [==============================] - 0s 47ms/step\n",
            "days= 2023-04-19\n"
          ]
        },
        {
          "output_type": "display_data",
          "data": {
            "text/plain": [
              "<IPython.core.display.Javascript object>"
            ],
            "application/javascript": [
              "addData(0.7028026106646883,[0.26522142],\"2023-04-19\")"
            ]
          },
          "metadata": {}
        },
        {
          "output_type": "stream",
          "name": "stdout",
          "text": [
            "x1= [0.70280261 0.69499732 0.65738546 0.64360762 0.13965803]\n",
            "y1= 0.6272645048456316\n",
            "4/4 [==============================] - 0s 53ms/step\n",
            "days= 2023-04-20\n"
          ]
        },
        {
          "output_type": "display_data",
          "data": {
            "text/plain": [
              "<IPython.core.display.Javascript object>"
            ],
            "application/javascript": [
              "addData(0.6272645048456316,[0.2612924],\"2023-04-20\")"
            ]
          },
          "metadata": {}
        },
        {
          "output_type": "stream",
          "name": "stdout",
          "text": [
            "x1= [0.6272645  0.62948095 0.62556743 0.61513414 0.11021601]\n",
            "y1= 0.5996344551663169\n",
            "4/4 [==============================] - 0s 50ms/step\n",
            "days= 2023-04-21\n"
          ]
        },
        {
          "output_type": "display_data",
          "data": {
            "text/plain": [
              "<IPython.core.display.Javascript object>"
            ],
            "application/javascript": [
              "addData(0.5996344551663169,[0.25599694],\"2023-04-21\")"
            ]
          },
          "metadata": {}
        },
        {
          "output_type": "stream",
          "name": "stdout",
          "text": [
            "x1= [0.59963446 0.59382141 0.58231999 0.56728703 0.10492339]\n",
            "y1= 0.5523379576176346\n",
            "4/4 [==============================] - 0s 49ms/step\n",
            "days= 2023-04-22\n"
          ]
        },
        {
          "output_type": "display_data",
          "data": {
            "text/plain": [
              "<IPython.core.display.Javascript object>"
            ],
            "application/javascript": [
              "addData(0.5523379576176346,[0.2485387],\"2023-04-22\")"
            ]
          },
          "metadata": {}
        },
        {
          "output_type": "stream",
          "name": "stdout",
          "text": [
            "x1= [0.55233796 0.57036557 0.58192795 0.59397803 0.0353662 ]\n",
            "y1= 0.578803885252797\n",
            "4/4 [==============================] - 0s 77ms/step\n",
            "days= 2023-04-23\n"
          ]
        },
        {
          "output_type": "display_data",
          "data": {
            "text/plain": [
              "<IPython.core.display.Javascript object>"
            ],
            "application/javascript": [
              "addData(0.578803885252797,[0.2387634],\"2023-04-23\")"
            ]
          },
          "metadata": {}
        },
        {
          "output_type": "stream",
          "name": "stdout",
          "text": [
            "x1= [0.57880389 0.56781795 0.593533   0.58281385 0.03226557]\n",
            "y1= 0.5680100164200756\n",
            "4/4 [==============================] - 0s 77ms/step\n",
            "days= 2023-04-24\n"
          ]
        },
        {
          "output_type": "display_data",
          "data": {
            "text/plain": [
              "<IPython.core.display.Javascript object>"
            ],
            "application/javascript": [
              "addData(0.5680100164200756,[0.22710828],\"2023-04-24\")"
            ]
          },
          "metadata": {}
        },
        {
          "output_type": "stream",
          "name": "stdout",
          "text": [
            "x1= [0.56801002 0.57565928 0.57696289 0.57955296 0.07707583]\n",
            "y1= 0.5643133276988088\n",
            "4/4 [==============================] - 0s 74ms/step\n",
            "days= 2023-04-25\n"
          ]
        },
        {
          "output_type": "display_data",
          "data": {
            "text/plain": [
              "<IPython.core.display.Javascript object>"
            ],
            "application/javascript": [
              "addData(0.5643133276988088,[0.21427888],\"2023-04-25\")"
            ]
          },
          "metadata": {}
        },
        {
          "output_type": "stream",
          "name": "stdout",
          "text": [
            "x1= [0.56431333 0.59485764 0.58385729 0.61817604 0.07734996]\n",
            "y1= 0.6020791866121706\n",
            "4/4 [==============================] - 0s 84ms/step\n",
            "days= 2023-04-26\n"
          ]
        },
        {
          "output_type": "display_data",
          "data": {
            "text/plain": [
              "<IPython.core.display.Javascript object>"
            ],
            "application/javascript": [
              "addData(0.6020791866121706,[0.2010609],\"2023-04-26\")"
            ]
          },
          "metadata": {}
        },
        {
          "output_type": "stream",
          "name": "stdout",
          "text": [
            "x1= [0.60207919 0.67461489 0.58972244 0.62385914 0.20601614]\n",
            "y1= 0.6082552711562916\n",
            "4/4 [==============================] - 0s 75ms/step\n",
            "days= 2023-04-27\n"
          ]
        },
        {
          "output_type": "display_data",
          "data": {
            "text/plain": [
              "<IPython.core.display.Javascript object>"
            ],
            "application/javascript": [
              "addData(0.6082552711562916,[0.18826137],\"2023-04-27\")"
            ]
          },
          "metadata": {}
        },
        {
          "output_type": "stream",
          "name": "stdout",
          "text": [
            "x1= [0.60825527 0.66851361 0.64395637 0.6757553  0.16318353]\n",
            "y1= 0.6588807706825488\n",
            "4/4 [==============================] - 0s 52ms/step\n",
            "days= 2023-04-28\n"
          ]
        },
        {
          "output_type": "display_data",
          "data": {
            "text/plain": [
              "<IPython.core.display.Javascript object>"
            ],
            "application/javascript": [
              "addData(0.6588807706825488,[0.17666803],\"2023-04-28\")"
            ]
          },
          "metadata": {}
        },
        {
          "output_type": "stream",
          "name": "stdout",
          "text": [
            "x1= [0.65888077 0.65384809 0.67044736 0.66916263 0.07562867]\n",
            "y1= 0.651933145259463\n",
            "4/4 [==============================] - 0s 52ms/step\n",
            "days= 2023-04-29\n"
          ]
        },
        {
          "output_type": "display_data",
          "data": {
            "text/plain": [
              "<IPython.core.display.Javascript object>"
            ],
            "application/javascript": [
              "addData(0.651933145259463,[0.1671181],\"2023-04-29\")"
            ]
          },
          "metadata": {}
        },
        {
          "output_type": "stream",
          "name": "stdout",
          "text": [
            "x1= [0.65193315 0.64794096 0.67841562 0.66463143 0.01292298]\n",
            "y1= 0.6475537842761443\n",
            "4/4 [==============================] - 0s 56ms/step\n",
            "days= 2023-04-30\n"
          ]
        },
        {
          "output_type": "display_data",
          "data": {
            "text/plain": [
              "<IPython.core.display.Javascript object>"
            ],
            "application/javascript": [
              "addData(0.6475537842761443,[0.1602755],\"2023-04-30\")"
            ]
          },
          "metadata": {}
        },
        {
          "output_type": "stream",
          "name": "stdout",
          "text": [
            "x1= [0.64755378 0.67246438 0.67972218 0.66563462 0.049275  ]\n",
            "y1= 0.6466681985525555\n",
            "4/4 [==============================] - 0s 52ms/step\n",
            "days= 2023-05-01\n"
          ]
        },
        {
          "output_type": "display_data",
          "data": {
            "text/plain": [
              "<IPython.core.display.Javascript object>"
            ],
            "application/javascript": [
              "addData(0.6466681985525555,[0.15653728],\"2023-05-01\")"
            ]
          },
          "metadata": {}
        },
        {
          "output_type": "stream",
          "name": "stdout",
          "text": [
            "x1= [0.6466682  0.64192665 0.60763938 0.60750984 0.08575308]\n",
            "y1= 0.5918399478595533\n",
            "4/4 [==============================] - 0s 52ms/step\n",
            "days= 2023-05-02\n"
          ]
        },
        {
          "output_type": "display_data",
          "data": {
            "text/plain": [
              "<IPython.core.display.Javascript object>"
            ],
            "application/javascript": [
              "addData(0.5918399478595533,[0.15566716],\"2023-05-02\")"
            ]
          },
          "metadata": {}
        },
        {
          "output_type": "stream",
          "name": "stdout",
          "text": [
            "x1= [0.59183995 0.61990368 0.61987743 0.63658949 0.06550057]\n",
            "y1= 0.6203773777193864\n",
            "4/4 [==============================] - 0s 55ms/step\n",
            "days= 2023-05-03\n"
          ]
        },
        {
          "output_type": "display_data",
          "data": {
            "text/plain": [
              "<IPython.core.display.Javascript object>"
            ],
            "application/javascript": [
              "addData(0.6203773777193864,[0.15737149],\"2023-05-03\")"
            ]
          },
          "metadata": {}
        },
        {
          "output_type": "stream",
          "name": "stdout",
          "text": [
            "x1= [0.62037738 0.63847069 0.63266546 0.65267408 0.09001168]\n",
            "y1= 0.6372506654078076\n",
            "4/4 [==============================] - 0s 58ms/step\n",
            "days= 2023-05-04\n"
          ]
        },
        {
          "output_type": "display_data",
          "data": {
            "text/plain": [
              "<IPython.core.display.Javascript object>"
            ],
            "application/javascript": [
              "addData(0.6372506654078076,[0.16129313],\"2023-05-04\")"
            ]
          },
          "metadata": {}
        },
        {
          "output_type": "stream",
          "name": "stdout",
          "text": [
            "x1= [0.63725067 0.64306796 0.65859959 0.64484351 0.05744351]\n",
            "y1= 0.6286014790977601\n",
            "4/4 [==============================] - 0s 55ms/step\n",
            "days= 2023-05-05\n"
          ]
        },
        {
          "output_type": "display_data",
          "data": {
            "text/plain": [
              "<IPython.core.display.Javascript object>"
            ],
            "application/javascript": [
              "addData(0.6286014790977601,[0.16699862],\"2023-05-05\")"
            ]
          },
          "metadata": {}
        },
        {
          "output_type": "stream",
          "name": "stdout",
          "text": [
            "x1= [0.62860148 0.65856635 0.66621766 0.67874724 0.07920141]\n",
            "y1= 0.6616630336350307\n",
            "4/4 [==============================] - 0s 57ms/step\n",
            "days= 2023-05-06\n"
          ]
        },
        {
          "output_type": "display_data",
          "data": {
            "text/plain": [
              "<IPython.core.display.Javascript object>"
            ],
            "application/javascript": [
              "addData(0.6616630336350307,[0.17396465],\"2023-05-06\")"
            ]
          },
          "metadata": {}
        },
        {
          "output_type": "display_data",
          "data": {
            "text/plain": [
              "<Figure size 1400x500 with 1 Axes>"
            ],
            "image/png": "[encoded data removed]"
          },
          "metadata": {}
        }
      ]
    }
  ]
}
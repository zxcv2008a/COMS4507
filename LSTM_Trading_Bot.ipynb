{
  "nbformat": 4,
  "nbformat_minor": 0,
  "metadata": {
    "colab": {
      "provenance": []
    },
    "kernelspec": {
      "name": "python3",
      "display_name": "Python 3"
    },
    "language_info": {
      "name": "python"
    }
  },
  "cells": [
    {
      "cell_type": "code",
      "execution_count": 12,
      "metadata": {
        "colab": {
          "base_uri": "https://localhost:8080/",
          "height": 1000
        },
        "id": "yRW1zYi4FQtR",
        "outputId": "eb95ed00-c453-46fe-fb90-85e1946b0b3b"
      },
      "outputs": [
        {
          "output_type": "stream",
          "name": "stdout",
          "text": [
            "last_trainingdate=2023-01-20:\n",
            "Above is data_training\n",
            "Above  is data_test\n",
            "Above is training_data.head())\n",
            "Model: \"sequential_9\"\n",
            "_________________________________________________________________\n",
            " Layer (type)                Output Shape              Param #   \n",
            "=================================================================\n",
            " lstm_32 (LSTM)              (None, 60, 50)            11200     \n",
            "                                                                 \n",
            " dropout_32 (Dropout)        (None, 60, 50)            0         \n",
            "                                                                 \n",
            " lstm_33 (LSTM)              (None, 60, 60)            26640     \n",
            "                                                                 \n",
            " dropout_33 (Dropout)        (None, 60, 60)            0         \n",
            "                                                                 \n",
            " lstm_34 (LSTM)              (None, 60, 80)            45120     \n",
            "                                                                 \n",
            " dropout_34 (Dropout)        (None, 60, 80)            0         \n",
            "                                                                 \n",
            " lstm_35 (LSTM)              (None, 120)               96480     \n",
            "                                                                 \n",
            " dropout_35 (Dropout)        (None, 120)               0         \n",
            "                                                                 \n",
            " dense_8 (Dense)             (None, 1)                 121       \n",
            "                                                                 \n",
            "=================================================================\n",
            "Total params: 179,561\n",
            "Trainable params: 179,561\n",
            "Non-trainable params: 0\n",
            "_________________________________________________________________\n",
            "Epoch 1/50\n",
            "4/4 [==============================] - 8s 463ms/step - loss: 0.0643 - val_loss: 0.0195\n",
            "Epoch 2/50\n",
            "4/4 [==============================] - 1s 227ms/step - loss: 0.0267 - val_loss: 0.0163\n",
            "Epoch 3/50\n",
            "4/4 [==============================] - 1s 228ms/step - loss: 0.0241 - val_loss: 0.0133\n",
            "Epoch 4/50\n",
            "4/4 [==============================] - 1s 233ms/step - loss: 0.0205 - val_loss: 0.0138\n",
            "Epoch 5/50\n",
            "4/4 [==============================] - 1s 239ms/step - loss: 0.0175 - val_loss: 0.0122\n",
            "Epoch 6/50\n",
            "4/4 [==============================] - 1s 340ms/step - loss: 0.0132 - val_loss: 0.0124\n",
            "Epoch 7/50\n",
            "4/4 [==============================] - 2s 409ms/step - loss: 0.0156 - val_loss: 0.0122\n",
            "Epoch 8/50\n",
            "4/4 [==============================] - 1s 251ms/step - loss: 0.0116 - val_loss: 0.0135\n",
            "Epoch 9/50\n",
            "4/4 [==============================] - 1s 229ms/step - loss: 0.0126 - val_loss: 0.0131\n",
            "Epoch 10/50\n",
            "4/4 [==============================] - 1s 220ms/step - loss: 0.0106 - val_loss: 0.0134\n",
            "Epoch 11/50\n",
            "4/4 [==============================] - 1s 224ms/step - loss: 0.0107 - val_loss: 0.0155\n",
            "Epoch 12/50\n",
            "4/4 [==============================] - 1s 226ms/step - loss: 0.0105 - val_loss: 0.0148\n",
            "Epoch 13/50\n",
            "4/4 [==============================] - 1s 233ms/step - loss: 0.0091 - val_loss: 0.0150\n",
            "Epoch 14/50\n",
            "4/4 [==============================] - 1s 251ms/step - loss: 0.0080 - val_loss: 0.0157\n",
            "Epoch 15/50\n",
            "4/4 [==============================] - 1s 231ms/step - loss: 0.0083 - val_loss: 0.0150\n",
            "Epoch 16/50\n",
            "4/4 [==============================] - 1s 247ms/step - loss: 0.0095 - val_loss: 0.0165\n",
            "Epoch 17/50\n",
            "4/4 [==============================] - 1s 235ms/step - loss: 0.0095 - val_loss: 0.0168\n",
            "Epoch 18/50\n",
            "4/4 [==============================] - 1s 242ms/step - loss: 0.0079 - val_loss: 0.0146\n",
            "Epoch 19/50\n",
            "4/4 [==============================] - 2s 412ms/step - loss: 0.0076 - val_loss: 0.0145\n",
            "Epoch 20/50\n",
            "4/4 [==============================] - 2s 447ms/step - loss: 0.0092 - val_loss: 0.0173\n",
            "Epoch 21/50\n",
            "4/4 [==============================] - 1s 281ms/step - loss: 0.0087 - val_loss: 0.0160\n",
            "Epoch 22/50\n",
            "4/4 [==============================] - 2s 428ms/step - loss: 0.0074 - val_loss: 0.0139\n",
            "Epoch 23/50\n",
            "4/4 [==============================] - 1s 282ms/step - loss: 0.0079 - val_loss: 0.0175\n",
            "Epoch 24/50\n",
            "4/4 [==============================] - 1s 321ms/step - loss: 0.0075 - val_loss: 0.0166\n",
            "Epoch 25/50\n",
            "4/4 [==============================] - 1s 319ms/step - loss: 0.0069 - val_loss: 0.0128\n",
            "Epoch 26/50\n",
            "4/4 [==============================] - 1s 274ms/step - loss: 0.0071 - val_loss: 0.0144\n",
            "Epoch 27/50\n",
            "4/4 [==============================] - 1s 230ms/step - loss: 0.0072 - val_loss: 0.0189\n",
            "Epoch 28/50\n",
            "4/4 [==============================] - 1s 247ms/step - loss: 0.0063 - val_loss: 0.0165\n",
            "Epoch 29/50\n",
            "4/4 [==============================] - 2s 443ms/step - loss: 0.0062 - val_loss: 0.0146\n",
            "Epoch 30/50\n",
            "4/4 [==============================] - 2s 381ms/step - loss: 0.0048 - val_loss: 0.0145\n",
            "Epoch 31/50\n",
            "4/4 [==============================] - 1s 225ms/step - loss: 0.0073 - val_loss: 0.0108\n",
            "Epoch 32/50\n",
            "4/4 [==============================] - 1s 229ms/step - loss: 0.0063 - val_loss: 0.0129\n",
            "Epoch 33/50\n",
            "4/4 [==============================] - 1s 228ms/step - loss: 0.0063 - val_loss: 0.0159\n",
            "Epoch 34/50\n",
            "4/4 [==============================] - 1s 224ms/step - loss: 0.0062 - val_loss: 0.0093\n",
            "Epoch 35/50\n",
            "4/4 [==============================] - 1s 220ms/step - loss: 0.0070 - val_loss: 0.0147\n",
            "Epoch 36/50\n",
            "4/4 [==============================] - 1s 230ms/step - loss: 0.0060 - val_loss: 0.0158\n",
            "Epoch 37/50\n",
            "4/4 [==============================] - 1s 228ms/step - loss: 0.0047 - val_loss: 0.0161\n",
            "Epoch 38/50\n",
            "4/4 [==============================] - 1s 223ms/step - loss: 0.0053 - val_loss: 0.0175\n",
            "Epoch 39/50\n",
            "4/4 [==============================] - 1s 229ms/step - loss: 0.0049 - val_loss: 0.0140\n",
            "Epoch 40/50\n",
            "4/4 [==============================] - 1s 383ms/step - loss: 0.0061 - val_loss: 0.0175\n",
            "Epoch 41/50\n",
            "4/4 [==============================] - 2s 456ms/step - loss: 0.0071 - val_loss: 0.0122\n",
            "Epoch 42/50\n",
            "4/4 [==============================] - 2s 371ms/step - loss: 0.0064 - val_loss: 0.0094\n",
            "Epoch 43/50\n",
            "4/4 [==============================] - 1s 220ms/step - loss: 0.0055 - val_loss: 0.0160\n",
            "Epoch 44/50\n",
            "4/4 [==============================] - 1s 228ms/step - loss: 0.0057 - val_loss: 0.0158\n",
            "Epoch 45/50\n",
            "4/4 [==============================] - 1s 249ms/step - loss: 0.0052 - val_loss: 0.0164\n",
            "Epoch 46/50\n",
            "4/4 [==============================] - 1s 239ms/step - loss: 0.0041 - val_loss: 0.0114\n",
            "Epoch 47/50\n",
            "4/4 [==============================] - 1s 232ms/step - loss: 0.0039 - val_loss: 0.0097\n",
            "Epoch 48/50\n",
            "4/4 [==============================] - 1s 243ms/step - loss: 0.0041 - val_loss: 0.0128\n",
            "Epoch 49/50\n",
            "4/4 [==============================] - 1s 228ms/step - loss: 0.0043 - val_loss: 0.0193\n",
            "Epoch 50/50\n",
            "4/4 [==============================] - 1s 222ms/step - loss: 0.0048 - val_loss: 0.0093\n"
          ]
        },
        {
          "output_type": "display_data",
          "data": {
            "text/plain": [
              "<Figure size 640x480 with 1 Axes>"
            ],
            "image/png": "[encoded data removed]"
          },
          "metadata": {}
        },
        {
          "output_type": "display_data",
          "data": {
            "text/plain": [
              "<IPython.core.display.HTML object>"
            ],
            "text/html": [
              "\n",
              "    <canvas id=\"myChart\"></canvas>\n",
              "  "
            ]
          },
          "metadata": {}
        },
        {
          "output_type": "display_data",
          "data": {
            "text/plain": [
              "<IPython.core.display.HTML object>"
            ],
            "text/html": [
              "\n",
              "        <script src=\"https://cdn.jsdelivr.net/npm/chart.js@2.8.0\"></script>\n",
              "        <script>\n",
              "          var ctx = document.getElementById('myChart').getContext('2d');\n",
              "          var chart = new Chart(ctx, {\n",
              "              // The type of chart we want to create\n",
              "              type: 'line',\n",
              "\n",
              "              // The data for our dataset\n",
              "              data: {\n",
              "                  labels: [getDateTime(-10), getDateTime(-20), getDateTime(-30),\n",
              "                                  getDateTime(-40), getDateTime(-50), getDateTime(-60) ],\n",
              "                  datasets: [{\n",
              "                      label: 'Actual',\n",
              "                      borderColor: 'rgb(255, 99, 132)',\n",
              "                      data: [0,1,2,3,4,5]\n",
              "                  }, \n",
              "                  {\n",
              "                      label: 'Predicted',\n",
              "                      borderColor: 'rgb(155, 199, 32)',\n",
              "                      data: [0,1,2,3,4,5]\n",
              "                  }]\n",
              "              },\n",
              "\n",
              "              // Configuration options go here\n",
              "              options: { animation: {duration: 0} ,\n",
              "                scales: {x: {\n",
              "                           type: 'time',\n",
              "                           time: { unit: 'minute',displayFormats: {minute: 'HH:mm'},tooltipFormat: 'HH:mm'},\n",
              "                           title: {display: true, text: 'Date'}},\n",
              "                         y: {\n",
              "                           title: { display: true, text: 'value'}},\n",
              "                         xAxes: [{ scaleLabel: { display: true, labelString: 'Timestamp [YYYY-MM-DD hh:mm:ss]'}}],\n",
              "                        yAxes: [{scaleLabel: {display: true, labelString: 'BitCoin Price [USD $]'} }], },\n",
              "                title: { display: true, text: 'Bitcoin Price - Realtime Prediction'}}});\n",
              "\n",
              "          function getEpoch(offset_sec=0) {\n",
              "             var now     = new Date(); \n",
              "             return Math.floor((now.getTime() - offset_sec*1000)/1000);}\n",
              "\n",
              "          function getDateTime(offset_sec=0) {\n",
              "             var now     = new Date(); \n",
              "             var numberOfMlSeconds = now.getTime() - offset_sec*1000;\n",
              "             var update_now = new Date (numberOfMlSeconds);\n",
              "             var year    = update_now.getFullYear();\n",
              "             var month   = update_now.getMonth()+1; \n",
              "             var day     = update_now.getDate();\n",
              "             var hour    = update_now.getHours();\n",
              "             var minute  = update_now.getMinutes();\n",
              "             var second  = update_now.getSeconds(); \n",
              "             if(month.toString().length == 1) {\n",
              "                 month = '0'+month;}\n",
              "             if(day.toString().length == 1) {\n",
              "                 day = '0'+day;}   \n",
              "             if(hour.toString().length == 1) {\n",
              "                 hour = '0'+hour;}\n",
              "             if(minute.toString().length == 1) {\n",
              "                 minute = '0'+minute; }\n",
              "             if(second.toString().length == 1) {\n",
              "                 second = '0'+second;}   \n",
              "             var dateTime = year+'-'+month+'-'+day+' '+hour+':'+minute+':'+second;   \n",
              "             return dateTime;\n",
              "          }\n",
              "\n",
              "          function addData(value, value2){\n",
              "            chart.data.labels.push(getDateTime())\n",
              "            chart.data.datasets[0].data.push(value)\n",
              "            chart.data.datasets[1].data.push(value2)\n",
              "            // optional windowing\n",
              "            if(chart.data.labels.length > 100) {\n",
              "              chart.data.labels.shift()\n",
              "              chart.data.datasets[0].data.shift()\n",
              "              chart.data.datasets[1].data.shift() }\n",
              "\n",
              "            chart.update();\n",
              "          }\n",
              "        </script>\n",
              "        "
            ]
          },
          "metadata": {}
        },
        {
          "output_type": "stream",
          "name": "stderr",
          "text": [
            "<ipython-input-12-3a78175e2945>:368: FutureWarning: The frame.append method is deprecated and will be removed from pandas in a future version. Use pandas.concat instead.\n",
            "  df= part_60_days.append(live_data, ignore_index = True)\n"
          ]
        },
        {
          "output_type": "stream",
          "name": "stdout",
          "text": [
            "days= 0      2022-11-21\n",
            "1      2022-11-22\n",
            "2      2022-11-23\n",
            "3      2022-11-24\n",
            "4      2022-11-25\n",
            "          ...    \n",
            "176    2023-05-16\n",
            "177    2023-05-17\n",
            "178    2023-05-18\n",
            "179    2023-05-19\n",
            "180    2023-05-20\n",
            "Name: Date, Length: 181, dtype: object\n",
            "inputs.shape[0]= 181\n",
            "x1= [0.30633151 0.30693383 0.32423658 0.33111528 0.12076167]\n",
            "y1= 0.33122974168956754\n",
            "1/1 [==============================] - 1s 668ms/step\n",
            "days= 2023-01-20\n"
          ]
        },
        {
          "output_type": "display_data",
          "data": {
            "text/plain": [
              "<IPython.core.display.Javascript object>"
            ],
            "application/javascript": [
              "addData(0.33122974168956754,[0.21064964],\"2023-01-20\")"
            ]
          },
          "metadata": {}
        },
        {
          "output_type": "stream",
          "name": "stdout",
          "text": [
            "x1= [0.33122974 0.40253697 0.3391371  0.43044406 0.18947541]\n",
            "y1= 0.43066943179366546\n",
            "1/1 [==============================] - 0s 48ms/step\n",
            "days= 2023-01-21\n"
          ]
        },
        {
          "output_type": "display_data",
          "data": {
            "text/plain": [
              "<IPython.core.display.Javascript object>"
            ],
            "application/javascript": [
              "addData(0.43066943179366546,[0.23460355],\"2023-01-21\")"
            ]
          },
          "metadata": {}
        },
        {
          "output_type": "stream",
          "name": "stdout",
          "text": [
            "x1= [0.43066943 0.4394187  0.44066678 0.43675909 0.22221444]\n",
            "y1= 0.436950318691782\n",
            "1/1 [==============================] - 0s 55ms/step\n",
            "days= 2023-01-22\n"
          ]
        },
        {
          "output_type": "display_data",
          "data": {
            "text/plain": [
              "<IPython.core.display.Javascript object>"
            ],
            "application/javascript": [
              "addData(0.436950318691782,[0.2598999],\"2023-01-22\")"
            ]
          },
          "metadata": {}
        },
        {
          "output_type": "stream",
          "name": "stdout",
          "text": [
            "x1= [0.43695032 0.42531482 0.43276643 0.43318466 0.1530551 ]\n",
            "y1= 0.4333964439481015\n",
            "1/1 [==============================] - 0s 53ms/step\n",
            "days= 2023-01-23\n"
          ]
        },
        {
          "output_type": "display_data",
          "data": {
            "text/plain": [
              "<IPython.core.display.Javascript object>"
            ],
            "application/javascript": [
              "addData(0.4333964439481015,[0.28651047],\"2023-01-23\")"
            ]
          },
          "metadata": {}
        },
        {
          "output_type": "stream",
          "name": "stdout",
          "text": [
            "x1= [0.43339644 0.42967543 0.4497488  0.44655643 0.16898205]\n",
            "y1= 0.44642178778158215\n",
            "1/1 [==============================] - 0s 51ms/step\n",
            "days= 2023-01-24\n"
          ]
        },
        {
          "output_type": "display_data",
          "data": {
            "text/plain": [
              "<IPython.core.display.Javascript object>"
            ],
            "application/javascript": [
              "addData(0.44642178778158215,[0.31369603],\"2023-01-24\")"
            ]
          },
          "metadata": {}
        },
        {
          "output_type": "stream",
          "name": "stdout",
          "text": [
            "x1= [0.44642179 0.43014586 0.44308342 0.4279396  0.1679609 ]\n",
            "y1= 0.4282859495439981\n",
            "1/1 [==============================] - 0s 52ms/step\n",
            "days= 2023-01-25\n"
          ]
        },
        {
          "output_type": "display_data",
          "data": {
            "text/plain": [
              "<IPython.core.display.Javascript object>"
            ],
            "application/javascript": [
              "addData(0.4282859495439981,[0.3409211],\"2023-01-25\")"
            ]
          },
          "metadata": {}
        },
        {
          "output_type": "stream",
          "name": "stdout",
          "text": [
            "x1= [0.42828595 0.46690867 0.43392508 0.45801706 0.2064259 ]\n",
            "y1= 0.4576226173275517\n",
            "1/1 [==============================] - 0s 56ms/step\n",
            "days= 2023-01-26\n"
          ]
        },
        {
          "output_type": "display_data",
          "data": {
            "text/plain": [
              "<IPython.core.display.Javascript object>"
            ],
            "application/javascript": [
              "addData(0.4576226173275517,[0.36742568],\"2023-01-26\")"
            ]
          },
          "metadata": {}
        },
        {
          "output_type": "stream",
          "name": "stdout",
          "text": [
            "x1= [0.45762262 0.43658879 0.46613604 0.45270111 0.16753646]\n",
            "y1= 0.45273585653946746\n",
            "1/1 [==============================] - 0s 52ms/step\n",
            "days= 2023-01-27\n"
          ]
        },
        {
          "output_type": "display_data",
          "data": {
            "text/plain": [
              "<IPython.core.display.Javascript object>"
            ],
            "application/javascript": [
              "addData(0.45273585653946746,[0.39243335],\"2023-01-27\")"
            ]
          },
          "metadata": {}
        },
        {
          "output_type": "stream",
          "name": "stdout",
          "text": [
            "x1= [0.45273586 0.4478812  0.44976723 0.45557215 0.15877906]\n",
            "y1= 0.4558118881430928\n",
            "1/1 [==============================] - 0s 49ms/step\n",
            "days= 2023-01-28\n"
          ]
        },
        {
          "output_type": "display_data",
          "data": {
            "text/plain": [
              "<IPython.core.display.Javascript object>"
            ],
            "application/javascript": [
              "addData(0.4558118881430928,[0.41520864],\"2023-01-28\")"
            ]
          },
          "metadata": {}
        },
        {
          "output_type": "stream",
          "name": "stdout",
          "text": [
            "x1= [0.45581189 0.43213905 0.46597493 0.45259567 0.06288916]\n",
            "y1= 0.4527816035965879\n",
            "1/1 [==============================] - 0s 51ms/step\n",
            "days= 2023-01-29\n"
          ]
        },
        {
          "output_type": "display_data",
          "data": {
            "text/plain": [
              "<IPython.core.display.Javascript object>"
            ],
            "application/javascript": [
              "addData(0.4527816035965879,[0.43488866],\"2023-01-29\")"
            ]
          },
          "metadata": {}
        },
        {
          "output_type": "stream",
          "name": "stdout",
          "text": [
            "x1= [0.4527816  0.47927307 0.47083399 0.49904836 0.17711474]\n",
            "y1= 0.4992018055070062\n",
            "1/1 [==============================] - 0s 54ms/step\n",
            "days= 2023-01-30\n"
          ]
        },
        {
          "output_type": "display_data",
          "data": {
            "text/plain": [
              "<IPython.core.display.Javascript object>"
            ],
            "application/javascript": [
              "addData(0.4992018055070062,[0.45134497],\"2023-01-30\")"
            ]
          },
          "metadata": {}
        },
        {
          "output_type": "stream",
          "name": "stdout",
          "text": [
            "x1= [0.49920181 0.47111251 0.44995772 0.44066497 0.17515485]\n",
            "y1= 0.4408734636565561\n",
            "1/1 [==============================] - 0s 88ms/step\n",
            "days= 2023-01-31\n"
          ]
        },
        {
          "output_type": "display_data",
          "data": {
            "text/plain": [
              "<IPython.core.display.Javascript object>"
            ],
            "application/javascript": [
              "addData(0.4408734636565561,[0.4642884],\"2023-01-31\")"
            ]
          },
          "metadata": {}
        },
        {
          "output_type": "stream",
          "name": "stdout",
          "text": [
            "x1= [0.44087346 0.4358351  0.45684149 0.45935563 0.13590379]\n",
            "y1= 0.45942651501510623\n",
            "1/1 [==============================] - 0s 97ms/step\n",
            "days= 2023-02-01\n"
          ]
        },
        {
          "output_type": "display_data",
          "data": {
            "text/plain": [
              "<IPython.core.display.Javascript object>"
            ],
            "application/javascript": [
              "addData(0.45942651501510623,[0.4735983],\"2023-02-01\")"
            ]
          },
          "metadata": {}
        },
        {
          "output_type": "stream",
          "name": "stdout",
          "text": [
            "x1= [0.45942652 0.46956166 0.46399269 0.49587456 0.17046083]\n",
            "y1= 0.49583994633146444\n",
            "1/1 [==============================] - 0s 89ms/step\n",
            "days= 2023-02-02\n"
          ]
        },
        {
          "output_type": "display_data",
          "data": {
            "text/plain": [
              "<IPython.core.display.Javascript object>"
            ],
            "application/javascript": [
              "addData(0.49583994633146444,[0.47942007],\"2023-02-02\")"
            ]
          },
          "metadata": {}
        },
        {
          "output_type": "stream",
          "name": "stdout",
          "text": [
            "x1= [0.49583995 0.49473366 0.5016571  0.48013585 0.21884142]\n",
            "y1= 0.4801367531491205\n",
            "1/1 [==============================] - 0s 97ms/step\n",
            "days= 2023-02-03\n"
          ]
        },
        {
          "output_type": "display_data",
          "data": {
            "text/plain": [
              "<IPython.core.display.Javascript object>"
            ],
            "application/javascript": [
              "addData(0.4801367531491205,[0.48218435],\"2023-02-03\")"
            ]
          },
          "metadata": {}
        },
        {
          "output_type": "stream",
          "name": "stdout",
          "text": [
            "x1= [0.48013675 0.46415836 0.4896319  0.47872699 0.17405373]\n",
            "y1= 0.4786944402330271\n",
            "1/1 [==============================] - 0s 77ms/step\n",
            "days= 2023-02-04\n"
          ]
        },
        {
          "output_type": "display_data",
          "data": {
            "text/plain": [
              "<IPython.core.display.Javascript object>"
            ],
            "application/javascript": [
              "addData(0.4786944402330271,[0.48220885],\"2023-02-04\")"
            ]
          },
          "metadata": {}
        },
        {
          "output_type": "stream",
          "name": "stdout",
          "text": [
            "x1= [0.47869444 0.45658471 0.49038665 0.47138713 0.07121401]\n",
            "y1= 0.47156948976924196\n",
            "1/1 [==============================] - 0s 75ms/step\n",
            "days= 2023-02-05\n"
          ]
        },
        {
          "output_type": "display_data",
          "data": {
            "text/plain": [
              "<IPython.core.display.Javascript object>"
            ],
            "application/javascript": [
              "addData(0.47156948976924196,[0.4799319],\"2023-02-05\")"
            ]
          },
          "metadata": {}
        },
        {
          "output_type": "stream",
          "name": "stdout",
          "text": [
            "x1= [0.47156949 0.44823845 0.46169843 0.44788316 0.10648581]\n",
            "y1= 0.4479454694884246\n",
            "1/1 [==============================] - 0s 81ms/step\n",
            "days= 2023-02-06\n"
          ]
        },
        {
          "output_type": "display_data",
          "data": {
            "text/plain": [
              "<IPython.core.display.Javascript object>"
            ],
            "application/javascript": [
              "addData(0.4479454694884246,[0.47570133],\"2023-02-06\")"
            ]
          },
          "metadata": {}
        },
        {
          "output_type": "stream",
          "name": "stdout",
          "text": [
            "x1= [0.44794547 0.4292249  0.45215337 0.43566471 0.1447751 ]\n",
            "y1= 0.435656226160811\n",
            "1/1 [==============================] - 0s 84ms/step\n",
            "days= 2023-02-07\n"
          ]
        },
        {
          "output_type": "display_data",
          "data": {
            "text/plain": [
              "<IPython.core.display.Javascript object>"
            ],
            "application/javascript": [
              "addData(0.435656226160811,[0.46967196],\"2023-02-07\")"
            ]
          },
          "metadata": {}
        },
        {
          "output_type": "stream",
          "name": "stdout",
          "text": [
            "x1= [0.43565623 0.44120824 0.45624797 0.46716617 0.17499641]\n",
            "y1= 0.46727024308647014\n",
            "1/1 [==============================] - 0s 83ms/step\n",
            "days= 2023-02-08\n"
          ]
        },
        {
          "output_type": "display_data",
          "data": {
            "text/plain": [
              "<IPython.core.display.Javascript object>"
            ],
            "application/javascript": [
              "addData(0.46727024308647014,[0.46201402],\"2023-02-08\")"
            ]
          },
          "metadata": {}
        },
        {
          "output_type": "stream",
          "name": "stdout",
          "text": [
            "x1= [0.46727024 0.44477047 0.4546441  0.44686676 0.15867151]\n",
            "y1= 0.44747982553028987\n",
            "1/1 [==============================] - 0s 103ms/step\n",
            "days= 2023-02-09\n"
          ]
        },
        {
          "output_type": "display_data",
          "data": {
            "text/plain": [
              "<IPython.core.display.Javascript object>"
            ],
            "application/javascript": [
              "addData(0.44747982553028987,[0.45306748],\"2023-02-09\")"
            ]
          },
          "metadata": {}
        },
        {
          "output_type": "stream",
          "name": "stdout",
          "text": [
            "x1= [0.44747983 0.42154576 0.39363074 0.37686629 0.22338533]\n",
            "y1= 0.377052426093045\n",
            "1/1 [==============================] - 0s 84ms/step\n",
            "days= 2023-02-10\n"
          ]
        },
        {
          "output_type": "display_data",
          "data": {
            "text/plain": [
              "<IPython.core.display.Javascript object>"
            ],
            "application/javascript": [
              "addData(0.377052426093045,[0.44265598],\"2023-02-10\")"
            ]
          },
          "metadata": {}
        },
        {
          "output_type": "stream",
          "name": "stdout",
          "text": [
            "x1= [0.37705243 0.35557938 0.37867693 0.36637862 0.17401186]\n",
            "y1= 0.3666113635732986\n",
            "1/1 [==============================] - 0s 113ms/step\n",
            "days= 2023-02-11\n"
          ]
        },
        {
          "output_type": "display_data",
          "data": {
            "text/plain": [
              "<IPython.core.display.Javascript object>"
            ],
            "application/javascript": [
              "addData(0.3666113635732986,[0.4304245],\"2023-02-11\")"
            ]
          },
          "metadata": {}
        },
        {
          "output_type": "stream",
          "name": "stdout",
          "text": [
            "x1= [0.36661136 0.3524678  0.38371652 0.38010502 0.0776567 ]\n",
            "y1= 0.38029387905821666\n",
            "1/1 [==============================] - 0s 89ms/step\n",
            "days= 2023-02-12\n"
          ]
        },
        {
          "output_type": "display_data",
          "data": {
            "text/plain": [
              "<IPython.core.display.Javascript object>"
            ],
            "application/javascript": [
              "addData(0.38029387905821666,[0.41668564],\"2023-02-12\")"
            ]
          },
          "metadata": {}
        },
        {
          "output_type": "stream",
          "name": "stdout",
          "text": [
            "x1= [0.38029388 0.36306891 0.38782046 0.37493965 0.09082035]\n",
            "y1= 0.3750533410575474\n",
            "1/1 [==============================] - 0s 120ms/step\n",
            "days= 2023-02-13\n"
          ]
        },
        {
          "output_type": "display_data",
          "data": {
            "text/plain": [
              "<IPython.core.display.Javascript object>"
            ],
            "application/javascript": [
              "addData(0.3750533410575474,[0.4022445],\"2023-02-13\")"
            ]
          },
          "metadata": {}
        },
        {
          "output_type": "stream",
          "name": "stdout",
          "text": [
            "x1= [0.37505334 0.35290563 0.37362153 0.37618291 0.14561746]\n",
            "y1= 0.37597913936693694\n",
            "1/1 [==============================] - 0s 108ms/step\n",
            "days= 2023-02-14\n"
          ]
        },
        {
          "output_type": "display_data",
          "data": {
            "text/plain": [
              "<IPython.core.display.Javascript object>"
            ],
            "application/javascript": [
              "addData(0.37597913936693694,[0.38785458],\"2023-02-14\")"
            ]
          },
          "metadata": {}
        },
        {
          "output_type": "stream",
          "name": "stdout",
          "text": [
            "x1= [0.37597914 0.37758095 0.38460549 0.40196875 0.17144342]\n",
            "y1= 0.40213510631365157\n",
            "1/1 [==============================] - 0s 131ms/step\n",
            "days= 2023-02-15\n"
          ]
        },
        {
          "output_type": "display_data",
          "data": {
            "text/plain": [
              "<IPython.core.display.Javascript object>"
            ],
            "application/javascript": [
              "addData(0.40213510631365157,[0.37421566],\"2023-02-15\")"
            ]
          },
          "metadata": {}
        },
        {
          "output_type": "stream",
          "name": "stdout",
          "text": [
            "x1= [0.40213511 0.50352484 0.41331537 0.53236761 0.2225832 ]\n",
            "y1= 0.53247430537455\n",
            "1/1 [==============================] - 0s 70ms/step\n",
            "days= 2023-02-16\n"
          ]
        },
        {
          "output_type": "display_data",
          "data": {
            "text/plain": [
              "<IPython.core.display.Javascript object>"
            ],
            "application/javascript": [
              "addData(0.53247430537455,[0.3625998],\"2023-02-16\")"
            ]
          },
          "metadata": {}
        },
        {
          "output_type": "stream",
          "name": "stdout",
          "text": [
            "x1= [0.53247431 0.55517733 0.51019454 0.48960809 0.28399129]\n",
            "y1= 0.4896226173260525\n",
            "1/1 [==============================] - 0s 73ms/step\n",
            "days= 2023-02-17\n"
          ]
        },
        {
          "output_type": "display_data",
          "data": {
            "text/plain": [
              "<IPython.core.display.Javascript object>"
            ],
            "application/javascript": [
              "addData(0.4896226173260525,[0.35429025],\"2023-02-17\")"
            ]
          },
          "metadata": {}
        },
        {
          "output_type": "stream",
          "name": "stdout",
          "text": [
            "x1= [0.48962262 0.54204496 0.50115734 0.54847253 0.30233986]\n",
            "y1= 0.5485856842132841\n",
            "1/1 [==============================] - 0s 76ms/step\n",
            "days= 2023-02-18\n"
          ]
        },
        {
          "output_type": "display_data",
          "data": {
            "text/plain": [
              "<IPython.core.display.Javascript object>"
            ],
            "application/javascript": [
              "addData(0.5485856842132841,[0.34983534],\"2023-02-18\")"
            ]
          },
          "metadata": {}
        },
        {
          "output_type": "stream",
          "name": "stdout",
          "text": [
            "x1= [0.54858568 0.53421808 0.56538952 0.55320079 0.10703546]\n",
            "y1= 0.553253347164421\n",
            "1/1 [==============================] - 0s 87ms/step\n",
            "days= 2023-02-19\n"
          ]
        },
        {
          "output_type": "display_data",
          "data": {
            "text/plain": [
              "<IPython.core.display.Javascript object>"
            ],
            "application/javascript": [
              "addData(0.553253347164421,[0.34964198],\"2023-02-19\")"
            ]
          },
          "metadata": {}
        },
        {
          "output_type": "stream",
          "name": "stdout",
          "text": [
            "x1= [0.55325335 0.55261042 0.55641843 0.53360477 0.16032268]\n",
            "y1= 0.5343027234727291\n",
            "1/1 [==============================] - 0s 86ms/step\n",
            "days= 2023-02-20\n"
          ]
        },
        {
          "output_type": "display_data",
          "data": {
            "text/plain": [
              "<IPython.core.display.Javascript object>"
            ],
            "application/javascript": [
              "addData(0.5343027234727291,[0.35371166],\"2023-02-20\")"
            ]
          },
          "metadata": {}
        },
        {
          "output_type": "stream",
          "name": "stdout",
          "text": [
            "x1= [0.53430272 0.54807228 0.53093684 0.56493904 0.19116687]\n",
            "y1= 0.5653094635209273\n",
            "2/2 [==============================] - 0s 22ms/step\n",
            "days= 2023-02-21\n"
          ]
        },
        {
          "output_type": "display_data",
          "data": {
            "text/plain": [
              "<IPython.core.display.Javascript object>"
            ],
            "application/javascript": [
              "addData(0.5653094635209273,[0.36144787],\"2023-02-21\")"
            ]
          },
          "metadata": {}
        },
        {
          "output_type": "stream",
          "name": "stdout",
          "text": [
            "x1= [0.56530946 0.55472314 0.54830481 0.54039707 0.21151886]\n",
            "y1= 0.5405983714109499\n",
            "2/2 [==============================] - 0s 26ms/step\n",
            "days= 2023-02-22\n"
          ]
        },
        {
          "output_type": "display_data",
          "data": {
            "text/plain": [
              "<IPython.core.display.Javascript object>"
            ],
            "application/javascript": [
              "addData(0.5405983714109499,[0.37197453],\"2023-02-22\")"
            ]
          },
          "metadata": {}
        },
        {
          "output_type": "stream",
          "name": "stdout",
          "text": [
            "x1= [0.54059837 0.51380802 0.51285883 0.52493257 0.20206411]\n",
            "y1= 0.5251895452653423\n",
            "2/2 [==============================] - 0s 26ms/step\n",
            "days= 2023-02-23\n"
          ]
        },
        {
          "output_type": "display_data",
          "data": {
            "text/plain": [
              "<IPython.core.display.Javascript object>"
            ],
            "application/javascript": [
              "addData(0.5251895452653423,[0.3838994],\"2023-02-23\")"
            ]
          },
          "metadata": {}
        },
        {
          "output_type": "stream",
          "name": "stdout",
          "text": [
            "x1= [0.52518955 0.52004363 0.51602076 0.50985283 0.2045468 ]\n",
            "y1= 0.5099049071564483\n",
            "2/2 [==============================] - 0s 31ms/step\n",
            "days= 2023-02-24\n"
          ]
        },
        {
          "output_type": "display_data",
          "data": {
            "text/plain": [
              "<IPython.core.display.Javascript object>"
            ],
            "application/javascript": [
              "addData(0.5099049071564483,[0.39577347],\"2023-02-24\")"
            ]
          },
          "metadata": {}
        },
        {
          "output_type": "stream",
          "name": "stdout",
          "text": [
            "x1= [0.50990491 0.49076376 0.47223654 0.46303221 0.1716155 ]\n",
            "y1= 0.4633170880417319\n",
            "2/2 [==============================] - 0s 27ms/step\n",
            "days= 2023-02-25\n"
          ]
        },
        {
          "output_type": "display_data",
          "data": {
            "text/plain": [
              "<IPython.core.display.Javascript object>"
            ],
            "application/javascript": [
              "addData(0.4633170880417319,[0.40612352],\"2023-02-25\")"
            ]
          },
          "metadata": {}
        },
        {
          "output_type": "stream",
          "name": "stdout",
          "text": [
            "x1= [0.46331709 0.43490926 0.46296054 0.46161066 0.0753606 ]\n",
            "y1= 0.4616947147083117\n",
            "2/2 [==============================] - 0s 31ms/step\n",
            "days= 2023-02-26\n"
          ]
        },
        {
          "output_type": "display_data",
          "data": {
            "text/plain": [
              "<IPython.core.display.Javascript object>"
            ],
            "application/javascript": [
              "addData(0.4616947147083117,[0.4138549],\"2023-02-26\")"
            ]
          },
          "metadata": {}
        },
        {
          "output_type": "stream",
          "name": "stdout",
          "text": [
            "x1= [0.46169471 0.46267455 0.4771545  0.48571796 0.08024759]\n",
            "y1= 0.4858855103852415\n",
            "2/2 [==============================] - 0s 33ms/step\n",
            "days= 2023-02-27\n"
          ]
        },
        {
          "output_type": "display_data",
          "data": {
            "text/plain": [
              "<IPython.core.display.Javascript object>"
            ],
            "application/javascript": [
              "addData(0.4858855103852415,[0.4186821],\"2023-02-27\")"
            ]
          },
          "metadata": {}
        },
        {
          "output_type": "stream",
          "name": "stdout",
          "text": [
            "x1= [0.48588551 0.47539729 0.48490979 0.48332235 0.13431259]\n",
            "y1= 0.4834112659897367\n",
            "2/2 [==============================] - 0s 36ms/step\n",
            "days= 2023-02-28\n"
          ]
        },
        {
          "output_type": "display_data",
          "data": {
            "text/plain": [
              "<IPython.core.display.Javascript object>"
            ],
            "application/javascript": [
              "addData(0.4834112659897367,[0.42080355],\"2023-02-28\")"
            ]
          },
          "metadata": {}
        },
        {
          "output_type": "stream",
          "name": "stdout",
          "text": [
            "x1= [0.48341127 0.45836229 0.47673566 0.45985987 0.11521263]\n",
            "y1= 0.46024435026469446\n",
            "2/2 [==============================] - 0s 48ms/step\n",
            "days= 2023-03-01\n"
          ]
        },
        {
          "output_type": "display_data",
          "data": {
            "text/plain": [
              "<IPython.core.display.Javascript object>"
            ],
            "application/javascript": [
              "addData(0.46024435026469446,[0.42054653],\"2023-03-01\")"
            ]
          },
          "metadata": {}
        },
        {
          "output_type": "stream",
          "name": "stdout",
          "text": [
            "x1= [0.46024435 0.47681896 0.47743538 0.4910499  0.15230432]\n",
            "y1= 0.4912301076350445\n",
            "2/2 [==============================] - 0s 36ms/step\n",
            "days= 2023-03-02\n"
          ]
        },
        {
          "output_type": "display_data",
          "data": {
            "text/plain": [
              "<IPython.core.display.Javascript object>"
            ],
            "application/javascript": [
              "addData(0.4912301076350445,[0.4183517],\"2023-03-02\")"
            ]
          },
          "metadata": {}
        },
        {
          "output_type": "stream",
          "name": "stdout",
          "text": [
            "x1= [0.49123011 0.46797382 0.487405   0.48036051 0.11387395]\n",
            "y1= 0.48058775811393506\n",
            "2/2 [==============================] - 0s 37ms/step\n",
            "days= 2023-03-03\n"
          ]
        },
        {
          "output_type": "display_data",
          "data": {
            "text/plain": [
              "<IPython.core.display.Javascript object>"
            ],
            "application/javascript": [
              "addData(0.48058775811393506,[0.41484046],\"2023-03-03\")"
            ]
          },
          "metadata": {}
        },
        {
          "output_type": "stream",
          "name": "stdout",
          "text": [
            "x1= [0.48058776 0.45173365 0.42163231 0.41083316 0.16488153]\n",
            "y1= 0.41102552684207083\n",
            "2/2 [==============================] - 0s 45ms/step\n",
            "days= 2023-03-04\n"
          ]
        },
        {
          "output_type": "display_data",
          "data": {
            "text/plain": [
              "<IPython.core.display.Javascript object>"
            ],
            "application/javascript": [
              "addData(0.41102552684207083,[0.41017044],\"2023-03-04\")"
            ]
          },
          "metadata": {}
        },
        {
          "output_type": "stream",
          "name": "stdout",
          "text": [
            "x1= [0.41102553 0.38458466 0.42072343 0.41025021 0.03101471]\n",
            "y1= 0.41047717220316304\n",
            "2/2 [==============================] - 0s 45ms/step\n",
            "days= 2023-03-05\n"
          ]
        },
        {
          "output_type": "display_data",
          "data": {
            "text/plain": [
              "<IPython.core.display.Javascript object>"
            ],
            "application/javascript": [
              "addData(0.41047717220316304,[0.4044156],\"2023-03-05\")"
            ]
          },
          "metadata": {}
        },
        {
          "output_type": "stream",
          "name": "stdout",
          "text": [
            "x1= [0.41047717 0.397619   0.4276184  0.41538385 0.05034463]\n",
            "y1= 0.4156408551453712\n",
            "2/2 [==============================] - 0s 48ms/step\n",
            "days= 2023-03-06\n"
          ]
        },
        {
          "output_type": "display_data",
          "data": {
            "text/plain": [
              "<IPython.core.display.Javascript object>"
            ],
            "application/javascript": [
              "addData(0.4156408551453712,[0.39789844],\"2023-03-06\")"
            ]
          },
          "metadata": {}
        },
        {
          "output_type": "stream",
          "name": "stdout",
          "text": [
            "x1= [0.41564086 0.39578159 0.42915927 0.41502422 0.08661597]\n",
            "y1= 0.4151103114045074\n",
            "2/2 [==============================] - 0s 48ms/step\n",
            "days= 2023-03-07\n"
          ]
        },
        {
          "output_type": "display_data",
          "data": {
            "text/plain": [
              "<IPython.core.display.Javascript object>"
            ],
            "application/javascript": [
              "addData(0.4151103114045074,[0.39101505],\"2023-03-07\")"
            ]
          },
          "metadata": {}
        },
        {
          "output_type": "stream",
          "name": "stdout",
          "text": [
            "x1= [0.41511031 0.3922262  0.40875699 0.40190408 0.13525338]\n",
            "y1= 0.4018762389637598\n",
            "2/2 [==============================] - 0s 50ms/step\n",
            "days= 2023-03-08\n"
          ]
        },
        {
          "output_type": "display_data",
          "data": {
            "text/plain": [
              "<IPython.core.display.Javascript object>"
            ],
            "application/javascript": [
              "addData(0.4018762389637598,[0.38404578],\"2023-03-08\")"
            ]
          },
          "metadata": {}
        },
        {
          "output_type": "stream",
          "name": "stdout",
          "text": [
            "x1= [0.40187624 0.37606539 0.38942832 0.37055833 0.13319658]\n",
            "y1= 0.3708735246480934\n",
            "2/2 [==============================] - 0s 43ms/step\n",
            "days= 2023-03-09\n"
          ]
        },
        {
          "output_type": "display_data",
          "data": {
            "text/plain": [
              "<IPython.core.display.Javascript object>"
            ],
            "application/javascript": [
              "addData(0.3708735246480934,[0.3770448],\"2023-03-09\")"
            ]
          },
          "metadata": {}
        },
        {
          "output_type": "stream",
          "name": "stdout",
          "text": [
            "x1= [0.37087352 0.34692336 0.2939522  0.28589377 0.2035439 ]\n",
            "y1= 0.28636030375480037\n",
            "2/2 [==============================] - 0s 57ms/step\n",
            "days= 2023-03-10\n"
          ]
        },
        {
          "output_type": "display_data",
          "data": {
            "text/plain": [
              "<IPython.core.display.Javascript object>"
            ],
            "application/javascript": [
              "addData(0.28636030375480037,[0.3693838],\"2023-03-10\")"
            ]
          },
          "metadata": {}
        },
        {
          "output_type": "stream",
          "name": "stdout",
          "text": [
            "x1= [0.2863603  0.25739797 0.25684831 0.27491113 0.28634211]\n",
            "y1= 0.27517216139050693\n",
            "2/2 [==============================] - 0s 43ms/step\n",
            "days= 2023-03-11\n"
          ]
        },
        {
          "output_type": "display_data",
          "data": {
            "text/plain": [
              "<IPython.core.display.Javascript object>"
            ],
            "application/javascript": [
              "addData(0.27517216139050693,[0.35990506],\"2023-03-11\")"
            ]
          },
          "metadata": {}
        },
        {
          "output_type": "stream",
          "name": "stdout",
          "text": [
            "x1= [0.27517216 0.28377383 0.28492272 0.30272527 0.201887  ]\n",
            "y1= 0.30266406417710545\n",
            "2/2 [==============================] - 0s 46ms/step\n",
            "days= 2023-03-12\n"
          ]
        },
        {
          "output_type": "display_data",
          "data": {
            "text/plain": [
              "<IPython.core.display.Javascript object>"
            ],
            "application/javascript": [
              "addData(0.30266406417710545,[0.34835565],\"2023-03-12\")"
            ]
          },
          "metadata": {}
        },
        {
          "output_type": "stream",
          "name": "stdout",
          "text": [
            "x1= [0.30266406 0.37082277 0.30915577 0.3984164  0.19378787]\n",
            "y1= 0.39812644484127224\n",
            "2/2 [==============================] - 0s 44ms/step\n",
            "days= 2023-03-13\n"
          ]
        },
        {
          "output_type": "display_data",
          "data": {
            "text/plain": [
              "<IPython.core.display.Javascript object>"
            ],
            "application/javascript": [
              "addData(0.39812644484127224,[0.33564663],\"2023-03-13\")"
            ]
          },
          "metadata": {}
        },
        {
          "output_type": "stream",
          "name": "stdout",
          "text": [
            "x1= [0.39812644 0.51871512 0.40282457 0.52547549 0.37520182]\n",
            "y1= 0.5258795327611165\n",
            "2/2 [==============================] - 0s 47ms/step\n",
            "days= 2023-03-14\n"
          ]
        },
        {
          "output_type": "display_data",
          "data": {
            "text/plain": [
              "<IPython.core.display.Javascript object>"
            ],
            "application/javascript": [
              "addData(0.5258795327611165,[0.32344174],\"2023-03-14\")"
            ]
          },
          "metadata": {}
        },
        {
          "output_type": "stream",
          "name": "stdout",
          "text": [
            "x1= [0.52587953 0.64148199 0.54070751 0.55974853 0.42153517]\n",
            "y1= 0.5614292597864421\n",
            "2/2 [==============================] - 0s 53ms/step\n",
            "days= 2023-03-15\n"
          ]
        },
        {
          "output_type": "display_data",
          "data": {
            "text/plain": [
              "<IPython.core.display.Javascript object>"
            ],
            "application/javascript": [
              "addData(0.5614292597864421,[0.313901],\"2023-03-15\")"
            ]
          },
          "metadata": {}
        },
        {
          "output_type": "stream",
          "name": "stdout",
          "text": [
            "x1= [0.56142926 0.56183479 0.53329547 0.53662372 0.32298416]\n",
            "y1= 0.5366033730572992\n",
            "2/2 [==============================] - 0s 52ms/step\n",
            "days= 2023-03-16\n"
          ]
        },
        {
          "output_type": "display_data",
          "data": {
            "text/plain": [
              "<IPython.core.display.Javascript object>"
            ],
            "application/javascript": [
              "addData(0.5366033730572992,[0.30861068],\"2023-03-16\")"
            ]
          },
          "metadata": {}
        },
        {
          "output_type": "stream",
          "name": "stdout",
          "text": [
            "x1= [0.53660337 0.55869109 0.54988241 0.57891219 0.23500931]\n",
            "y1= 0.5791802128725603\n",
            "2/2 [==============================] - 0s 66ms/step\n",
            "days= 2023-03-17\n"
          ]
        },
        {
          "output_type": "display_data",
          "data": {
            "text/plain": [
              "<IPython.core.display.Javascript object>"
            ],
            "application/javascript": [
              "addData(0.5791802128725603,[0.30857915],\"2023-03-17\")"
            ]
          },
          "metadata": {}
        },
        {
          "output_type": "stream",
          "name": "stdout",
          "text": [
            "x1= [0.57918021 0.72106631 0.59642118 0.72706194 0.38655988]\n",
            "y1= 0.7286465583097015\n",
            "2/2 [==============================] - 0s 58ms/step\n",
            "days= 2023-03-18\n"
          ]
        },
        {
          "output_type": "display_data",
          "data": {
            "text/plain": [
              "<IPython.core.display.Javascript object>"
            ],
            "application/javascript": [
              "addData(0.7286465583097015,[0.31466192],\"2023-03-18\")"
            ]
          },
          "metadata": {}
        },
        {
          "output_type": "stream",
          "name": "stdout",
          "text": [
            "x1= [0.72864656 0.71719933 0.70358509 0.69844276 0.25169706]\n",
            "y1= 0.6987523864383396\n",
            "2/2 [==============================] - 0s 67ms/step\n",
            "days= 2023-03-19\n"
          ]
        },
        {
          "output_type": "display_data",
          "data": {
            "text/plain": [
              "<IPython.core.display.Javascript object>"
            ],
            "application/javascript": [
              "addData(0.6987523864383396,[0.32741392],\"2023-03-19\")"
            ]
          },
          "metadata": {}
        },
        {
          "output_type": "stream",
          "name": "stdout",
          "text": [
            "x1= [0.69875239 0.76187118 0.72088943 0.7654715  0.2700872 ]\n",
            "y1= 0.7657155753563654\n",
            "2/2 [==============================] - 0s 73ms/step\n",
            "days= 2023-03-20\n"
          ]
        },
        {
          "output_type": "display_data",
          "data": {
            "text/plain": [
              "<IPython.core.display.Javascript object>"
            ],
            "application/javascript": [
              "addData(0.7657155753563654,[0.3467968],\"2023-03-20\")"
            ]
          },
          "metadata": {}
        },
        {
          "output_type": "stream",
          "name": "stdout",
          "text": [
            "x1= [0.76571558 0.76732002 0.742255   0.74851187 0.33303403]\n",
            "y1= 0.7486509499864611\n",
            "2/2 [==============================] - 0s 63ms/step\n",
            "days= 2023-03-21\n"
          ]
        },
        {
          "output_type": "display_data",
          "data": {
            "text/plain": [
              "<IPython.core.display.Javascript object>"
            ],
            "application/javascript": [
              "addData(0.7486509499864611,[0.3719895],\"2023-03-21\")"
            ]
          },
          "metadata": {}
        },
        {
          "output_type": "stream",
          "name": "stdout",
          "text": [
            "x1= [0.74865095 0.76180879 0.75479815 0.7740401  0.25510436]\n",
            "y1= 0.7730308334828333\n",
            "2/2 [==============================] - 0s 68ms/step\n",
            "days= 2023-03-22\n"
          ]
        },
        {
          "output_type": "display_data",
          "data": {
            "text/plain": [
              "<IPython.core.display.Javascript object>"
            ],
            "application/javascript": [
              "addData(0.7730308334828333,[0.401394],\"2023-03-22\")"
            ]
          },
          "metadata": {}
        },
        {
          "output_type": "stream",
          "name": "stdout",
          "text": [
            "x1= [0.77303083 0.78454916 0.71147273 0.71978346 0.23065947]\n",
            "y1= 0.7195173990940507\n",
            "2/2 [==============================] - 0s 69ms/step\n",
            "days= 2023-03-23\n"
          ]
        },
        {
          "output_type": "display_data",
          "data": {
            "text/plain": [
              "<IPython.core.display.Javascript object>"
            ],
            "application/javascript": [
              "addData(0.7195173990940507,[0.43267113],\"2023-03-23\")"
            ]
          },
          "metadata": {}
        },
        {
          "output_type": "stream",
          "name": "stdout",
          "text": [
            "x1= [0.7195174  0.77995498 0.73846096 0.78392176 0.14832861]\n",
            "y1= 0.783361127178406\n",
            "2/2 [==============================] - 0s 69ms/step\n",
            "days= 2023-03-24\n"
          ]
        },
        {
          "output_type": "display_data",
          "data": {
            "text/plain": [
              "<IPython.core.display.Javascript object>"
            ],
            "application/javascript": [
              "addData(0.783361127178406,[0.4634418],\"2023-03-24\")"
            ]
          },
          "metadata": {}
        },
        {
          "output_type": "stream",
          "name": "stdout",
          "text": [
            "x1= [0.78336113 0.75861284 0.72927522 0.73139529 0.1641438 ]\n",
            "y1= 0.7310962822945815\n",
            "3/3 [==============================] - 0s 43ms/step\n",
            "days= 2023-03-25\n"
          ]
        },
        {
          "output_type": "display_data",
          "data": {
            "text/plain": [
              "<IPython.core.display.Javascript object>"
            ],
            "application/javascript": [
              "addData(0.7310962822945815,[0.49146605],\"2023-03-25\")"
            ]
          },
          "metadata": {}
        },
        {
          "output_type": "stream",
          "name": "stdout",
          "text": [
            "x1= [0.73109628 0.72131721 0.73928145 0.73148413 0.05093778]\n",
            "y1= 0.7316075513255131\n",
            "3/3 [==============================] - 0s 45ms/step\n",
            "days= 2023-03-26\n"
          ]
        },
        {
          "output_type": "display_data",
          "data": {
            "text/plain": [
              "<IPython.core.display.Javascript object>"
            ],
            "application/javascript": [
              "addData(0.7316075513255131,[0.51475394],\"2023-03-26\")"
            ]
          },
          "metadata": {}
        },
        {
          "output_type": "stream",
          "name": "stdout",
          "text": [
            "x1= [0.73160755 0.74546692 0.7551424  0.76270077 0.05538932]\n",
            "y1= 0.7627466527973534\n",
            "3/3 [==============================] - 0s 69ms/step\n",
            "days= 2023-03-27\n"
          ]
        },
        {
          "output_type": "display_data",
          "data": {
            "text/plain": [
              "<IPython.core.display.Javascript object>"
            ],
            "application/javascript": [
              "addData(0.7627466527973534,[0.5322947],\"2023-03-27\")"
            ]
          },
          "metadata": {}
        },
        {
          "output_type": "stream",
          "name": "stdout",
          "text": [
            "x1= [0.76274665 0.7367015  0.70169996 0.70931495 0.09412603]\n",
            "y1= 0.7089573942382825\n",
            "3/3 [==============================] - 0s 78ms/step\n",
            "days= 2023-03-28\n"
          ]
        },
        {
          "output_type": "display_data",
          "data": {
            "text/plain": [
              "<IPython.core.display.Javascript object>"
            ],
            "application/javascript": [
              "addData(0.7089573942382825,[0.54339015],\"2023-03-28\")"
            ]
          },
          "metadata": {}
        },
        {
          "output_type": "stream",
          "name": "stdout",
          "text": [
            "x1= [0.70895739 0.70061888 0.70623418 0.71732757 0.09048384]\n",
            "y1= 0.7173359358141502\n",
            "3/3 [==============================] - 0s 69ms/step\n",
            "days= 2023-03-29\n"
          ]
        },
        {
          "output_type": "display_data",
          "data": {
            "text/plain": [
              "<IPython.core.display.Javascript object>"
            ],
            "application/javascript": [
              "addData(0.7173359358141502,[0.5476439],\"2023-03-29\")"
            ]
          },
          "metadata": {}
        },
        {
          "output_type": "stream",
          "name": "stdout",
          "text": [
            "x1= [0.71733594 0.77305981 0.74332475 0.78482578 0.11655686]\n",
            "y1= 0.7849869163227381\n",
            "3/3 [==============================] - 0s 73ms/step\n",
            "days= 2023-03-30\n"
          ]
        },
        {
          "output_type": "display_data",
          "data": {
            "text/plain": [
              "<IPython.core.display.Javascript object>"
            ],
            "application/javascript": [
              "addData(0.7849869163227381,[0.5458026],\"2023-03-30\")"
            ]
          },
          "metadata": {}
        },
        {
          "output_type": "stream",
          "name": "stdout",
          "text": [
            "x1= [0.78498692 0.806839   0.77267994 0.76515202 0.13228691]\n",
            "y1= 0.7651322089679085\n",
            "3/3 [==============================] - 0s 67ms/step\n",
            "days= 2023-03-31\n"
          ]
        },
        {
          "output_type": "display_data",
          "data": {
            "text/plain": [
              "<IPython.core.display.Javascript object>"
            ],
            "application/javascript": [
              "addData(0.7651322089679085,[0.5391236],\"2023-03-31\")"
            ]
          },
          "metadata": {}
        },
        {
          "output_type": "stream",
          "name": "stdout",
          "text": [
            "x1= [0.76513221 0.77433216 0.76398202 0.79295091 0.10142698]\n",
            "y1= 0.7926814480094679\n",
            "3/3 [==============================] - 0s 74ms/step\n",
            "days= 2023-04-01\n"
          ]
        },
        {
          "output_type": "display_data",
          "data": {
            "text/plain": [
              "<IPython.core.display.Javascript object>"
            ],
            "application/javascript": [
              "addData(0.7926814480094679,[0.5288371],\"2023-04-01\")"
            ]
          },
          "metadata": {}
        },
        {
          "output_type": "stream",
          "name": "stdout",
          "text": [
            "x1= [0.79268145 0.78449422 0.80946249 0.78873666 0.02841273]\n",
            "y1= 0.7920264722632422\n",
            "3/3 [==============================] - 0s 47ms/step\n",
            "days= 2023-04-02\n"
          ]
        },
        {
          "output_type": "display_data",
          "data": {
            "text/plain": [
              "<IPython.core.display.Javascript object>"
            ],
            "application/javascript": [
              "addData(0.7920264722632422,[0.5163201],\"2023-04-02\")"
            ]
          },
          "metadata": {}
        },
        {
          "output_type": "stream",
          "name": "stdout",
          "text": [
            "x1= [0.79202647 0.76677206 0.78312978 0.7755079  0.0410673 ]\n",
            "y1= 0.7745523193469239\n",
            "3/3 [==============================] - 0s 49ms/step\n",
            "days= 2023-04-03\n"
          ]
        },
        {
          "output_type": "display_data",
          "data": {
            "text/plain": [
              "<IPython.core.display.Javascript object>"
            ],
            "application/javascript": [
              "addData(0.7745523193469239,[0.502619],\"2023-04-03\")"
            ]
          },
          "metadata": {}
        },
        {
          "output_type": "stream",
          "name": "stdout",
          "text": [
            "x1= [0.77455232 0.76406303 0.74441218 0.74994794 0.10641606]\n",
            "y1= 0.750329927731358\n",
            "3/3 [==============================] - 0s 51ms/step\n",
            "days= 2023-04-04\n"
          ]
        },
        {
          "output_type": "display_data",
          "data": {
            "text/plain": [
              "<IPython.core.display.Javascript object>"
            ],
            "application/javascript": [
              "addData(0.750329927731358,[0.48826623],\"2023-04-04\")"
            ]
          },
          "metadata": {}
        },
        {
          "output_type": "stream",
          "name": "stdout",
          "text": [
            "x1= [0.75032993 0.76144495 0.77020304 0.77355734 0.06802595]\n",
            "y1= 0.7737182591828835\n",
            "3/3 [==============================] - 0s 53ms/step\n",
            "days= 2023-04-05\n"
          ]
        },
        {
          "output_type": "display_data",
          "data": {
            "text/plain": [
              "<IPython.core.display.Javascript object>"
            ],
            "application/javascript": [
              "addData(0.7737182591828835,[0.473615],\"2023-04-05\")"
            ]
          },
          "metadata": {}
        },
        {
          "output_type": "stream",
          "name": "stdout",
          "text": [
            "x1= [0.77371826 0.78054226 0.78055925 0.77417556 0.08391213]\n",
            "y1= 0.7740617890251926\n",
            "3/3 [==============================] - 0s 55ms/step\n",
            "days= 2023-04-06\n"
          ]
        },
        {
          "output_type": "display_data",
          "data": {
            "text/plain": [
              "<IPython.core.display.Javascript object>"
            ],
            "application/javascript": [
              "addData(0.7740617890251926,[0.4590556],\"2023-04-06\")"
            ]
          },
          "metadata": {}
        },
        {
          "output_type": "stream",
          "name": "stdout",
          "text": [
            "x1= [0.77406179 0.74548193 0.77386561 0.76581295 0.05502488]\n",
            "y1= 0.7655510079475469\n",
            "3/3 [==============================] - 0s 59ms/step\n",
            "days= 2023-04-07\n"
          ]
        },
        {
          "output_type": "display_data",
          "data": {
            "text/plain": [
              "<IPython.core.display.Javascript object>"
            ],
            "application/javascript": [
              "addData(0.7655510079475469,[0.44483906],\"2023-04-07\")"
            ]
          },
          "metadata": {}
        },
        {
          "output_type": "stream",
          "name": "stdout",
          "text": [
            "x1= [0.76555101 0.74130667 0.77738898 0.75842269 0.02827982]\n",
            "y1= 0.7581524291562256\n",
            "3/3 [==============================] - 0s 59ms/step\n",
            "days= 2023-04-08\n"
          ]
        },
        {
          "output_type": "display_data",
          "data": {
            "text/plain": [
              "<IPython.core.display.Javascript object>"
            ],
            "application/javascript": [
              "addData(0.7581524291562256,[0.43119383],\"2023-04-08\")"
            ]
          },
          "metadata": {}
        },
        {
          "output_type": "stream",
          "name": "stdout",
          "text": [
            "x1= [0.75815243 0.74432411 0.78308508 0.75979323 0.01490405]\n",
            "y1= 0.7601419988523108\n",
            "3/3 [==============================] - 0s 56ms/step\n",
            "days= 2023-04-09\n"
          ]
        },
        {
          "output_type": "display_data",
          "data": {
            "text/plain": [
              "<IPython.core.display.Javascript object>"
            ],
            "application/javascript": [
              "addData(0.7601419988523108,[0.4184199],\"2023-04-09\")"
            ]
          },
          "metadata": {}
        },
        {
          "output_type": "stream",
          "name": "stdout",
          "text": [
            "x1= [0.760142   0.76763918 0.779585   0.78386416 0.0400849 ]\n",
            "y1= 0.784105401196121\n",
            "3/3 [==============================] - 0s 61ms/step\n",
            "days= 2023-04-10\n"
          ]
        },
        {
          "output_type": "display_data",
          "data": {
            "text/plain": [
              "<IPython.core.display.Javascript object>"
            ],
            "application/javascript": [
              "addData(0.784105401196121,[0.40678978],\"2023-04-10\")"
            ]
          },
          "metadata": {}
        },
        {
          "output_type": "stream",
          "name": "stdout",
          "text": [
            "x1= [0.7841054  0.84506926 0.8025842  0.86633386 0.10395284]\n",
            "y1= 0.8664059288238495\n",
            "3/3 [==============================] - 0s 51ms/step\n",
            "days= 2023-04-11\n"
          ]
        },
        {
          "output_type": "display_data",
          "data": {
            "text/plain": [
              "<IPython.core.display.Javascript object>"
            ],
            "application/javascript": [
              "addData(0.8664059288238495,[0.39671183],\"2023-04-11\")"
            ]
          },
          "metadata": {}
        },
        {
          "output_type": "stream",
          "name": "stdout",
          "text": [
            "x1= [0.86640593 0.89117963 0.89310626 0.90270232 0.11149128]\n",
            "y1= 0.9025016925985472\n",
            "3/3 [==============================] - 0s 54ms/step\n",
            "days= 2023-04-12\n"
          ]
        },
        {
          "output_type": "display_data",
          "data": {
            "text/plain": [
              "<IPython.core.display.Javascript object>"
            ],
            "application/javascript": [
              "addData(0.9025016925985472,[0.3887939],\"2023-04-12\")"
            ]
          },
          "metadata": {}
        },
        {
          "output_type": "stream",
          "name": "stdout",
          "text": [
            "x1= [0.90250169 0.88826634 0.9005183  0.89670384 0.0982871 ]\n",
            "y1= 0.8813376436728861\n",
            "3/3 [==============================] - 0s 58ms/step\n",
            "days= 2023-04-13\n"
          ]
        },
        {
          "output_type": "display_data",
          "data": {
            "text/plain": [
              "<IPython.core.display.Javascript object>"
            ],
            "application/javascript": [
              "addData(0.8813376436728861,[0.38339335],\"2023-04-13\")"
            ]
          },
          "metadata": {}
        },
        {
          "output_type": "stream",
          "name": "stdout",
          "text": [
            "x1= [0.88133764 0.89310262 0.91027465 0.91294959 0.08782491]\n",
            "y1= 0.9136183475893953\n",
            "3/3 [==============================] - 0s 56ms/step\n",
            "days= 2023-04-14\n"
          ]
        },
        {
          "output_type": "display_data",
          "data": {
            "text/plain": [
              "<IPython.core.display.Javascript object>"
            ],
            "application/javascript": [
              "addData(0.9136183475893953,[0.3805387],\"2023-04-14\")"
            ]
          },
          "metadata": {}
        },
        {
          "output_type": "stream",
          "name": "stdout",
          "text": [
            "x1= [0.91361835 0.92221853 0.92084862 0.91836244 0.13430569]\n",
            "y1= 0.9186893165116623\n",
            "3/3 [==============================] - 0s 59ms/step\n",
            "days= 2023-04-15\n"
          ]
        },
        {
          "output_type": "display_data",
          "data": {
            "text/plain": [
              "<IPython.core.display.Javascript object>"
            ],
            "application/javascript": [
              "addData(0.9186893165116623,[0.37999368],\"2023-04-15\")"
            ]
          },
          "metadata": {}
        },
        {
          "output_type": "stream",
          "name": "stdout",
          "text": [
            "x1= [0.91868932 0.8969718  0.93368621 0.90791552 0.03797633]\n",
            "y1= 0.9077729726475849\n",
            "3/3 [==============================] - 0s 65ms/step\n",
            "days= 2023-04-16\n"
          ]
        },
        {
          "output_type": "display_data",
          "data": {
            "text/plain": [
              "<IPython.core.display.Javascript object>"
            ],
            "application/javascript": [
              "addData(0.9077729726475849,[0.3812275],\"2023-04-16\")"
            ]
          },
          "metadata": {}
        },
        {
          "output_type": "stream",
          "name": "stdout",
          "text": [
            "x1= [0.90777297 0.89408353 0.92807327 0.9077193  0.04619119]\n",
            "y1= 0.907846045879702\n",
            "3/3 [==============================] - 0s 55ms/step\n",
            "days= 2023-04-17\n"
          ]
        },
        {
          "output_type": "display_data",
          "data": {
            "text/plain": [
              "<IPython.core.display.Javascript object>"
            ],
            "application/javascript": [
              "addData(0.907846045879702,[0.38356853],\"2023-04-17\")"
            ]
          },
          "metadata": {}
        },
        {
          "output_type": "stream",
          "name": "stdout",
          "text": [
            "x1= [0.90784605 0.87930935 0.87181938 0.85334197 0.09127992]\n",
            "y1= 0.8536273750177448\n",
            "3/3 [==============================] - 0s 65ms/step\n",
            "days= 2023-04-18\n"
          ]
        },
        {
          "output_type": "display_data",
          "data": {
            "text/plain": [
              "<IPython.core.display.Javascript object>"
            ],
            "application/javascript": [
              "addData(0.8536273750177448,[0.38603157],\"2023-04-18\")"
            ]
          },
          "metadata": {}
        },
        {
          "output_type": "stream",
          "name": "stdout",
          "text": [
            "x1= [0.85362738 0.88875532 0.86413654 0.91285501 0.10573334]\n",
            "y1= 0.912658025530213\n",
            "3/3 [==============================] - 0s 69ms/step\n",
            "days= 2023-04-19\n"
          ]
        },
        {
          "output_type": "display_data",
          "data": {
            "text/plain": [
              "<IPython.core.display.Javascript object>"
            ],
            "application/javascript": [
              "addData(0.912658025530213,[0.3878194],\"2023-04-19\")"
            ]
          },
          "metadata": {}
        },
        {
          "output_type": "stream",
          "name": "stdout",
          "text": [
            "x1= [0.91265803 0.88505158 0.83322254 0.81445636 0.15148407]\n",
            "y1= 0.8145643965894911\n",
            "3/3 [==============================] - 0s 64ms/step\n",
            "days= 2023-04-20\n"
          ]
        },
        {
          "output_type": "display_data",
          "data": {
            "text/plain": [
              "<IPython.core.display.Javascript object>"
            ],
            "application/javascript": [
              "addData(0.8145643965894911,[0.38819784],\"2023-04-20\")"
            ]
          },
          "metadata": {}
        },
        {
          "output_type": "stream",
          "name": "stdout",
          "text": [
            "x1= [0.8145644  0.80161908 0.79289385 0.77842447 0.12244676]\n",
            "y1= 0.778684070872181\n",
            "3/3 [==============================] - 0s 64ms/step\n",
            "days= 2023-04-21\n"
          ]
        },
        {
          "output_type": "display_data",
          "data": {
            "text/plain": [
              "<IPython.core.display.Javascript object>"
            ],
            "application/javascript": [
              "addData(0.778684070872181,[0.38633633],\"2023-04-21\")"
            ]
          },
          "metadata": {}
        },
        {
          "output_type": "stream",
          "name": "stdout",
          "text": [
            "x1= [0.77868407 0.75620807 0.7380786  0.7178761  0.11722688]\n",
            "y1= 0.7172649363780013\n",
            "3/3 [==============================] - 0s 62ms/step\n",
            "days= 2023-04-22\n"
          ]
        },
        {
          "output_type": "display_data",
          "data": {
            "text/plain": [
              "<IPython.core.display.Javascript object>"
            ],
            "application/javascript": [
              "addData(0.7172649363780013,[0.3814516],\"2023-04-22\")"
            ]
          },
          "metadata": {}
        },
        {
          "output_type": "stream",
          "name": "stdout",
          "text": [
            "x1= [0.71726494 0.72633799 0.7375817  0.75165236 0.0486258 ]\n",
            "y1= 0.7516335356017412\n",
            "3/3 [==============================] - 0s 62ms/step\n",
            "days= 2023-04-23\n"
          ]
        },
        {
          "output_type": "display_data",
          "data": {
            "text/plain": [
              "<IPython.core.display.Javascript object>"
            ],
            "application/javascript": [
              "addData(0.7516335356017412,[0.37353492],\"2023-04-23\")"
            ]
          },
          "metadata": {}
        },
        {
          "output_type": "stream",
          "name": "stdout",
          "text": [
            "x1= [0.75163354 0.72309369 0.75229086 0.73752459 0.0455678 ]\n",
            "y1= 0.7376166397234138\n",
            "3/3 [==============================] - 0s 66ms/step\n",
            "days= 2023-04-24\n"
          ]
        },
        {
          "output_type": "display_data",
          "data": {
            "text/plain": [
              "<IPython.core.display.Javascript object>"
            ],
            "application/javascript": [
              "addData(0.7376166397234138,[0.36326933],\"2023-04-24\")"
            ]
          },
          "metadata": {}
        },
        {
          "output_type": "stream",
          "name": "stdout",
          "text": [
            "x1= [0.73761664 0.73307932 0.73128859 0.73339808 0.08976211]\n",
            "y1= 0.7328161273488791\n",
            "3/3 [==============================] - 0s 78ms/step\n",
            "days= 2023-04-25\n"
          ]
        },
        {
          "output_type": "display_data",
          "data": {
            "text/plain": [
              "<IPython.core.display.Javascript object>"
            ],
            "application/javascript": [
              "addData(0.7328161273488791,[0.3514582],\"2023-04-25\")"
            ]
          },
          "metadata": {}
        },
        {
          "output_type": "stream",
          "name": "stdout",
          "text": [
            "x1= [0.73281613 0.75752767 0.74002711 0.78227384 0.09003247]\n",
            "y1= 0.7818587941023838\n",
            "4/4 [==============================] - 0s 109ms/step\n",
            "days= 2023-04-26\n"
          ]
        },
        {
          "output_type": "display_data",
          "data": {
            "text/plain": [
              "<IPython.core.display.Javascript object>"
            ],
            "application/javascript": [
              "addData(0.7818587941023838,[0.33903527],\"2023-04-26\")"
            ]
          },
          "metadata": {}
        },
        {
          "output_type": "stream",
          "name": "stdout",
          "text": [
            "x1= [0.78185879 0.85909537 0.74746106 0.78946555 0.21693003]\n",
            "y1= 0.7898790447958384\n",
            "4/4 [==============================] - 1s 98ms/step\n",
            "days= 2023-04-27\n"
          ]
        },
        {
          "output_type": "display_data",
          "data": {
            "text/plain": [
              "<IPython.core.display.Javascript object>"
            ],
            "application/javascript": [
              "addData(0.7898790447958384,[0.32688898],\"2023-04-27\")"
            ]
          },
          "metadata": {}
        },
        {
          "output_type": "stream",
          "name": "stdout",
          "text": [
            "x1= [0.78987904 0.85132563 0.81620145 0.85513779 0.1746862 ]\n",
            "y1= 0.8556212144150102\n",
            "4/4 [==============================] - 0s 57ms/step\n",
            "days= 2023-04-28\n"
          ]
        },
        {
          "output_type": "display_data",
          "data": {
            "text/plain": [
              "<IPython.core.display.Javascript object>"
            ],
            "application/javascript": [
              "addData(0.8556212144150102,[0.31591344],\"2023-04-28\")"
            ]
          },
          "metadata": {}
        },
        {
          "output_type": "stream",
          "name": "stdout",
          "text": [
            "x1= [0.85562121 0.83264967 0.84977824 0.84679508 0.08833484]\n",
            "y1= 0.8465990423221088\n",
            "4/4 [==============================] - 0s 84ms/step\n",
            "days= 2023-04-29\n"
          ]
        },
        {
          "output_type": "display_data",
          "data": {
            "text/plain": [
              "<IPython.core.display.Javascript object>"
            ],
            "application/javascript": [
              "addData(0.8465990423221088,[0.30688584],\"2023-04-29\")"
            ]
          },
          "metadata": {}
        },
        {
          "output_type": "stream",
          "name": "stdout",
          "text": [
            "x1= [0.84659904 0.82512718 0.85987784 0.84106104 0.02649109]\n",
            "y1= 0.8409120131513728\n",
            "4/4 [==============================] - 0s 80ms/step\n",
            "days= 2023-04-30\n"
          ]
        },
        {
          "output_type": "display_data",
          "data": {
            "text/plain": [
              "<IPython.core.display.Javascript object>"
            ],
            "application/javascript": [
              "addData(0.8409120131513728,[0.30040044],\"2023-04-30\")"
            ]
          },
          "metadata": {}
        },
        {
          "output_type": "stream",
          "name": "stdout",
          "text": [
            "x1= [0.84091201 0.85635679 0.86153389 0.84233054 0.06234342]\n",
            "y1= 0.8397619933511276\n",
            "4/4 [==============================] - 0s 76ms/step\n",
            "days= 2023-05-01\n"
          ]
        },
        {
          "output_type": "display_data",
          "data": {
            "text/plain": [
              "<IPython.core.display.Javascript object>"
            ],
            "application/javascript": [
              "addData(0.8397619933511276,[0.29690403],\"2023-05-01\")"
            ]
          },
          "metadata": {}
        },
        {
          "output_type": "stream",
          "name": "stdout",
          "text": [
            "x1= [0.83976199 0.81746819 0.77017042 0.76877625 0.09832009]\n",
            "y1= 0.7685621397059834\n",
            "4/4 [==============================] - 0s 83ms/step\n",
            "days= 2023-05-02\n"
          ]
        },
        {
          "output_type": "display_data",
          "data": {
            "text/plain": [
              "<IPython.core.display.Javascript object>"
            ],
            "application/javascript": [
              "addData(0.7685621397059834,[0.29613465],\"2023-05-02\")"
            ]
          },
          "metadata": {}
        },
        {
          "output_type": "stream",
          "name": "stdout",
          "text": [
            "x1= [0.76856214 0.78942281 0.78568189 0.80557524 0.07834595]\n",
            "y1= 0.805620787460507\n",
            "4/4 [==============================] - 0s 55ms/step\n",
            "days= 2023-05-03\n"
          ]
        },
        {
          "output_type": "display_data",
          "data": {
            "text/plain": [
              "<IPython.core.display.Javascript object>"
            ],
            "application/javascript": [
              "addData(0.805620787460507,[0.2975018],\"2023-05-03\")"
            ]
          },
          "metadata": {}
        },
        {
          "output_type": "stream",
          "name": "stdout",
          "text": [
            "x1= [0.80562079 0.81306716 0.80189046 0.82592956 0.10252014]\n",
            "y1= 0.827532404168011\n",
            "4/4 [==============================] - 0s 59ms/step\n",
            "days= 2023-05-04\n"
          ]
        },
        {
          "output_type": "display_data",
          "data": {
            "text/plain": [
              "<IPython.core.display.Javascript object>"
            ],
            "application/javascript": [
              "addData(0.827532404168011,[0.30060422],\"2023-05-04\")"
            ]
          },
          "metadata": {}
        },
        {
          "output_type": "stream",
          "name": "stdout",
          "text": [
            "x1= [0.8275324  0.8189216  0.83476143 0.81602032 0.07039965]\n",
            "y1= 0.8163005886050247\n",
            "4/4 [==============================] - 0s 62ms/step\n",
            "days= 2023-05-05\n"
          ]
        },
        {
          "output_type": "display_data",
          "data": {
            "text/plain": [
              "<IPython.core.display.Javascript object>"
            ],
            "application/javascript": [
              "addData(0.8163005886050247,[0.30503744],\"2023-05-05\")"
            ]
          },
          "metadata": {}
        },
        {
          "output_type": "stream",
          "name": "stdout",
          "text": [
            "x1= [0.81630059 0.83865819 0.84441717 0.85892396 0.09185847]\n",
            "y1= 0.8592342553658914\n",
            "4/4 [==============================] - 0s 60ms/step\n",
            "days= 2023-05-06\n"
          ]
        },
        {
          "output_type": "display_data",
          "data": {
            "text/plain": [
              "<IPython.core.display.Javascript object>"
            ],
            "application/javascript": [
              "addData(0.8592342553658914,[0.3105057],\"2023-05-06\")"
            ]
          },
          "metadata": {}
        },
        {
          "output_type": "stream",
          "name": "stdout",
          "text": [
            "x1= [0.85923426 0.84811125 0.82041383 0.81957621 0.07368143]\n",
            "y1= 0.8194324925892633\n",
            "4/4 [==============================] - 0s 59ms/step\n",
            "days= 2023-05-07\n"
          ]
        },
        {
          "output_type": "display_data",
          "data": {
            "text/plain": [
              "<IPython.core.display.Javascript object>"
            ],
            "application/javascript": [
              "addData(0.8194324925892633,[0.31670415],\"2023-05-07\")"
            ]
          },
          "metadata": {}
        },
        {
          "output_type": "stream",
          "name": "stdout",
          "text": [
            "x1= [0.81943249 0.80668992 0.81865445 0.79148225 0.03223097]\n",
            "y1= 0.7912526761653189\n",
            "4/4 [==============================] - 0s 59ms/step\n",
            "days= 2023-05-08\n"
          ]
        },
        {
          "output_type": "display_data",
          "data": {
            "text/plain": [
              "<IPython.core.display.Javascript object>"
            ],
            "application/javascript": [
              "addData(0.7912526761653189,[0.32312936],\"2023-05-08\")"
            ]
          },
          "metadata": {}
        },
        {
          "output_type": "stream",
          "name": "stdout",
          "text": [
            "x1= [0.79125268 0.77579339 0.74654221 0.74395312 0.10251952]\n",
            "y1= 0.7440711213700055\n",
            "4/4 [==============================] - 0s 56ms/step\n",
            "days= 2023-05-09\n"
          ]
        },
        {
          "output_type": "display_data",
          "data": {
            "text/plain": [
              "<IPython.core.display.Javascript object>"
            ],
            "application/javascript": [
              "addData(0.7440711213700055,[0.32892317],\"2023-05-09\")"
            ]
          },
          "metadata": {}
        },
        {
          "output_type": "stream",
          "name": "stdout",
          "text": [
            "x1= [0.74407112 0.72316597 0.7507155  0.74173519 0.05763802]\n",
            "y1= 0.7415457622948238\n",
            "4/4 [==============================] - 0s 54ms/step\n",
            "days= 2023-05-10\n"
          ]
        },
        {
          "output_type": "display_data",
          "data": {
            "text/plain": [
              "<IPython.core.display.Javascript object>"
            ],
            "application/javascript": [
              "addData(0.7415457622948238,[0.33335203],\"2023-05-10\")"
            ]
          },
          "metadata": {}
        },
        {
          "output_type": "stream",
          "name": "stdout",
          "text": [
            "x1= [0.74154576 0.75450265 0.71935652 0.73942219 0.11629696]\n",
            "y1= 0.739450181475501\n",
            "4/4 [==============================] - 0s 51ms/step\n",
            "days= 2023-05-11\n"
          ]
        },
        {
          "output_type": "display_data",
          "data": {
            "text/plain": [
              "<IPython.core.display.Javascript object>"
            ],
            "application/javascript": [
              "addData(0.739450181475501,[0.33593446],\"2023-05-11\")"
            ]
          },
          "metadata": {}
        },
        {
          "output_type": "stream",
          "name": "stdout",
          "text": [
            "x1= [0.73945018 0.7106973  0.71286433 0.70062396 0.0809648 ]\n",
            "y1= 0.6998865472771043\n",
            "4/4 [==============================] - 0s 51ms/step\n",
            "days= 2023-05-12\n"
          ]
        },
        {
          "output_type": "display_data",
          "data": {
            "text/plain": [
              "<IPython.core.display.Javascript object>"
            ],
            "application/javascript": [
              "addData(0.6998865472771043,[0.3364442],\"2023-05-12\")"
            ]
          },
          "metadata": {}
        },
        {
          "output_type": "stream",
          "name": "stdout",
          "text": [
            "x1= [0.69988655 0.67529682 0.65527586 0.68839037 0.10423322]\n",
            "y1= 0.6886504620129383\n",
            "4/4 [==============================] - 0s 53ms/step\n",
            "days= 2023-05-13\n"
          ]
        },
        {
          "output_type": "display_data",
          "data": {
            "text/plain": [
              "<IPython.core.display.Javascript object>"
            ],
            "application/javascript": [
              "addData(0.6886504620129383,[0.33475155],\"2023-05-13\")"
            ]
          },
          "metadata": {}
        },
        {
          "output_type": "stream",
          "name": "stdout",
          "text": [
            "x1= [0.68865046 0.67372376 0.70834131 0.68708378 0.02052886]\n",
            "y1= 0.687476531723689\n",
            "4/4 [==============================] - 0s 56ms/step\n",
            "days= 2023-05-14\n"
          ]
        },
        {
          "output_type": "display_data",
          "data": {
            "text/plain": [
              "<IPython.core.display.Javascript object>"
            ],
            "application/javascript": [
              "addData(0.687476531723689,[0.3312155],\"2023-05-14\")"
            ]
          },
          "metadata": {}
        },
        {
          "output_type": "stream",
          "name": "stdout",
          "text": [
            "x1= [0.68747653 0.68125614 0.70518473 0.69624093 0.02066984]\n",
            "y1= 0.6963714660468563\n",
            "4/4 [==============================] - 0s 59ms/step\n",
            "days= 2023-05-15\n"
          ]
        },
        {
          "output_type": "display_data",
          "data": {
            "text/plain": [
              "<IPython.core.display.Javascript object>"
            ],
            "application/javascript": [
              "addData(0.6963714660468563,[0.32652795],\"2023-05-15\")"
            ]
          },
          "metadata": {}
        },
        {
          "output_type": "stream",
          "name": "stdout",
          "text": [
            "x1= [0.69637147 0.712223   0.71186169 0.71261421 0.06019593]\n",
            "y1= 0.7113699106308622\n",
            "4/4 [==============================] - 0s 62ms/step\n",
            "days= 2023-05-16\n"
          ]
        },
        {
          "output_type": "display_data",
          "data": {
            "text/plain": [
              "<IPython.core.display.Javascript object>"
            ],
            "application/javascript": [
              "addData(0.7113699106308622,[0.32149184],\"2023-05-16\")"
            ]
          },
          "metadata": {}
        },
        {
          "output_type": "stream",
          "name": "stdout",
          "text": [
            "x1= [0.71136991 0.69052849 0.71905547 0.70286458 0.04508964]\n",
            "y1= 0.7028726706876205\n",
            "4/4 [==============================] - 0s 61ms/step\n",
            "days= 2023-05-17\n"
          ]
        },
        {
          "output_type": "display_data",
          "data": {
            "text/plain": [
              "<IPython.core.display.Javascript object>"
            ],
            "application/javascript": [
              "addData(0.7028726706876205,[0.31678635],\"2023-05-17\")"
            ]
          },
          "metadata": {}
        },
        {
          "output_type": "stream",
          "name": "stdout",
          "text": [
            "x1= [0.70287267 0.70094451 0.70128274 0.725492   0.06672711]\n",
            "y1= 0.7257442435013344\n",
            "4/4 [==============================] - 0s 65ms/step\n",
            "days= 2023-05-18\n"
          ]
        },
        {
          "output_type": "display_data",
          "data": {
            "text/plain": [
              "<IPython.core.display.Javascript object>"
            ],
            "application/javascript": [
              "addData(0.7257442435013344,[0.3129214],\"2023-05-18\")"
            ]
          },
          "metadata": {}
        },
        {
          "output_type": "stream",
          "name": "stdout",
          "text": [
            "x1= [0.72574424 0.70098199 0.68948688 0.69009101 0.06747238]\n",
            "y1= 0.6898362255311359\n",
            "4/4 [==============================] - 0s 66ms/step\n",
            "days= 2023-05-19\n"
          ]
        },
        {
          "output_type": "display_data",
          "data": {
            "text/plain": [
              "<IPython.core.display.Javascript object>"
            ],
            "application/javascript": [
              "addData(0.6898362255311359,[0.31020856],\"2023-05-19\")"
            ]
          },
          "metadata": {}
        },
        {
          "output_type": "stream",
          "name": "stdout",
          "text": [
            "x1= [0.68983623 0.67985852 0.70766163 0.69370987 0.03185019]\n",
            "y1= 0.6937142334228692\n",
            "4/4 [==============================] - 0s 64ms/step\n",
            "days= 2023-05-20\n"
          ]
        },
        {
          "output_type": "display_data",
          "data": {
            "text/plain": [
              "<IPython.core.display.Javascript object>"
            ],
            "application/javascript": [
              "addData(0.6937142334228692,[0.30883986],\"2023-05-20\")"
            ]
          },
          "metadata": {}
        },
        {
          "output_type": "display_data",
          "data": {
            "text/plain": [
              "<Figure size 1400x500 with 1 Axes>"
            ],
            "image/png": "[encoded data removed]"
          },
          "metadata": {}
        },
        {
          "output_type": "stream",
          "name": "stdout",
          "text": [
            "Current price of BTC: $ 25728\n",
            "Min 15787.28418 Max 31792.310547\n",
            "1/1 [==============================] - 0s 45ms/step\n"
          ]
        },
        {
          "output_type": "display_data",
          "data": {
            "text/plain": [
              "<IPython.core.display.Javascript object>"
            ],
            "application/javascript": [
              "addData(25728,[[19158.738]])"
            ]
          },
          "metadata": {}
        },
        {
          "output_type": "stream",
          "name": "stdout",
          "text": [
            "Predicted future price of BTC: $ [[19158.738]]\n",
            "Predicted future price does not meet the minimum growth requirement (2.0%) for buy trigger\n",
            "Remaining balance (USD): $ 1000000 \n",
            "\n",
            "Current price of BTC: $ 20586\n",
            "Min 15787.28418 Max 31792.310547\n",
            "1/1 [==============================] - 0s 41ms/step\n"
          ]
        },
        {
          "output_type": "display_data",
          "data": {
            "text/plain": [
              "<IPython.core.display.Javascript object>"
            ],
            "application/javascript": [
              "addData(20586,[[19158.738]])"
            ]
          },
          "metadata": {}
        },
        {
          "output_type": "stream",
          "name": "stdout",
          "text": [
            "Predicted future price of BTC: $ [[19158.738]]\n",
            "Predicted future price does not meet the minimum growth requirement (2.0%) for buy trigger\n",
            "Remaining balance (USD): $ 1000000 \n",
            "\n",
            "Current price of BTC: $ 15458\n",
            "Min 15787.28418 Max 31792.310547\n",
            "1/1 [==============================] - 0s 45ms/step\n"
          ]
        },
        {
          "output_type": "display_data",
          "data": {
            "text/plain": [
              "<IPython.core.display.Javascript object>"
            ],
            "application/javascript": [
              "addData(15458,[[19158.738]])"
            ]
          },
          "metadata": {}
        },
        {
          "output_type": "stream",
          "name": "stdout",
          "text": [
            "Predicted future price of BTC: $ [[19158.738]]\n",
            "New buy order placed: Transaction ID: 812ddcb0-2771-4253-8aef-0fc2afdccc1d, Transaction Type: TransactionTypes.BUY, Price: 15458, Amount: 1000000 BTC, Volume: 64.69142191745375, Profit/Loss: Predicted future growth, Transaction Trigger: None\n",
            "Remaining balance (USD): $ 0 \n",
            "\n",
            "Current price of BTC: $ 15896\n",
            "Min 15787.28418 Max 31792.310547\n",
            "1/1 [==============================] - 0s 61ms/step\n"
          ]
        },
        {
          "output_type": "display_data",
          "data": {
            "text/plain": [
              "<IPython.core.display.Javascript object>"
            ],
            "application/javascript": [
              "addData(15896,[[19158.738]])"
            ]
          },
          "metadata": {}
        },
        {
          "output_type": "stream",
          "name": "stdout",
          "text": [
            "Predicted future price of BTC: $ [[19158.738]]\n",
            "Waiting for price to reach sell threshold\n",
            "Remaining balance (USD): $ 0 \n",
            "\n",
            "Current price of BTC: $ 14902\n",
            "Min 15787.28418 Max 31792.310547\n",
            "1/1 [==============================] - 0s 46ms/step\n"
          ]
        },
        {
          "output_type": "display_data",
          "data": {
            "text/plain": [
              "<IPython.core.display.Javascript object>"
            ],
            "application/javascript": [
              "addData(14902,[[19158.738]])"
            ]
          },
          "metadata": {}
        },
        {
          "output_type": "stream",
          "name": "stdout",
          "text": [
            "Predicted future price of BTC: $ [[19158.738]]\n",
            "Waiting for price to reach sell threshold\n",
            "Remaining balance (USD): $ 0 \n",
            "\n",
            "Current price of BTC: $ 13879\n",
            "Min 15787.28418 Max 31792.310547\n",
            "1/1 [==============================] - 0s 47ms/step\n"
          ]
        },
        {
          "output_type": "display_data",
          "data": {
            "text/plain": [
              "<IPython.core.display.Javascript object>"
            ],
            "application/javascript": [
              "addData(13879,[[19158.738]])"
            ]
          },
          "metadata": {}
        },
        {
          "output_type": "stream",
          "name": "stdout",
          "text": [
            "Predicted future price of BTC: $ [[19158.738]]\n",
            "New sell order placed: Transaction ID: dee28644-466e-4975-a046-cb5284110f68, Transaction Type: TransactionTypes.SELL, Price: 13879, Amount: 897852.2447923407 BTC, Volume: 64.69142191745375, Profit/Loss: -102147.75520765947, Transaction Trigger: Current price triggered stoploss\n",
            "Sell order fulfilled. Profit: $ -102147.75520765947\n",
            "Remaining balance (USD): $ 897852.2447923407 \n",
            "\n",
            "Current price of BTC: $ 9615\n",
            "Min 15787.28418 Max 31792.310547\n",
            "1/1 [==============================] - 0s 53ms/step\n"
          ]
        },
        {
          "output_type": "display_data",
          "data": {
            "text/plain": [
              "<IPython.core.display.Javascript object>"
            ],
            "application/javascript": [
              "addData(9615,[[19158.738]])"
            ]
          },
          "metadata": {}
        },
        {
          "output_type": "stream",
          "name": "stdout",
          "text": [
            "Predicted future price of BTC: $ [[19158.738]]\n",
            "New buy order placed: Transaction ID: 4dc0fcd0-ee1b-4f48-9849-4b1bf20f5437, Transaction Type: TransactionTypes.BUY, Price: 9615, Amount: 897852.2447923407 BTC, Volume: 93.38036867315036, Profit/Loss: Predicted future growth, Transaction Trigger: None\n",
            "Remaining balance (USD): $ 0.0 \n",
            "\n",
            "Current price of BTC: $ 9763\n",
            "Min 15787.28418 Max 31792.310547\n",
            "1/1 [==============================] - 0s 41ms/step\n"
          ]
        },
        {
          "output_type": "display_data",
          "data": {
            "text/plain": [
              "<IPython.core.display.Javascript object>"
            ],
            "application/javascript": [
              "addData(9763,[[19158.738]])"
            ]
          },
          "metadata": {}
        },
        {
          "output_type": "stream",
          "name": "stdout",
          "text": [
            "Predicted future price of BTC: $ [[19158.738]]\n",
            "Waiting for price to reach sell threshold\n",
            "Remaining balance (USD): $ 0.0 \n",
            "\n",
            "Current price of BTC: $ 10144\n",
            "Min 15787.28418 Max 31792.310547\n",
            "1/1 [==============================] - 0s 42ms/step\n"
          ]
        },
        {
          "output_type": "display_data",
          "data": {
            "text/plain": [
              "<IPython.core.display.Javascript object>"
            ],
            "application/javascript": [
              "addData(10144,[[19158.738]])"
            ]
          },
          "metadata": {}
        },
        {
          "output_type": "stream",
          "name": "stdout",
          "text": [
            "Predicted future price of BTC: $ [[19158.738]]\n",
            "Waiting for price to reach sell threshold\n",
            "Remaining balance (USD): $ 0.0 \n",
            "\n",
            "Current price of BTC: $ 10971\n",
            "Min 15787.28418 Max 31792.310547\n",
            "1/1 [==============================] - 0s 45ms/step\n"
          ]
        },
        {
          "output_type": "display_data",
          "data": {
            "text/plain": [
              "<IPython.core.display.Javascript object>"
            ],
            "application/javascript": [
              "addData(10971,[[19158.738]])"
            ]
          },
          "metadata": {}
        },
        {
          "output_type": "stream",
          "name": "stdout",
          "text": [
            "Predicted future price of BTC: $ [[19158.738]]\n",
            "Waiting for price to reach sell threshold\n",
            "Remaining balance (USD): $ 0.0 \n",
            "\n",
            "Current price of BTC: $ 10405\n",
            "Min 15787.28418 Max 31792.310547\n",
            "1/1 [==============================] - 0s 38ms/step\n"
          ]
        },
        {
          "output_type": "display_data",
          "data": {
            "text/plain": [
              "<IPython.core.display.Javascript object>"
            ],
            "application/javascript": [
              "addData(10405,[[19158.738]])"
            ]
          },
          "metadata": {}
        },
        {
          "output_type": "stream",
          "name": "stdout",
          "text": [
            "Predicted future price of BTC: $ [[19158.738]]\n",
            "Waiting for price to reach sell threshold\n",
            "Remaining balance (USD): $ 0.0 \n",
            "\n",
            "Current price of BTC: $ 10258\n",
            "Min 15787.28418 Max 31792.310547\n",
            "1/1 [==============================] - 0s 40ms/step\n"
          ]
        },
        {
          "output_type": "display_data",
          "data": {
            "text/plain": [
              "<IPython.core.display.Javascript object>"
            ],
            "application/javascript": [
              "addData(10258,[[19158.738]])"
            ]
          },
          "metadata": {}
        },
        {
          "output_type": "stream",
          "name": "stdout",
          "text": [
            "Predicted future price of BTC: $ [[19158.738]]\n",
            "Waiting for price to reach sell threshold\n",
            "Remaining balance (USD): $ 0.0 \n",
            "\n",
            "Current price of BTC: $ 11177\n",
            "Min 15787.28418 Max 31792.310547\n",
            "1/1 [==============================] - 0s 70ms/step\n"
          ]
        },
        {
          "output_type": "display_data",
          "data": {
            "text/plain": [
              "<IPython.core.display.Javascript object>"
            ],
            "application/javascript": [
              "addData(11177,[[19158.738]])"
            ]
          },
          "metadata": {}
        },
        {
          "output_type": "stream",
          "name": "stdout",
          "text": [
            "Predicted future price of BTC: $ [[19158.738]]\n",
            "Waiting for price to reach sell threshold\n",
            "Remaining balance (USD): $ 0.0 \n",
            "\n",
            "Current price of BTC: $ 10552\n",
            "Min 15787.28418 Max 31792.310547\n",
            "1/1 [==============================] - 0s 44ms/step\n"
          ]
        },
        {
          "output_type": "display_data",
          "data": {
            "text/plain": [
              "<IPython.core.display.Javascript object>"
            ],
            "application/javascript": [
              "addData(10552,[[19158.738]])"
            ]
          },
          "metadata": {}
        },
        {
          "output_type": "stream",
          "name": "stdout",
          "text": [
            "Predicted future price of BTC: $ [[19158.738]]\n",
            "Waiting for price to reach sell threshold\n",
            "Remaining balance (USD): $ 0.0 \n",
            "\n",
            "Current price of BTC: $ 11353\n",
            "Min 15787.28418 Max 31792.310547\n",
            "1/1 [==============================] - 0s 46ms/step\n"
          ]
        },
        {
          "output_type": "display_data",
          "data": {
            "text/plain": [
              "<IPython.core.display.Javascript object>"
            ],
            "application/javascript": [
              "addData(11353,[[19158.738]])"
            ]
          },
          "metadata": {}
        },
        {
          "output_type": "stream",
          "name": "stdout",
          "text": [
            "Predicted future price of BTC: $ [[19158.738]]\n",
            "Waiting for price to reach sell threshold\n",
            "Remaining balance (USD): $ 0.0 \n",
            "\n",
            "Current price of BTC: $ 11742\n",
            "Min 15787.28418 Max 31792.310547\n",
            "1/1 [==============================] - 0s 47ms/step\n"
          ]
        },
        {
          "output_type": "display_data",
          "data": {
            "text/plain": [
              "<IPython.core.display.Javascript object>"
            ],
            "application/javascript": [
              "addData(11742,[[19158.738]])"
            ]
          },
          "metadata": {}
        },
        {
          "output_type": "stream",
          "name": "stdout",
          "text": [
            "Predicted future price of BTC: $ [[19158.738]]\n",
            "Waiting for price to reach sell threshold\n",
            "Remaining balance (USD): $ 0.0 \n",
            "\n",
            "Current price of BTC: $ 12400\n",
            "Min 15787.28418 Max 31792.310547\n",
            "1/1 [==============================] - 0s 47ms/step\n"
          ]
        },
        {
          "output_type": "display_data",
          "data": {
            "text/plain": [
              "<IPython.core.display.Javascript object>"
            ],
            "application/javascript": [
              "addData(12400,[[19158.738]])"
            ]
          },
          "metadata": {}
        },
        {
          "output_type": "stream",
          "name": "stdout",
          "text": [
            "Predicted future price of BTC: $ [[19158.738]]\n",
            "Waiting for price to reach sell threshold\n",
            "Remaining balance (USD): $ 0.0 \n",
            "\n",
            "Current price of BTC: $ 13072\n",
            "Min 15787.28418 Max 31792.310547\n",
            "1/1 [==============================] - 0s 42ms/step\n"
          ]
        },
        {
          "output_type": "display_data",
          "data": {
            "text/plain": [
              "<IPython.core.display.Javascript object>"
            ],
            "application/javascript": [
              "addData(13072,[[19158.738]])"
            ]
          },
          "metadata": {}
        },
        {
          "output_type": "stream",
          "name": "stdout",
          "text": [
            "Predicted future price of BTC: $ [[19158.738]]\n",
            "New sell order placed: Transaction ID: 25b25efc-bb24-4e0d-a840-57fea410b0b0, Transaction Type: TransactionTypes.SELL, Price: 13072, Amount: 1220668.1792954216 BTC, Volume: 93.38036867315036, Profit/Loss: 322815.9345030808, Transaction Trigger: Investment goal reached\n",
            "Sell order fulfilled. Profit: $ 322815.9345030808\n",
            "Investment goal reached! Stop trading.\n",
            "Remaining balance (USD): $ 1220668.1792954216 \n",
            "\n",
            "Transaction record: [(Transaction ID: 812ddcb0-2771-4253-8aef-0fc2afdccc1d, Transaction Type: TransactionTypes.BUY, Price: 15458, Amount: 1000000 BTC, Volume: 64.69142191745375, Profit/Loss: Predicted future growth, Transaction Trigger: None), (Transaction ID: 812ddcb0-2771-4253-8aef-0fc2afdccc1d, Transaction Type: TransactionTypes.BUY, Price: 15458, Amount: 1000000 BTC, Volume: 64.69142191745375, Profit/Loss: Predicted future growth, Transaction Trigger: None), (Transaction ID: 812ddcb0-2771-4253-8aef-0fc2afdccc1d, Transaction Type: TransactionTypes.BUY, Price: 15458, Amount: 1000000 BTC, Volume: 64.69142191745375, Profit/Loss: Predicted future growth, Transaction Trigger: None), (Transaction ID: dee28644-466e-4975-a046-cb5284110f68, Transaction Type: TransactionTypes.SELL, Price: 13879, Amount: 897852.2447923407 BTC, Volume: 64.69142191745375, Profit/Loss: -102147.75520765947, Transaction Trigger: Current price triggered stoploss), (Transaction ID: 4dc0fcd0-ee1b-4f48-9849-4b1bf20f5437, Transaction Type: TransactionTypes.BUY, Price: 9615, Amount: 897852.2447923407 BTC, Volume: 93.38036867315036, Profit/Loss: Predicted future growth, Transaction Trigger: None), (Transaction ID: 4dc0fcd0-ee1b-4f48-9849-4b1bf20f5437, Transaction Type: TransactionTypes.BUY, Price: 9615, Amount: 897852.2447923407 BTC, Volume: 93.38036867315036, Profit/Loss: Predicted future growth, Transaction Trigger: None), (Transaction ID: 4dc0fcd0-ee1b-4f48-9849-4b1bf20f5437, Transaction Type: TransactionTypes.BUY, Price: 9615, Amount: 897852.2447923407 BTC, Volume: 93.38036867315036, Profit/Loss: Predicted future growth, Transaction Trigger: None), (Transaction ID: 4dc0fcd0-ee1b-4f48-9849-4b1bf20f5437, Transaction Type: TransactionTypes.BUY, Price: 9615, Amount: 897852.2447923407 BTC, Volume: 93.38036867315036, Profit/Loss: Predicted future growth, Transaction Trigger: None), (Transaction ID: 4dc0fcd0-ee1b-4f48-9849-4b1bf20f5437, Transaction Type: TransactionTypes.BUY, Price: 9615, Amount: 897852.2447923407 BTC, Volume: 93.38036867315036, Profit/Loss: Predicted future growth, Transaction Trigger: None), (Transaction ID: 4dc0fcd0-ee1b-4f48-9849-4b1bf20f5437, Transaction Type: TransactionTypes.BUY, Price: 9615, Amount: 897852.2447923407 BTC, Volume: 93.38036867315036, Profit/Loss: Predicted future growth, Transaction Trigger: None), (Transaction ID: 4dc0fcd0-ee1b-4f48-9849-4b1bf20f5437, Transaction Type: TransactionTypes.BUY, Price: 9615, Amount: 897852.2447923407 BTC, Volume: 93.38036867315036, Profit/Loss: Predicted future growth, Transaction Trigger: None), (Transaction ID: 4dc0fcd0-ee1b-4f48-9849-4b1bf20f5437, Transaction Type: TransactionTypes.BUY, Price: 9615, Amount: 897852.2447923407 BTC, Volume: 93.38036867315036, Profit/Loss: Predicted future growth, Transaction Trigger: None), (Transaction ID: 4dc0fcd0-ee1b-4f48-9849-4b1bf20f5437, Transaction Type: TransactionTypes.BUY, Price: 9615, Amount: 897852.2447923407 BTC, Volume: 93.38036867315036, Profit/Loss: Predicted future growth, Transaction Trigger: None), (Transaction ID: 4dc0fcd0-ee1b-4f48-9849-4b1bf20f5437, Transaction Type: TransactionTypes.BUY, Price: 9615, Amount: 897852.2447923407 BTC, Volume: 93.38036867315036, Profit/Loss: Predicted future growth, Transaction Trigger: None), (Transaction ID: 4dc0fcd0-ee1b-4f48-9849-4b1bf20f5437, Transaction Type: TransactionTypes.BUY, Price: 9615, Amount: 897852.2447923407 BTC, Volume: 93.38036867315036, Profit/Loss: Predicted future growth, Transaction Trigger: None), (Transaction ID: 25b25efc-bb24-4e0d-a840-57fea410b0b0, Transaction Type: TransactionTypes.SELL, Price: 13072, Amount: 1220668.1792954216 BTC, Volume: 93.38036867315036, Profit/Loss: 322815.9345030808, Transaction Trigger: Investment goal reached)]\n",
            "Profit and Loss: [{UUID('dee28644-466e-4975-a046-cb5284110f68'): -102147.75520765947}, {UUID('25b25efc-bb24-4e0d-a840-57fea410b0b0'): 322815.9345030808}]\n"
          ]
        }
      ],
      "source": [
        "import os\n",
        "import uuid\n",
        "import numpy as np\n",
        "import random\n",
        "import requests\n",
        "import time\n",
        "import pandas as pd\n",
        "from enum import Enum\n",
        "from prophet import Prophet\n",
        "from datetime import date, datetime, timedelta\n",
        "\n",
        "import matplotlib.pyplot as plt\n",
        "from sklearn.preprocessing import MinMaxScaler\n",
        "\n",
        "import IPython\n",
        "from IPython.display import display, HTML, Javascript\n",
        "\n",
        "from tensorflow.keras import Sequential\n",
        "from tensorflow.keras.layers import Dense, LSTM, Dropout\n",
        "\n",
        "# Constants\n",
        "INITIAL_BALANCE = 1000000  # $1 million\n",
        "INTERVALS = 5  # seconds\n",
        "MINIMUM_GROWTH = 0.02  # minimum 2% increase in predicted price to trigger buy\n",
        "STOP_LOSS_PERCENTAGE = 0.05  # limit loss to 5%\n",
        "GOAL = 1200000  # $1.2 million\n",
        "\n",
        "\"\"\" LSTM Prediction Functions \"\"\"\n",
        "def preprocess_data(data_url):\n",
        "    df = pd.read_csv(data_url)\n",
        "    df = df.drop(['Adj Close'], axis=1)\n",
        "    #df.rename(columns={'Date': 'ds', 'Close': 'y'}, inplace=True)\n",
        "    return df\n",
        "\n",
        "\n",
        "def train_lstm_model(x_train):\n",
        "    #Initialize the RNN\n",
        "    model = Sequential() \n",
        "    model.add(LSTM(units = 50, \n",
        "                   activation = 'relu', \n",
        "                   return_sequences = True, \n",
        "                   input_shape = (x_train.shape[1], 5)))\n",
        "\n",
        "    model.add(Dropout(0.2)) \n",
        "    model.add(LSTM(units = 60, activation = 'relu', return_sequences = True))\n",
        "    model.add(Dropout(0.3)) \n",
        "    model.add(LSTM(units = 80, activation = 'relu', return_sequences = True))\n",
        "\n",
        "    model.add(Dropout(0.4)) \n",
        "    model.add(LSTM(units = 120, activation = 'relu'))\n",
        "    model.add(Dropout(0.5)) \n",
        "    model.add(Dense(units =1))\n",
        "    model.summary()\n",
        "\n",
        "    model.compile(optimizer = 'adam', loss = 'mean_squared_error')\n",
        "    return model\n",
        "\n",
        "def display_training_validation_loss(history):                      \n",
        "    loss = history.history['loss']\n",
        "    val_loss = history.history['val_loss']\n",
        "    epochs = range(len(loss))\n",
        "    plt.figure()\n",
        "    plt.plot(epochs, loss, 'b', label='Training loss')\n",
        "    plt.plot(epochs, val_loss, 'r', label='Validation loss')\n",
        "    plt.title(\"Training and Validation Loss\")\n",
        "    plt.legend()\n",
        "    plt.show()\n",
        "\n",
        "def predict_lstm_price(model, data_test, data, days, scaler):\n",
        "    # Prepare input data for prediction\n",
        "    last_60_days = data_test.tail(60)  # Take the most recent 60 data points\n",
        "    last_60_days = last_60_days.drop(['Date'], axis = 1)\n",
        "    inputs = scaler.transform(last_60_days)  # Scale the input data\n",
        "    reshaped_inputs = np.reshape(inputs, (1, 60, 5))  # Reshape the input data\n",
        "\n",
        "    # Obtain the scaling parameters\n",
        "    price_min = data['Close'].min()\n",
        "    price_max = data['Close'].max()\n",
        "    print(\"Min\", price_min, \"Max\", price_max)\n",
        "\n",
        "    # Reverse the scaling transformation\n",
        "    predicted_price = model.predict(reshaped_inputs)\n",
        "    predicted_price_rescaled = predicted_price * (price_max - price_min) + price_min\n",
        "    next_day_date = days.iloc[-1]\n",
        "    return predicted_price_rescaled\n",
        "    # # Print the real predicted price for the next day\n",
        "    # print(\"Predicted price for next day:\", predicted_price)\n",
        "    # print(\"Real predicted price for the next day:\", next_day_date, \":\", predicted_price_rescaled)\n",
        "\n",
        "\n",
        "class BitcoinTransaction:\n",
        "    def __init__(\n",
        "        self,\n",
        "        transaction_type,\n",
        "        price,\n",
        "        amount,\n",
        "        volume,\n",
        "        profit_or_loss=None,\n",
        "        transaction_trigger=None,\n",
        "    ):\n",
        "        self.transaction_type = transaction_type\n",
        "        self.price = price\n",
        "        self.amount = amount\n",
        "        self.volume = volume\n",
        "        self.profit_or_loss = profit_or_loss\n",
        "        self.transaction_trigger = transaction_trigger\n",
        "        self.transaction_id = uuid.uuid4()\n",
        "\n",
        "    def __str__(self):\n",
        "        return f\"Transaction ID: {self.transaction_id}, Transaction Type: {self.transaction_type}, Price: {self.price}, Amount: {self.amount} BTC, Volume: {self.volume}, Profit/Loss: {self.profit_or_loss}, Transaction Trigger: {self.transaction_trigger}\"\n",
        "\n",
        "    def __repr__(self):\n",
        "        return f\"({str(self)})\"\n",
        "\n",
        "\n",
        "class TransactionTypes(Enum):\n",
        "    BUY = 1\n",
        "    SELL = 2\n",
        "\n",
        "\n",
        "\"\"\" Trading Bot Functions \"\"\"\n",
        "\n",
        "\n",
        "def get_price():\n",
        "    url = \"https://pro-api.coinmarketcap.com/v1/cryptocurrency/quotes/latest\"\n",
        "    headers = {\"X-CMC_PRO_API_KEY\": \"f16d5846-68ea-4cbc-88c2-b2b0ae91ae25\"}\n",
        "    params = {\"symbol\": \"BTC\"}\n",
        "    response = requests.get(url, headers=headers, params=params)\n",
        "    if response.status_code == 200:\n",
        "        data = response.json()\n",
        "        return data[\"data\"][\"BTC\"][\"quote\"][\"USD\"][\"price\"]\n",
        "    else:\n",
        "        return None\n",
        "\n",
        "\n",
        "def take_decision(current_price, predicted_price, balance, buy_order, sell_order):\n",
        "    # no buy orders placed yet\n",
        "    if buy_order is None:\n",
        "        # Check if price is predicted to grow beyond minimum required growth\n",
        "        if predicted_price >= current_price * (1 + MINIMUM_GROWTH):\n",
        "            # Check if we have sufficient balance\n",
        "            if balance > 0:\n",
        "                # Calculate the volume of BTC we can buy with our balance and the dollar amount\n",
        "                volume = balance / current_price\n",
        "                amount = balance\n",
        "                # Place the buy order\n",
        "                trigger = \"Predicted future growth\"\n",
        "                buy_order = BitcoinTransaction(\n",
        "                    TransactionTypes.BUY, current_price, amount, volume, trigger\n",
        "                )\n",
        "                print(\"New buy order placed:\", buy_order)\n",
        "                balance -= amount\n",
        "            else:\n",
        "                print(\"Insufficient balance to place a new buy order\")\n",
        "        else:\n",
        "            print(\n",
        "                f\"Predicted future price does not meet the minimum growth requirement ({MINIMUM_GROWTH * 100}%) for buy trigger\"\n",
        "            )\n",
        "    elif sell_order is None:\n",
        "        # Check if current price has fallen to trigger stoploss sell, minimize loss\n",
        "        if current_price <= buy_order.price * (1 - STOP_LOSS_PERCENTAGE):\n",
        "            volume = buy_order.volume\n",
        "            amount = current_price * volume\n",
        "            # calculate the loss (negative profit) incurred in this sell order\n",
        "            profit_or_loss = volume * (current_price - buy_order.price)\n",
        "            trigger = \"Current price triggered stoploss\"\n",
        "            sell_order = BitcoinTransaction(\n",
        "                TransactionTypes.SELL,\n",
        "                current_price,\n",
        "                amount,\n",
        "                volume,\n",
        "                profit_or_loss,\n",
        "                trigger,\n",
        "            )\n",
        "            print(\"New sell order placed:\", sell_order)\n",
        "            balance += amount\n",
        "        # Check if investment goal has been reached\n",
        "        elif balance + (current_price * buy_order.volume) >= GOAL:\n",
        "            volume = buy_order.volume\n",
        "            amount = current_price * volume\n",
        "            # calculate the profit/loss incurred in this sell order\n",
        "            profit_or_loss = volume * (current_price - buy_order.price)\n",
        "            trigger = \"Investment goal reached\"\n",
        "            sell_order = BitcoinTransaction(\n",
        "                TransactionTypes.SELL,\n",
        "                current_price,\n",
        "                amount,\n",
        "                volume,\n",
        "                profit_or_loss,\n",
        "                trigger,\n",
        "            )\n",
        "            print(\"New sell order placed:\", sell_order)\n",
        "            balance += amount\n",
        "        # Check if predicted future price will fall below stoploss of current price, prevent possible loss\n",
        "        elif predicted_price <= current_price * (1 - STOP_LOSS_PERCENTAGE):\n",
        "            volume = buy_order.volume\n",
        "            amount = current_price * volume\n",
        "            # calculate the profit/loss incurred in this sell order\n",
        "            profit_or_loss = volume * (current_price - buy_order.price)\n",
        "            trigger = \"Predicted future price triggered stoploss\"\n",
        "            sell_order = BitcoinTransaction(\n",
        "                TransactionTypes.SELL,\n",
        "                current_price,\n",
        "                amount,\n",
        "                volume,\n",
        "                profit_or_loss,\n",
        "                trigger,\n",
        "            )\n",
        "            print(\"New sell order placed:\", sell_order)\n",
        "            balance += amount\n",
        "        else:\n",
        "            print(\"Waiting for price to reach sell threshold\")\n",
        "\n",
        "    return buy_order, sell_order, balance\n",
        "\n",
        "\n",
        "def configure_browser_state():\n",
        "    display(\n",
        "        IPython.core.display.HTML(\n",
        "            \"\"\"\n",
        "    <canvas id=\"myChart\"></canvas>\n",
        "  \"\"\"\n",
        "        )\n",
        "    )\n",
        "    display(\n",
        "        IPython.core.display.HTML(\n",
        "            \"\"\"\n",
        "        <script src=\"https://cdn.jsdelivr.net/npm/chart.js@2.8.0\"></script>\n",
        "        <script>\n",
        "          var ctx = document.getElementById('myChart').getContext('2d');\n",
        "          var chart = new Chart(ctx, {\n",
        "              // The type of chart we want to create\n",
        "              type: 'line',\n",
        "\n",
        "              // The data for our dataset\n",
        "              data: {\n",
        "                  labels: [getDateTime(-10), getDateTime(-20), getDateTime(-30),\n",
        "                                  getDateTime(-40), getDateTime(-50), getDateTime(-60) ],\n",
        "                  datasets: [{\n",
        "                      label: 'Actual',\n",
        "                      borderColor: 'rgb(255, 99, 132)',\n",
        "                      data: [0,1,2,3,4,5]\n",
        "                  }, \n",
        "                  {\n",
        "                      label: 'Predicted',\n",
        "                      borderColor: 'rgb(155, 199, 32)',\n",
        "                      data: [0,1,2,3,4,5]\n",
        "                  }]\n",
        "              },\n",
        "\n",
        "              // Configuration options go here\n",
        "              options: { animation: {duration: 0} ,\n",
        "                scales: {x: {\n",
        "                           type: 'time',\n",
        "                           time: { unit: 'minute',displayFormats: {minute: 'HH:mm'},tooltipFormat: 'HH:mm'},\n",
        "                           title: {display: true, text: 'Date'}},\n",
        "                         y: {\n",
        "                           title: { display: true, text: 'value'}},\n",
        "                         xAxes: [{ scaleLabel: { display: true, labelString: 'Timestamp [YYYY-MM-DD hh:mm:ss]'}}],\n",
        "                        yAxes: [{scaleLabel: {display: true, labelString: 'BitCoin Price [USD $]'} }], },\n",
        "                title: { display: true, text: 'Bitcoin Price - Realtime Prediction'}}});\n",
        "\n",
        "          function getEpoch(offset_sec=0) {\n",
        "             var now     = new Date(); \n",
        "             return Math.floor((now.getTime() - offset_sec*1000)/1000);}\n",
        "\n",
        "          function getDateTime(offset_sec=0) {\n",
        "             var now     = new Date(); \n",
        "             var numberOfMlSeconds = now.getTime() - offset_sec*1000;\n",
        "             var update_now = new Date (numberOfMlSeconds);\n",
        "             var year    = update_now.getFullYear();\n",
        "             var month   = update_now.getMonth()+1; \n",
        "             var day     = update_now.getDate();\n",
        "             var hour    = update_now.getHours();\n",
        "             var minute  = update_now.getMinutes();\n",
        "             var second  = update_now.getSeconds(); \n",
        "             if(month.toString().length == 1) {\n",
        "                 month = '0'+month;}\n",
        "             if(day.toString().length == 1) {\n",
        "                 day = '0'+day;}   \n",
        "             if(hour.toString().length == 1) {\n",
        "                 hour = '0'+hour;}\n",
        "             if(minute.toString().length == 1) {\n",
        "                 minute = '0'+minute; }\n",
        "             if(second.toString().length == 1) {\n",
        "                 second = '0'+second;}   \n",
        "             var dateTime = year+'-'+month+'-'+day+' '+hour+':'+minute+':'+second;   \n",
        "             return dateTime;\n",
        "          }\n",
        "\n",
        "          function addData(value, value2){\n",
        "            chart.data.labels.push(getDateTime())\n",
        "            chart.data.datasets[0].data.push(value)\n",
        "            chart.data.datasets[1].data.push(value2)\n",
        "            // optional windowing\n",
        "            if(chart.data.labels.length > 100) {\n",
        "              chart.data.labels.shift()\n",
        "              chart.data.datasets[0].data.shift()\n",
        "              chart.data.datasets[1].data.shift() }\n",
        "\n",
        "            chart.update();\n",
        "          }\n",
        "        </script>\n",
        "        \"\"\"\n",
        "        )\n",
        "    )\n",
        "\n",
        "\n",
        "# Main program\n",
        "def main():\n",
        "    balance = INITIAL_BALANCE\n",
        "    buy_order = None\n",
        "    sell_order = None\n",
        "    goal_reached = False\n",
        "\n",
        "    # url = 'https://raw.githubusercontent.com/yetanotherpassword/COMS4507/main/BTC-USD.csv'\n",
        "    # update this url to new dataset for future retraining.\n",
        "    url = \"https://raw.githubusercontent.com/AnsonCNS/COMS4507/main/BTC-USD_2023-05-21.csv\"\n",
        "    data = preprocess_data(url)\n",
        "    last_date = datetime.strptime(data['Date'][data.shape[0]-1],'%Y-%m-%d')\n",
        "\n",
        "    #separate the last 120 days to simulate as live daily data\n",
        "    last_trainingdate = str(last_date+timedelta(days=-120))\n",
        "\n",
        "    print(\"last_trainingdate=\"+last_trainingdate[0:10]+\":\")\n",
        "\n",
        "    data_training = data[data['Date']< last_trainingdate[0:10]].copy()\n",
        "    data_training\n",
        "    print(\"Above is data_training\")\n",
        "\n",
        "    data_test = data[data['Date']< last_trainingdate[0:10]].copy()\n",
        "    data_test\n",
        "    print(\"Above  is data_test\")\n",
        "\n",
        "    live_data = data[data['Date'] >= last_trainingdate[0:10]].copy()\n",
        "\n",
        "    training_data = data_training.drop(['Date'], axis = 1)\n",
        "    training_data.head()\n",
        "    print(\"Above is training_data.head())\")\n",
        "\n",
        "    scaler = MinMaxScaler()\n",
        "    training_data = scaler.fit_transform(training_data)\n",
        "    training_data\n",
        "\n",
        "    X_train = [] \n",
        "    Y_train = []\n",
        "    training_data.shape[0]\n",
        "    for i in range(60, training_data.shape[0]):\n",
        "      X_train.append(training_data[i-60:i])\n",
        "      Y_train.append(training_data[i,0])\n",
        "    X_train, Y_train = np.array(X_train), np.array(Y_train)\n",
        "    X_train.shape\n",
        "\n",
        "    model = train_lstm_model(X_train)\n",
        "    history= model.fit(X_train, \n",
        "                       Y_train, \n",
        "                       epochs = 50, \n",
        "                       batch_size =50, \n",
        "                       validation_split=0.1)\n",
        "    \n",
        "    # Display training and Validation loss graph\n",
        "    display_training_validation_loss(history)\n",
        "\n",
        "    # Ready graph display\n",
        "    configure_browser_state() \n",
        "    \n",
        "    part_60_days = data_training.tail(60)\n",
        "    df= part_60_days.append(live_data, ignore_index = True)\n",
        "    days = df['Date']\n",
        "    df = df.drop(['Date'], axis = 1)\n",
        "    df.head()\n",
        "\n",
        "    print(\"days=\",days)\n",
        "    inputs = scaler.transform(df) \n",
        "    inputs\n",
        "\n",
        "    X_test = []\n",
        "    Y_test = []\n",
        "    Y_pred = -1\n",
        "    print(\"inputs.shape[0]=\",inputs.shape[0])\n",
        "    for i in range (60, inputs.shape[0]):\n",
        "        X_test.append(inputs[i-60:i]) \n",
        "        Y_test.append(inputs[i, 0])\n",
        "        x1 = X_test[-1][-1]\n",
        "        y1 = Y_test[-1]\n",
        "        print(\"x1=\",x1)\n",
        "        print(\"y1=\",y1)\n",
        "        #if Y_pred != -1:\n",
        "        #    model.train_on_batch(x1, y1)\n",
        "        Y_pred = model.predict(np.array(X_test))\n",
        "        print(\"days=\",days[i])\n",
        "        display(Javascript('addData('+str(Y_test[-1])+','+str(Y_pred[-1])+',\"'+str(days[i])+'\")'))\n",
        "\n",
        "    plt.figure(figsize=(14,5))\n",
        "    plt.plot(Y_test, color = 'red', label = 'Real Bitcoin Price')\n",
        "    plt.plot(Y_pred, color = 'green', label = 'Predicted Bitcoin Price')\n",
        "    plt.title('Bitcoin Price Prediction using RNN-LSTM')\n",
        "    plt.xlabel('Time')\n",
        "    plt.ylabel('Price')\n",
        "    plt.legend()\n",
        "    plt.show()\n",
        "\n",
        "    ##FIXME\n",
        "    # predict_lstm_price(model, data_test, data, days, scaler)\n",
        "\n",
        "    # Trading Bot Section\n",
        "    transaction_record = []\n",
        "    profit_and_loss_record = []\n",
        "\n",
        "    # FIXME the line below is for experimental demonstration, remove line to get real prices\n",
        "    current_price = get_price()\n",
        "\n",
        "    # keep running the bot if there is positive balance or an existing buy order has been placed.\n",
        "    while (balance > 0 or buy_order) and not goal_reached:\n",
        "        # FIXME\n",
        "        # uncomment the following line to get real prices\n",
        "        # current_price = get_price()\n",
        "\n",
        "        # FIXME\n",
        "        # the following lines are for experimental demonstration, remove lines to get real prices\n",
        "        if not buy_order:\n",
        "          current_price = random.randint(int(current_price * (1 - 0.4)), int(current_price))\n",
        "        else:\n",
        "          current_price = random.randint(int(current_price * (1 - 0.1)), int(current_price * (1 + 0.1)))\n",
        "\n",
        "        if current_price is not None:\n",
        "            print(\"Current price of BTC: $\", current_price)\n",
        "            predicted_price = predict_lstm_price(model, data_test, data, days, scaler)\n",
        "            display(\n",
        "                Javascript(\n",
        "                    \"addData(\" + str(current_price) + \",\" + str(predicted_price) + \")\"\n",
        "                )\n",
        "            )\n",
        "            print(\"Predicted future price of BTC: $\", predicted_price)\n",
        "            buy_order, sell_order, balance = take_decision(\n",
        "                current_price, predicted_price, balance, buy_order, sell_order\n",
        "            )\n",
        "\n",
        "            if sell_order:\n",
        "                # record transaction\n",
        "                transaction_record.append(sell_order)\n",
        "                print(\"Sell order fulfilled. Profit: $\", sell_order.profit_or_loss)\n",
        "                profit_and_loss_record.append(\n",
        "                    {sell_order.transaction_id: sell_order.profit_or_loss}\n",
        "                )\n",
        "\n",
        "                # reset orders\n",
        "                buy_order = None\n",
        "                sell_order = None\n",
        "\n",
        "            elif buy_order:\n",
        "                # record transaction\n",
        "                transaction_record.append(buy_order)\n",
        "\n",
        "            if balance >= GOAL:\n",
        "                goal_reached = True\n",
        "                print(\"Investment goal reached! Stop trading.\")\n",
        "\n",
        "            print(\"Remaining balance (USD): $\", balance, \"\\n\")\n",
        "\n",
        "        else:\n",
        "            print(\"Error getting price from CoinMarketCap API\")\n",
        "\n",
        "        time.sleep(INTERVALS)\n",
        "\n",
        "    print(\"Transaction record:\", transaction_record)\n",
        "    print(\"Profit and Loss:\", profit_and_loss_record)\n",
        "\n",
        "\n",
        "if __name__ == \"__main__\":\n",
        "    main()"
      ]
    }
  ]
}
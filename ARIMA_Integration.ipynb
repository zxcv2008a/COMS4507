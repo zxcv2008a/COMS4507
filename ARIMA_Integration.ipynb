{
  "nbformat": 4,
  "nbformat_minor": 0,
  "metadata": {
    "colab": {
      "provenance": []
    },
    "kernelspec": {
      "name": "python3",
      "display_name": "Python 3"
    },
    "language_info": {
      "name": "python"
    }
  },
  "cells": [
    {
      "cell_type": "code",
      "execution_count": 13,
      "metadata": {
        "colab": {
          "base_uri": "https://localhost:8080/",
          "height": 1000
        },
        "id": "4tueR8HdvXQX",
        "outputId": "f7db0a2c-e01b-4b94-fcac-d6a662e7918e"
      },
      "outputs": [
        {
          "output_type": "display_data",
          "data": {
            "text/plain": [
              "<IPython.core.display.HTML object>"
            ],
            "text/html": [
              "\n",
              "    <canvas id=\"myChart\"></canvas>\n",
              "  "
            ]
          },
          "metadata": {}
        },
        {
          "output_type": "display_data",
          "data": {
            "text/plain": [
              "<IPython.core.display.HTML object>"
            ],
            "text/html": [
              "\n",
              "        <script src=\"https://cdn.jsdelivr.net/npm/chart.js@2.8.0\"></script>\n",
              "        <script>\n",
              "          var ctx = document.getElementById('myChart').getContext('2d');\n",
              "          var chart = new Chart(ctx, {\n",
              "              // The type of chart we want to create\n",
              "              type: 'line',\n",
              "\n",
              "              // The data for our dataset\n",
              "              data: {\n",
              "                  labels: [getDateTime(-10), getDateTime(-20), getDateTime(-30),\n",
              "                                  getDateTime(-40), getDateTime(-50), getDateTime(-60) ],\n",
              "                  datasets: [{\n",
              "                      label: 'Actual',\n",
              "                      borderColor: 'rgb(255, 99, 132)',\n",
              "                      data: [0,1,2,3,4,5]\n",
              "                  }, \n",
              "                  {\n",
              "                      label: 'Predicted',\n",
              "                      borderColor: 'rgb(155, 199, 32)',\n",
              "                      data: [0,1,2,3,4,5]\n",
              "                  }]\n",
              "              },\n",
              "\n",
              "              // Configuration options go here\n",
              "              options: { animation: {duration: 0} ,\n",
              "                scales: {x: {\n",
              "                           type: 'time',\n",
              "                           time: { unit: 'minute',displayFormats: {minute: 'HH:mm'},tooltipFormat: 'HH:mm'},\n",
              "                           title: {display: true, text: 'Date'}},\n",
              "                         y: {\n",
              "                           title: { display: true, text: 'value'}},\n",
              "                         xAxes: [{ scaleLabel: { display: true, labelString: 'Timestamp [YYYY-MM-DD hh:mm:ss]'}}],\n",
              "                        yAxes: [{scaleLabel: {display: true, labelString: 'BitCoin Price [USD $]'} }], },\n",
              "                title: { display: true, text: 'Bitcoin Price - Realtime Prediction'}}});\n",
              "\n",
              "          function getEpoch(offset_sec=0) {\n",
              "             var now     = new Date(); \n",
              "             return Math.floor((now.getTime() - offset_sec*1000)/1000);}\n",
              "\n",
              "          function getDateTime(offset_sec=0) {\n",
              "             var now     = new Date(); \n",
              "             var numberOfMlSeconds = now.getTime() - offset_sec*1000;\n",
              "             var update_now = new Date (numberOfMlSeconds);\n",
              "             var year    = update_now.getFullYear();\n",
              "             var month   = update_now.getMonth()+1; \n",
              "             var day     = update_now.getDate();\n",
              "             var hour    = update_now.getHours();\n",
              "             var minute  = update_now.getMinutes();\n",
              "             var second  = update_now.getSeconds(); \n",
              "             if(month.toString().length == 1) {\n",
              "                 month = '0'+month;}\n",
              "             if(day.toString().length == 1) {\n",
              "                 day = '0'+day;}   \n",
              "             if(hour.toString().length == 1) {\n",
              "                 hour = '0'+hour;}\n",
              "             if(minute.toString().length == 1) {\n",
              "                 minute = '0'+minute; }\n",
              "             if(second.toString().length == 1) {\n",
              "                 second = '0'+second;}   \n",
              "             var dateTime = year+'-'+month+'-'+day+' '+hour+':'+minute+':'+second;   \n",
              "             return dateTime;\n",
              "          }\n",
              "\n",
              "          function addData(value, value2){\n",
              "            chart.data.labels.push(getDateTime())\n",
              "            chart.data.datasets[0].data.push(value)\n",
              "            chart.data.datasets[1].data.push(value2)\n",
              "            // optional windowing\n",
              "            if(chart.data.labels.length > 100) {\n",
              "              chart.data.labels.shift()\n",
              "              chart.data.datasets[0].data.shift()\n",
              "              chart.data.datasets[1].data.shift() }\n",
              "\n",
              "            chart.update();\n",
              "          }\n",
              "        </script>\n",
              "        "
            ]
          },
          "metadata": {}
        },
        {
          "output_type": "display_data",
          "data": {
            "text/plain": [
              "<Figure size 640x480 with 1 Axes>"
            ],
            "image/png": "[encoded data removed]"
          },
          "metadata": {}
        },
        {
          "output_type": "stream",
          "name": "stdout",
          "text": [
            "ADF Stastistic: -3.380787\n",
            "p-value: 0.011632\n",
            "The graph is non stationery\n",
            "Critical values:\n",
            "\t1%: -3.448 \n",
            "\t5%: -2.870 \n",
            "\t10%: -2.571 \n"
          ]
        },
        {
          "output_type": "stream",
          "name": "stderr",
          "text": [
            "/usr/local/lib/python3.10/dist-packages/statsmodels/tsa/base/tsa_model.py:471: ValueWarning: No frequency information was provided, so inferred frequency D will be used.\n",
            "  self._init_dates(dates, freq)\n",
            "/usr/local/lib/python3.10/dist-packages/statsmodels/tsa/base/tsa_model.py:471: ValueWarning: No frequency information was provided, so inferred frequency D will be used.\n",
            "  self._init_dates(dates, freq)\n",
            "/usr/local/lib/python3.10/dist-packages/statsmodels/tsa/base/tsa_model.py:471: ValueWarning: No frequency information was provided, so inferred frequency D will be used.\n",
            "  self._init_dates(dates, freq)\n"
          ]
        },
        {
          "output_type": "stream",
          "name": "stdout",
          "text": [
            "Current price of BTC: $ 20976.298828\n",
            "PREDICTED PRICE $ 20506.726348437216\n"
          ]
        },
        {
          "output_type": "display_data",
          "data": {
            "text/plain": [
              "<IPython.core.display.Javascript object>"
            ],
            "application/javascript": [
              "addData(20976.298828,20506.726348437216)"
            ]
          },
          "metadata": {}
        },
        {
          "output_type": "stream",
          "name": "stdout",
          "text": [
            "Predicted future price of BTC: $ 20506.726348437216\n",
            "Predicted future price does not meet the minimum growth requirement (2.0%) for buy trigger\n",
            "Remaining balance (USD): $ 1000000 \n",
            "\n",
            "Current price of BTC: $ 20880.798828\n",
            "PREDICTED PRICE $ 20879.62113509295\n"
          ]
        },
        {
          "output_type": "display_data",
          "data": {
            "text/plain": [
              "<IPython.core.display.Javascript object>"
            ],
            "application/javascript": [
              "addData(20880.798828,20879.62113509295)"
            ]
          },
          "metadata": {}
        },
        {
          "output_type": "stream",
          "name": "stdout",
          "text": [
            "Predicted future price of BTC: $ 20879.62113509295\n",
            "Predicted future price does not meet the minimum growth requirement (2.0%) for buy trigger\n",
            "Remaining balance (USD): $ 1000000 \n",
            "\n",
            "Current price of BTC: $ 21169.632813\n",
            "PREDICTED PRICE $ 21117.361492267322\n"
          ]
        },
        {
          "output_type": "display_data",
          "data": {
            "text/plain": [
              "<IPython.core.display.Javascript object>"
            ],
            "application/javascript": [
              "addData(21169.632813,21117.361492267322)"
            ]
          },
          "metadata": {}
        },
        {
          "output_type": "stream",
          "name": "stdout",
          "text": [
            "Predicted future price of BTC: $ 21117.361492267322\n",
            "Predicted future price does not meet the minimum growth requirement (2.0%) for buy trigger\n",
            "Remaining balance (USD): $ 1000000 \n",
            "\n",
            "Current price of BTC: $ 21161.519531\n",
            "PREDICTED PRICE $ 21305.526066891558\n"
          ]
        },
        {
          "output_type": "display_data",
          "data": {
            "text/plain": [
              "<IPython.core.display.Javascript object>"
            ],
            "application/javascript": [
              "addData(21161.519531,21305.526066891558)"
            ]
          },
          "metadata": {}
        },
        {
          "output_type": "stream",
          "name": "stdout",
          "text": [
            "Predicted future price of BTC: $ 21305.526066891558\n",
            "Predicted future price does not meet the minimum growth requirement (2.0%) for buy trigger\n",
            "Remaining balance (USD): $ 1000000 \n",
            "\n",
            "Current price of BTC: $ 20688.78125\n",
            "PREDICTED PRICE $ 21447.89623246405\n"
          ]
        },
        {
          "output_type": "display_data",
          "data": {
            "text/plain": [
              "<IPython.core.display.Javascript object>"
            ],
            "application/javascript": [
              "addData(20688.78125,21447.89623246405)"
            ]
          },
          "metadata": {}
        },
        {
          "output_type": "stream",
          "name": "stdout",
          "text": [
            "Predicted future price of BTC: $ 21447.89623246405\n",
            "New buy order placed: Transaction ID: 6954ce89-967c-4738-98f9-f402647e75ba, Transaction Type: TransactionTypes.BUY, Price: 20688.78125, Amount: 1000000 BTC, Volume: 48.33537499943357, Profit/Loss: Predicted future growth, Transaction Trigger: None\n",
            "Remaining balance (USD): $ 0 \n",
            "\n",
            "Current price of BTC: $ 21086.792969\n",
            "PREDICTED PRICE $ 21560.42791926659\n"
          ]
        },
        {
          "output_type": "display_data",
          "data": {
            "text/plain": [
              "<IPython.core.display.Javascript object>"
            ],
            "application/javascript": [
              "addData(21086.792969,21560.42791926659)"
            ]
          },
          "metadata": {}
        },
        {
          "output_type": "stream",
          "name": "stdout",
          "text": [
            "Predicted future price of BTC: $ 21560.42791926659\n",
            "Waiting for price to reach sell threshold\n",
            "Remaining balance (USD): $ 0 \n",
            "\n",
            "Current price of BTC: $ 22676.552734\n",
            "PREDICTED PRICE $ 21650.00895666749\n"
          ]
        },
        {
          "output_type": "display_data",
          "data": {
            "text/plain": [
              "<IPython.core.display.Javascript object>"
            ],
            "application/javascript": [
              "addData(22676.552734,21650.00895666749)"
            ]
          },
          "metadata": {}
        },
        {
          "output_type": "stream",
          "name": "stdout",
          "text": [
            "Predicted future price of BTC: $ 21650.00895666749\n",
            "Waiting for price to reach sell threshold\n",
            "Remaining balance (USD): $ 0 \n",
            "\n",
            "Current price of BTC: $ 22777.625\n",
            "PREDICTED PRICE $ 21726.06410083678\n"
          ]
        },
        {
          "output_type": "display_data",
          "data": {
            "text/plain": [
              "<IPython.core.display.Javascript object>"
            ],
            "application/javascript": [
              "addData(22777.625,21726.06410083678)"
            ]
          },
          "metadata": {}
        },
        {
          "output_type": "stream",
          "name": "stdout",
          "text": [
            "Predicted future price of BTC: $ 21726.06410083678\n",
            "Waiting for price to reach sell threshold\n",
            "Remaining balance (USD): $ 0 \n",
            "\n",
            "Current price of BTC: $ 22720.416016\n",
            "PREDICTED PRICE $ 21792.902821503118\n"
          ]
        },
        {
          "output_type": "display_data",
          "data": {
            "text/plain": [
              "<IPython.core.display.Javascript object>"
            ],
            "application/javascript": [
              "addData(22720.416016,21792.902821503118)"
            ]
          },
          "metadata": {}
        },
        {
          "output_type": "stream",
          "name": "stdout",
          "text": [
            "Predicted future price of BTC: $ 21792.902821503118\n",
            "Waiting for price to reach sell threshold\n",
            "Remaining balance (USD): $ 0 \n",
            "\n",
            "Current price of BTC: $ 22934.431641\n",
            "PREDICTED PRICE $ 21853.935321200235\n"
          ]
        },
        {
          "output_type": "display_data",
          "data": {
            "text/plain": [
              "<IPython.core.display.Javascript object>"
            ],
            "application/javascript": [
              "addData(22934.431641,21853.935321200235)"
            ]
          },
          "metadata": {}
        },
        {
          "output_type": "stream",
          "name": "stdout",
          "text": [
            "Predicted future price of BTC: $ 21853.935321200235\n",
            "Waiting for price to reach sell threshold\n",
            "Remaining balance (USD): $ 0 \n",
            "\n",
            "Current price of BTC: $ 22636.46875\n",
            "PREDICTED PRICE $ 21910.941724665678\n"
          ]
        },
        {
          "output_type": "display_data",
          "data": {
            "text/plain": [
              "<IPython.core.display.Javascript object>"
            ],
            "application/javascript": [
              "addData(22636.46875,21910.941724665678)"
            ]
          },
          "metadata": {}
        },
        {
          "output_type": "stream",
          "name": "stdout",
          "text": [
            "Predicted future price of BTC: $ 21910.941724665678\n",
            "Waiting for price to reach sell threshold\n",
            "Remaining balance (USD): $ 0 \n",
            "\n",
            "Current price of BTC: $ 23117.859375\n",
            "PREDICTED PRICE $ 21965.335367549058\n"
          ]
        },
        {
          "output_type": "display_data",
          "data": {
            "text/plain": [
              "<IPython.core.display.Javascript object>"
            ],
            "application/javascript": [
              "addData(23117.859375,21965.335367549058)"
            ]
          },
          "metadata": {}
        },
        {
          "output_type": "stream",
          "name": "stdout",
          "text": [
            "Predicted future price of BTC: $ 21965.335367549058\n",
            "Waiting for price to reach sell threshold\n",
            "Remaining balance (USD): $ 0 \n",
            "\n",
            "Current price of BTC: $ 23032.777344\n",
            "PREDICTED PRICE $ 22017.970913838897\n"
          ]
        },
        {
          "output_type": "display_data",
          "data": {
            "text/plain": [
              "<IPython.core.display.Javascript object>"
            ],
            "application/javascript": [
              "addData(23032.777344,22017.970913838897)"
            ]
          },
          "metadata": {}
        },
        {
          "output_type": "stream",
          "name": "stdout",
          "text": [
            "Predicted future price of BTC: $ 22017.970913838897\n",
            "Waiting for price to reach sell threshold\n",
            "Remaining balance (USD): $ 0 \n",
            "\n",
            "Current price of BTC: $ 23078.728516\n",
            "PREDICTED PRICE $ 22069.463680290868\n"
          ]
        },
        {
          "output_type": "display_data",
          "data": {
            "text/plain": [
              "<IPython.core.display.Javascript object>"
            ],
            "application/javascript": [
              "addData(23078.728516,22069.463680290868)"
            ]
          },
          "metadata": {}
        },
        {
          "output_type": "stream",
          "name": "stdout",
          "text": [
            "Predicted future price of BTC: $ 22069.463680290868\n",
            "Waiting for price to reach sell threshold\n",
            "Remaining balance (USD): $ 0 \n",
            "\n",
            "Current price of BTC: $ 23031.089844\n",
            "PREDICTED PRICE $ 22120.193372995458\n"
          ]
        },
        {
          "output_type": "display_data",
          "data": {
            "text/plain": [
              "<IPython.core.display.Javascript object>"
            ],
            "application/javascript": [
              "addData(23031.089844,22120.193372995458)"
            ]
          },
          "metadata": {}
        },
        {
          "output_type": "stream",
          "name": "stdout",
          "text": [
            "Predicted future price of BTC: $ 22120.193372995458\n",
            "Waiting for price to reach sell threshold\n",
            "Remaining balance (USD): $ 0 \n",
            "\n",
            "Current price of BTC: $ 23774.566406\n",
            "PREDICTED PRICE $ 22170.42179415329\n"
          ]
        },
        {
          "output_type": "display_data",
          "data": {
            "text/plain": [
              "<IPython.core.display.Javascript object>"
            ],
            "application/javascript": [
              "addData(23774.566406,22170.42179415329)"
            ]
          },
          "metadata": {}
        },
        {
          "output_type": "stream",
          "name": "stdout",
          "text": [
            "Predicted future price of BTC: $ 22170.42179415329\n",
            "New sell order placed: Transaction ID: 9a91e4d6-8882-40b1-a20c-761cb82e2c26, Transaction Type: TransactionTypes.SELL, Price: 23774.566406, Amount: 1149152.5826829458 BTC, Volume: 48.33537499943357, Profit/Loss: 149152.5826829457, Transaction Trigger: Predicted future price triggered stoploss\n",
            "Sell order fulfilled. Profit: $ 149152.5826829457\n",
            "Remaining balance (USD): $ 1149152.5826829458 \n",
            "\n",
            "Current price of BTC: $ 22840.138672\n",
            "PREDICTED PRICE $ 22220.3164954818\n"
          ]
        },
        {
          "output_type": "display_data",
          "data": {
            "text/plain": [
              "<IPython.core.display.Javascript object>"
            ],
            "application/javascript": [
              "addData(22840.138672,22220.3164954818)"
            ]
          },
          "metadata": {}
        },
        {
          "output_type": "stream",
          "name": "stdout",
          "text": [
            "Predicted future price of BTC: $ 22220.3164954818\n",
            "Predicted future price does not meet the minimum growth requirement (2.0%) for buy trigger\n",
            "Remaining balance (USD): $ 1149152.5826829458 \n",
            "\n",
            "Current price of BTC: $ 23139.283203\n",
            "PREDICTED PRICE $ 22269.991396907815\n"
          ]
        },
        {
          "output_type": "display_data",
          "data": {
            "text/plain": [
              "<IPython.core.display.Javascript object>"
            ],
            "application/javascript": [
              "addData(23139.283203,22269.991396907815)"
            ]
          },
          "metadata": {}
        },
        {
          "output_type": "stream",
          "name": "stdout",
          "text": [
            "Predicted future price of BTC: $ 22269.991396907815\n",
            "Predicted future price does not meet the minimum growth requirement (2.0%) for buy trigger\n",
            "Remaining balance (USD): $ 1149152.5826829458 \n",
            "\n",
            "Current price of BTC: $ 23723.769531\n",
            "PREDICTED PRICE $ 22319.520503892036\n"
          ]
        },
        {
          "output_type": "display_data",
          "data": {
            "text/plain": [
              "<IPython.core.display.Javascript object>"
            ],
            "application/javascript": [
              "addData(23723.769531,22319.520503892036)"
            ]
          },
          "metadata": {}
        },
        {
          "output_type": "stream",
          "name": "stdout",
          "text": [
            "Predicted future price of BTC: $ 22319.520503892036\n",
            "Predicted future price does not meet the minimum growth requirement (2.0%) for buy trigger\n",
            "Remaining balance (USD): $ 1149152.5826829458 \n",
            "\n",
            "Current price of BTC: $ 23471.871094\n",
            "PREDICTED PRICE $ 22368.953419184094\n"
          ]
        },
        {
          "output_type": "display_data",
          "data": {
            "text/plain": [
              "<IPython.core.display.Javascript object>"
            ],
            "application/javascript": [
              "addData(23471.871094,22368.953419184094)"
            ]
          },
          "metadata": {}
        },
        {
          "output_type": "stream",
          "name": "stdout",
          "text": [
            "Predicted future price of BTC: $ 22368.953419184094\n",
            "Predicted future price does not meet the minimum growth requirement (2.0%) for buy trigger\n",
            "Remaining balance (USD): $ 1149152.5826829458 \n",
            "\n",
            "Current price of BTC: $ 23449.322266\n",
            "PREDICTED PRICE $ 22418.32259845948\n"
          ]
        },
        {
          "output_type": "display_data",
          "data": {
            "text/plain": [
              "<IPython.core.display.Javascript object>"
            ],
            "application/javascript": [
              "addData(23449.322266,22418.32259845948)"
            ]
          },
          "metadata": {}
        },
        {
          "output_type": "stream",
          "name": "stdout",
          "text": [
            "Predicted future price of BTC: $ 22418.32259845948\n",
            "Predicted future price does not meet the minimum growth requirement (2.0%) for buy trigger\n",
            "Remaining balance (USD): $ 1149152.5826829458 \n",
            "\n",
            "Current price of BTC: $ 23331.847656\n",
            "PREDICTED PRICE $ 22467.649672120217\n"
          ]
        },
        {
          "output_type": "display_data",
          "data": {
            "text/plain": [
              "<IPython.core.display.Javascript object>"
            ],
            "application/javascript": [
              "addData(23331.847656,22467.649672120217)"
            ]
          },
          "metadata": {}
        },
        {
          "output_type": "stream",
          "name": "stdout",
          "text": [
            "Predicted future price of BTC: $ 22467.649672120217\n",
            "Predicted future price does not meet the minimum growth requirement (2.0%) for buy trigger\n",
            "Remaining balance (USD): $ 1149152.5826829458 \n",
            "\n",
            "Current price of BTC: $ 22955.666016\n",
            "PREDICTED PRICE $ 22516.948869255488\n"
          ]
        },
        {
          "output_type": "display_data",
          "data": {
            "text/plain": [
              "<IPython.core.display.Javascript object>"
            ],
            "application/javascript": [
              "addData(22955.666016,22516.948869255488)"
            ]
          },
          "metadata": {}
        },
        {
          "output_type": "stream",
          "name": "stdout",
          "text": [
            "Predicted future price of BTC: $ 22516.948869255488\n",
            "Predicted future price does not meet the minimum growth requirement (2.0%) for buy trigger\n",
            "Remaining balance (USD): $ 1149152.5826829458 \n",
            "\n",
            "Current price of BTC: $ 22760.109375\n",
            "PREDICTED PRICE $ 22566.229641733065\n"
          ]
        },
        {
          "output_type": "display_data",
          "data": {
            "text/plain": [
              "<IPython.core.display.Javascript object>"
            ],
            "application/javascript": [
              "addData(22760.109375,22566.229641733065)"
            ]
          },
          "metadata": {}
        },
        {
          "output_type": "stream",
          "name": "stdout",
          "text": [
            "Predicted future price of BTC: $ 22566.229641733065\n",
            "Predicted future price does not meet the minimum growth requirement (2.0%) for buy trigger\n",
            "Remaining balance (USD): $ 1149152.5826829458 \n",
            "\n",
            "Current price of BTC: $ 23264.291016\n",
            "PREDICTED PRICE $ 22615.49822166003\n"
          ]
        },
        {
          "output_type": "display_data",
          "data": {
            "text/plain": [
              "<IPython.core.display.Javascript object>"
            ],
            "application/javascript": [
              "addData(23264.291016,22615.49822166003)"
            ]
          },
          "metadata": {}
        },
        {
          "output_type": "stream",
          "name": "stdout",
          "text": [
            "Predicted future price of BTC: $ 22615.49822166003\n",
            "Predicted future price does not meet the minimum growth requirement (2.0%) for buy trigger\n",
            "Remaining balance (USD): $ 1149152.5826829458 \n",
            "\n",
            "Current price of BTC: $ 22939.398438\n",
            "PREDICTED PRICE $ 22664.758740332196\n"
          ]
        },
        {
          "output_type": "display_data",
          "data": {
            "text/plain": [
              "<IPython.core.display.Javascript object>"
            ],
            "application/javascript": [
              "addData(22939.398438,22664.758740332196)"
            ]
          },
          "metadata": {}
        },
        {
          "output_type": "stream",
          "name": "stdout",
          "text": [
            "Predicted future price of BTC: $ 22664.758740332196\n",
            "Predicted future price does not meet the minimum growth requirement (2.0%) for buy trigger\n",
            "Remaining balance (USD): $ 1149152.5826829458 \n",
            "\n",
            "Current price of BTC: $ 21819.039063\n",
            "PREDICTED PRICE $ 22714.01392556959\n"
          ]
        },
        {
          "output_type": "display_data",
          "data": {
            "text/plain": [
              "<IPython.core.display.Javascript object>"
            ],
            "application/javascript": [
              "addData(21819.039063,22714.01392556959)"
            ]
          },
          "metadata": {}
        },
        {
          "output_type": "stream",
          "name": "stdout",
          "text": [
            "Predicted future price of BTC: $ 22714.01392556959\n",
            "New buy order placed: Transaction ID: 3890a105-3646-4825-b7a3-59e6599641d3, Transaction Type: TransactionTypes.BUY, Price: 21819.039063, Amount: 1149152.5826829458 BTC, Volume: 52.66742404946881, Profit/Loss: Predicted future growth, Transaction Trigger: None\n",
            "Remaining balance (USD): $ 0.0 \n",
            "\n",
            "Current price of BTC: $ 21651.183594\n",
            "PREDICTED PRICE $ 22763.265583911794\n"
          ]
        },
        {
          "output_type": "display_data",
          "data": {
            "text/plain": [
              "<IPython.core.display.Javascript object>"
            ],
            "application/javascript": [
              "addData(21651.183594,22763.265583911794)"
            ]
          },
          "metadata": {}
        },
        {
          "output_type": "stream",
          "name": "stdout",
          "text": [
            "Predicted future price of BTC: $ 22763.265583911794\n",
            "Waiting for price to reach sell threshold\n",
            "Remaining balance (USD): $ 0.0 \n",
            "\n",
            "Current price of BTC: $ 21870.875\n",
            "PREDICTED PRICE $ 22812.514909134203\n"
          ]
        },
        {
          "output_type": "display_data",
          "data": {
            "text/plain": [
              "<IPython.core.display.Javascript object>"
            ],
            "application/javascript": [
              "addData(21870.875,22812.514909134203)"
            ]
          },
          "metadata": {}
        },
        {
          "output_type": "stream",
          "name": "stdout",
          "text": [
            "Predicted future price of BTC: $ 22812.514909134203\n",
            "Waiting for price to reach sell threshold\n",
            "Remaining balance (USD): $ 0.0 \n",
            "\n",
            "Current price of BTC: $ 21788.203125\n",
            "PREDICTED PRICE $ 22861.76269137122\n"
          ]
        },
        {
          "output_type": "display_data",
          "data": {
            "text/plain": [
              "<IPython.core.display.Javascript object>"
            ],
            "application/javascript": [
              "addData(21788.203125,22861.76269137122)"
            ]
          },
          "metadata": {}
        },
        {
          "output_type": "stream",
          "name": "stdout",
          "text": [
            "Predicted future price of BTC: $ 22861.76269137122\n",
            "Waiting for price to reach sell threshold\n",
            "Remaining balance (USD): $ 0.0 \n",
            "\n",
            "Current price of BTC: $ 21808.101563\n",
            "PREDICTED PRICE $ 22911.009452960872\n"
          ]
        },
        {
          "output_type": "display_data",
          "data": {
            "text/plain": [
              "<IPython.core.display.Javascript object>"
            ],
            "application/javascript": [
              "addData(21808.101563,22911.009452960872)"
            ]
          },
          "metadata": {}
        },
        {
          "output_type": "stream",
          "name": "stdout",
          "text": [
            "Predicted future price of BTC: $ 22911.009452960872\n",
            "Waiting for price to reach sell threshold\n",
            "Remaining balance (USD): $ 0.0 \n",
            "\n",
            "Current price of BTC: $ 22220.804688\n",
            "PREDICTED PRICE $ 22960.255539518344\n"
          ]
        },
        {
          "output_type": "display_data",
          "data": {
            "text/plain": [
              "<IPython.core.display.Javascript object>"
            ],
            "application/javascript": [
              "addData(22220.804688,22960.255539518344)"
            ]
          },
          "metadata": {}
        },
        {
          "output_type": "stream",
          "name": "stdout",
          "text": [
            "Predicted future price of BTC: $ 22960.255539518344\n",
            "Waiting for price to reach sell threshold\n",
            "Remaining balance (USD): $ 0.0 \n",
            "\n",
            "Current price of BTC: $ 24307.841797\n",
            "PREDICTED PRICE $ 23009.50117957545\n"
          ]
        },
        {
          "output_type": "display_data",
          "data": {
            "text/plain": [
              "<IPython.core.display.Javascript object>"
            ],
            "application/javascript": [
              "addData(24307.841797,23009.50117957545)"
            ]
          },
          "metadata": {}
        },
        {
          "output_type": "stream",
          "name": "stdout",
          "text": [
            "Predicted future price of BTC: $ 23009.50117957545\n",
            "New sell order placed: Transaction ID: 13d094de-069e-42b9-ac9f-6cfceb007c8e, Transaction Type: TransactionTypes.SELL, Price: 24307.841797, Amount: 1280231.411650001 BTC, Volume: 52.66742404946881, Profit/Loss: 131078.82896705536, Transaction Trigger: Investment goal reached\n",
            "Sell order fulfilled. Profit: $ 131078.82896705536\n",
            "Investment goal reached! Stop trading.\n",
            "Remaining balance (USD): $ 1280231.411650001 \n",
            "\n",
            "Transaction record: [(Transaction ID: 6954ce89-967c-4738-98f9-f402647e75ba, Transaction Type: TransactionTypes.BUY, Price: 20688.78125, Amount: 1000000 BTC, Volume: 48.33537499943357, Profit/Loss: Predicted future growth, Transaction Trigger: None), (Transaction ID: 6954ce89-967c-4738-98f9-f402647e75ba, Transaction Type: TransactionTypes.BUY, Price: 20688.78125, Amount: 1000000 BTC, Volume: 48.33537499943357, Profit/Loss: Predicted future growth, Transaction Trigger: None), (Transaction ID: 6954ce89-967c-4738-98f9-f402647e75ba, Transaction Type: TransactionTypes.BUY, Price: 20688.78125, Amount: 1000000 BTC, Volume: 48.33537499943357, Profit/Loss: Predicted future growth, Transaction Trigger: None), (Transaction ID: 6954ce89-967c-4738-98f9-f402647e75ba, Transaction Type: TransactionTypes.BUY, Price: 20688.78125, Amount: 1000000 BTC, Volume: 48.33537499943357, Profit/Loss: Predicted future growth, Transaction Trigger: None), (Transaction ID: 6954ce89-967c-4738-98f9-f402647e75ba, Transaction Type: TransactionTypes.BUY, Price: 20688.78125, Amount: 1000000 BTC, Volume: 48.33537499943357, Profit/Loss: Predicted future growth, Transaction Trigger: None), (Transaction ID: 6954ce89-967c-4738-98f9-f402647e75ba, Transaction Type: TransactionTypes.BUY, Price: 20688.78125, Amount: 1000000 BTC, Volume: 48.33537499943357, Profit/Loss: Predicted future growth, Transaction Trigger: None), (Transaction ID: 6954ce89-967c-4738-98f9-f402647e75ba, Transaction Type: TransactionTypes.BUY, Price: 20688.78125, Amount: 1000000 BTC, Volume: 48.33537499943357, Profit/Loss: Predicted future growth, Transaction Trigger: None), (Transaction ID: 6954ce89-967c-4738-98f9-f402647e75ba, Transaction Type: TransactionTypes.BUY, Price: 20688.78125, Amount: 1000000 BTC, Volume: 48.33537499943357, Profit/Loss: Predicted future growth, Transaction Trigger: None), (Transaction ID: 6954ce89-967c-4738-98f9-f402647e75ba, Transaction Type: TransactionTypes.BUY, Price: 20688.78125, Amount: 1000000 BTC, Volume: 48.33537499943357, Profit/Loss: Predicted future growth, Transaction Trigger: None), (Transaction ID: 6954ce89-967c-4738-98f9-f402647e75ba, Transaction Type: TransactionTypes.BUY, Price: 20688.78125, Amount: 1000000 BTC, Volume: 48.33537499943357, Profit/Loss: Predicted future growth, Transaction Trigger: None), (Transaction ID: 6954ce89-967c-4738-98f9-f402647e75ba, Transaction Type: TransactionTypes.BUY, Price: 20688.78125, Amount: 1000000 BTC, Volume: 48.33537499943357, Profit/Loss: Predicted future growth, Transaction Trigger: None), (Transaction ID: 9a91e4d6-8882-40b1-a20c-761cb82e2c26, Transaction Type: TransactionTypes.SELL, Price: 23774.566406, Amount: 1149152.5826829458 BTC, Volume: 48.33537499943357, Profit/Loss: 149152.5826829457, Transaction Trigger: Predicted future price triggered stoploss), (Transaction ID: 3890a105-3646-4825-b7a3-59e6599641d3, Transaction Type: TransactionTypes.BUY, Price: 21819.039063, Amount: 1149152.5826829458 BTC, Volume: 52.66742404946881, Profit/Loss: Predicted future growth, Transaction Trigger: None), (Transaction ID: 3890a105-3646-4825-b7a3-59e6599641d3, Transaction Type: TransactionTypes.BUY, Price: 21819.039063, Amount: 1149152.5826829458 BTC, Volume: 52.66742404946881, Profit/Loss: Predicted future growth, Transaction Trigger: None), (Transaction ID: 3890a105-3646-4825-b7a3-59e6599641d3, Transaction Type: TransactionTypes.BUY, Price: 21819.039063, Amount: 1149152.5826829458 BTC, Volume: 52.66742404946881, Profit/Loss: Predicted future growth, Transaction Trigger: None), (Transaction ID: 3890a105-3646-4825-b7a3-59e6599641d3, Transaction Type: TransactionTypes.BUY, Price: 21819.039063, Amount: 1149152.5826829458 BTC, Volume: 52.66742404946881, Profit/Loss: Predicted future growth, Transaction Trigger: None), (Transaction ID: 3890a105-3646-4825-b7a3-59e6599641d3, Transaction Type: TransactionTypes.BUY, Price: 21819.039063, Amount: 1149152.5826829458 BTC, Volume: 52.66742404946881, Profit/Loss: Predicted future growth, Transaction Trigger: None), (Transaction ID: 3890a105-3646-4825-b7a3-59e6599641d3, Transaction Type: TransactionTypes.BUY, Price: 21819.039063, Amount: 1149152.5826829458 BTC, Volume: 52.66742404946881, Profit/Loss: Predicted future growth, Transaction Trigger: None), (Transaction ID: 13d094de-069e-42b9-ac9f-6cfceb007c8e, Transaction Type: TransactionTypes.SELL, Price: 24307.841797, Amount: 1280231.411650001 BTC, Volume: 52.66742404946881, Profit/Loss: 131078.82896705536, Transaction Trigger: Investment goal reached)]\n",
            "Profit and Loss: [{UUID('9a91e4d6-8882-40b1-a20c-761cb82e2c26'): 149152.5826829457}, {UUID('13d094de-069e-42b9-ac9f-6cfceb007c8e'): 131078.82896705536}]\n"
          ]
        }
      ],
      "source": [
        "import os\n",
        "import uuid\n",
        "import numpy as np\n",
        "import random\n",
        "import requests\n",
        "import time\n",
        "import pandas as pd\n",
        "import matplotlib.pyplot as plt\n",
        "from enum import Enum\n",
        "from datetime import date, timedelta\n",
        "from statsmodels.tsa.stattools import adfuller\n",
        "from statsmodels.tsa.arima.model import ARIMA\n",
        "from sklearn.metrics import mean_absolute_error, mean_squared_error\n",
        "\n",
        "import IPython\n",
        "from IPython.display import display, HTML, Javascript\n",
        "\n",
        "# Constants\n",
        "INITIAL_BALANCE = 1000000  # $1 million\n",
        "INTERVALS = 1  # seconds\n",
        "MINIMUM_GROWTH = 0.02  # minimum 2% increase in predicted price to trigger buy\n",
        "STOP_LOSS_PERCENTAGE = 0.05  # limit loss to 5%\n",
        "GOAL = 1200000  # $1.2 million\n",
        "\n",
        "\"\"\" ARIMA Prediction Functions \"\"\"\n",
        "\n",
        "def preprocess_data(data_url):\n",
        "    df = pd.read_csv(data_url)\n",
        "    df['Date'] = pd.to_datetime(df['Date'])\n",
        "    data = df[['Date', 'Close']]\n",
        "    data = data.rename(columns={'Date': 'date', 'Close': 'price'})\n",
        "    data = data.set_index('date')\n",
        "    # Check if data is stationary\n",
        "    test_stationarity(data['price'])\n",
        "    return data\n",
        "\n",
        "def train_arima_model(df_train):\n",
        "    m = ARIMA(df_train, order=(4,2,1))\n",
        "    m = m.fit()\n",
        "    return m\n",
        "\n",
        "def predict_future_price(model, df_train, df_test, i):\n",
        "    forecast = model.forecast(steps=len(df_test))\n",
        "    return forecast.values[i]\n",
        "\n",
        "def display_forecast(test_data, forecast):\n",
        "    # Plot the actual and forecasted Bitcoin prices\n",
        "    plt.figure(figsize=(12, 6))\n",
        "    plt.plot(test_data.index, test_data['price'], label='Actual Price')\n",
        "    plt.plot(test_data.index, forecast, label='Forecasted Price')\n",
        "    plt.xlabel('Date')\n",
        "    plt.ylabel('Price')\n",
        "    plt.title('Actual vs Forecasted Bitcoin Price')\n",
        "    plt.legend()\n",
        "    plt.show()\n",
        "\n",
        "def test_stationarity(x):\n",
        "    #Determing rolling statistics\n",
        "    rolmean = x.rolling(window=22,center=False).mean()\n",
        "\n",
        "    rolstd = x.rolling(window=12,center=False).std()\n",
        "    \n",
        "    #Plot rolling statistics:\n",
        "    orig = plt.plot(x, color='blue',label='Original')\n",
        "    mean = plt.plot(rolmean, color='red', label='Rolling Mean')\n",
        "    std = plt.plot(rolstd, color='black', label = 'Rolling Std')\n",
        "    plt.legend(loc='best')\n",
        "    plt.title('Rolling Mean & Standard Deviation')\n",
        "    plt.show(block=False)\n",
        "    \n",
        "    #Perform Dickey Fuller test    \n",
        "    result=adfuller(x)\n",
        "    print('ADF Stastistic: %f'%result[0])\n",
        "    print('p-value: %f'%result[1])\n",
        "    pvalue=result[1]\n",
        "    for key,value in result[4].items():\n",
        "         if result[0]>value:\n",
        "            print(\"The graph is non stationery\")\n",
        "            break\n",
        "         else:\n",
        "            print(\"The graph is stationery\")\n",
        "            break;\n",
        "    print('Critical values:')\n",
        "    for key,value in result[4].items():\n",
        "        print('\\t%s: %.3f ' % (key, value))\n",
        "class BitcoinTransaction:\n",
        "    def __init__(\n",
        "        self,\n",
        "        transaction_type,\n",
        "        price,\n",
        "        amount,\n",
        "        volume,\n",
        "        profit_or_loss=None,\n",
        "        transaction_trigger=None,\n",
        "    ):\n",
        "        self.transaction_type = transaction_type\n",
        "        self.price = price\n",
        "        self.amount = amount\n",
        "        self.volume = volume\n",
        "        self.profit_or_loss = profit_or_loss\n",
        "        self.transaction_trigger = transaction_trigger\n",
        "        self.transaction_id = uuid.uuid4()\n",
        "\n",
        "    def __str__(self):\n",
        "        return f\"Transaction ID: {self.transaction_id}, Transaction Type: {self.transaction_type}, Price: {self.price}, Amount: {self.amount} BTC, Volume: {self.volume}, Profit/Loss: {self.profit_or_loss}, Transaction Trigger: {self.transaction_trigger}\"\n",
        "\n",
        "    def __repr__(self):\n",
        "        return f\"({str(self)})\"\n",
        "\n",
        "\n",
        "class TransactionTypes(Enum):\n",
        "    BUY = 1\n",
        "    SELL = 2\n",
        "\n",
        "\n",
        "\"\"\" Trading Bot Functions \"\"\"\n",
        "\n",
        "\n",
        "def get_price():\n",
        "    url = \"https://pro-api.coinmarketcap.com/v1/cryptocurrency/quotes/latest\"\n",
        "    headers = {\"X-CMC_PRO_API_KEY\": \"f16d5846-68ea-4cbc-88c2-b2b0ae91ae25\"}\n",
        "    params = {\"symbol\": \"BTC\"}\n",
        "    response = requests.get(url, headers=headers, params=params)\n",
        "    if response.status_code == 200:\n",
        "        data = response.json()\n",
        "        return data[\"data\"][\"BTC\"][\"quote\"][\"USD\"][\"price\"]\n",
        "    else:\n",
        "        return None\n",
        "\n",
        "\n",
        "def take_decision(current_price, predicted_price, balance, buy_order, sell_order):\n",
        "    # no buy orders placed yet\n",
        "    if buy_order is None:\n",
        "        # Check if price is predicted to grow beyond minimum required growth\n",
        "        if predicted_price >= current_price * (1 + MINIMUM_GROWTH):\n",
        "            # Check if we have sufficient balance\n",
        "            if balance > 0:\n",
        "                # Calculate the volume of BTC we can buy with our balance and the dollar amount\n",
        "                volume = balance / current_price\n",
        "                amount = balance\n",
        "                # Place the buy order\n",
        "                trigger = \"Predicted future growth\"\n",
        "                buy_order = BitcoinTransaction(\n",
        "                    TransactionTypes.BUY, current_price, amount, volume, trigger\n",
        "                )\n",
        "                print(\"New buy order placed:\", buy_order)\n",
        "                balance -= amount\n",
        "            else:\n",
        "                print(\"Insufficient balance to place a new buy order\")\n",
        "        else:\n",
        "            print(\n",
        "                f\"Predicted future price does not meet the minimum growth requirement ({MINIMUM_GROWTH * 100}%) for buy trigger\"\n",
        "            )\n",
        "    elif sell_order is None:\n",
        "        # Check if current price has fallen to trigger stoploss sell, minimize loss\n",
        "        if current_price <= buy_order.price * (1 - STOP_LOSS_PERCENTAGE):\n",
        "            volume = buy_order.volume\n",
        "            amount = current_price * volume\n",
        "            # calculate the loss (negative profit) incurred in this sell order\n",
        "            profit_or_loss = volume * (current_price - buy_order.price)\n",
        "            trigger = \"Current price triggered stoploss\"\n",
        "            sell_order = BitcoinTransaction(\n",
        "                TransactionTypes.SELL,\n",
        "                current_price,\n",
        "                amount,\n",
        "                volume,\n",
        "                profit_or_loss,\n",
        "                trigger,\n",
        "            )\n",
        "            print(\"New sell order placed:\", sell_order)\n",
        "            balance += amount\n",
        "        # Check if investment goal has been reached\n",
        "        elif balance + (current_price * buy_order.volume) >= GOAL:\n",
        "            volume = buy_order.volume\n",
        "            amount = current_price * volume\n",
        "            # calculate the profit/loss incurred in this sell order\n",
        "            profit_or_loss = volume * (current_price - buy_order.price)\n",
        "            trigger = \"Investment goal reached\"\n",
        "            sell_order = BitcoinTransaction(\n",
        "                TransactionTypes.SELL,\n",
        "                current_price,\n",
        "                amount,\n",
        "                volume,\n",
        "                profit_or_loss,\n",
        "                trigger,\n",
        "            )\n",
        "            print(\"New sell order placed:\", sell_order)\n",
        "            balance += amount\n",
        "        # Check if predicted future price will fall below stoploss of current price, prevent possible loss\n",
        "        elif predicted_price <= current_price * (1 - STOP_LOSS_PERCENTAGE):\n",
        "            volume = buy_order.volume\n",
        "            amount = current_price * volume\n",
        "            # calculate the profit/loss incurred in this sell order\n",
        "            profit_or_loss = volume * (current_price - buy_order.price)\n",
        "            trigger = \"Predicted future price triggered stoploss\"\n",
        "            sell_order = BitcoinTransaction(\n",
        "                TransactionTypes.SELL,\n",
        "                current_price,\n",
        "                amount,\n",
        "                volume,\n",
        "                profit_or_loss,\n",
        "                trigger,\n",
        "            )\n",
        "            print(\"New sell order placed:\", sell_order)\n",
        "            balance += amount\n",
        "        else:\n",
        "            print(\"Waiting for price to reach sell threshold\")\n",
        "\n",
        "    return buy_order, sell_order, balance\n",
        "\n",
        "\n",
        "def configure_browser_state():\n",
        "    display(\n",
        "        IPython.core.display.HTML(\n",
        "            \"\"\"\n",
        "    <canvas id=\"myChart\"></canvas>\n",
        "  \"\"\"\n",
        "        )\n",
        "    )\n",
        "    display(\n",
        "        IPython.core.display.HTML(\n",
        "            \"\"\"\n",
        "        <script src=\"https://cdn.jsdelivr.net/npm/chart.js@2.8.0\"></script>\n",
        "        <script>\n",
        "          var ctx = document.getElementById('myChart').getContext('2d');\n",
        "          var chart = new Chart(ctx, {\n",
        "              // The type of chart we want to create\n",
        "              type: 'line',\n",
        "\n",
        "              // The data for our dataset\n",
        "              data: {\n",
        "                  labels: [getDateTime(-10), getDateTime(-20), getDateTime(-30),\n",
        "                                  getDateTime(-40), getDateTime(-50), getDateTime(-60) ],\n",
        "                  datasets: [{\n",
        "                      label: 'Actual',\n",
        "                      borderColor: 'rgb(255, 99, 132)',\n",
        "                      data: [0,1,2,3,4,5]\n",
        "                  }, \n",
        "                  {\n",
        "                      label: 'Predicted',\n",
        "                      borderColor: 'rgb(155, 199, 32)',\n",
        "                      data: [0,1,2,3,4,5]\n",
        "                  }]\n",
        "              },\n",
        "\n",
        "              // Configuration options go here\n",
        "              options: { animation: {duration: 0} ,\n",
        "                scales: {x: {\n",
        "                           type: 'time',\n",
        "                           time: { unit: 'minute',displayFormats: {minute: 'HH:mm'},tooltipFormat: 'HH:mm'},\n",
        "                           title: {display: true, text: 'Date'}},\n",
        "                         y: {\n",
        "                           title: { display: true, text: 'value'}},\n",
        "                         xAxes: [{ scaleLabel: { display: true, labelString: 'Timestamp [YYYY-MM-DD hh:mm:ss]'}}],\n",
        "                        yAxes: [{scaleLabel: {display: true, labelString: 'BitCoin Price [USD $]'} }], },\n",
        "                title: { display: true, text: 'Bitcoin Price - Realtime Prediction'}}});\n",
        "\n",
        "          function getEpoch(offset_sec=0) {\n",
        "             var now     = new Date(); \n",
        "             return Math.floor((now.getTime() - offset_sec*1000)/1000);}\n",
        "\n",
        "          function getDateTime(offset_sec=0) {\n",
        "             var now     = new Date(); \n",
        "             var numberOfMlSeconds = now.getTime() - offset_sec*1000;\n",
        "             var update_now = new Date (numberOfMlSeconds);\n",
        "             var year    = update_now.getFullYear();\n",
        "             var month   = update_now.getMonth()+1; \n",
        "             var day     = update_now.getDate();\n",
        "             var hour    = update_now.getHours();\n",
        "             var minute  = update_now.getMinutes();\n",
        "             var second  = update_now.getSeconds(); \n",
        "             if(month.toString().length == 1) {\n",
        "                 month = '0'+month;}\n",
        "             if(day.toString().length == 1) {\n",
        "                 day = '0'+day;}   \n",
        "             if(hour.toString().length == 1) {\n",
        "                 hour = '0'+hour;}\n",
        "             if(minute.toString().length == 1) {\n",
        "                 minute = '0'+minute; }\n",
        "             if(second.toString().length == 1) {\n",
        "                 second = '0'+second;}   \n",
        "             var dateTime = year+'-'+month+'-'+day+' '+hour+':'+minute+':'+second;   \n",
        "             return dateTime;\n",
        "          }\n",
        "\n",
        "          function addData(value, value2){\n",
        "            chart.data.labels.push(getDateTime())\n",
        "            chart.data.datasets[0].data.push(value)\n",
        "            chart.data.datasets[1].data.push(value2)\n",
        "            // optional windowing\n",
        "            if(chart.data.labels.length > 100) {\n",
        "              chart.data.labels.shift()\n",
        "              chart.data.datasets[0].data.shift()\n",
        "              chart.data.datasets[1].data.shift() }\n",
        "\n",
        "            chart.update();\n",
        "          }\n",
        "        </script>\n",
        "        \"\"\"\n",
        "        )\n",
        "    )\n",
        "\n",
        "\n",
        "# Main program\n",
        "def main():\n",
        "    balance = INITIAL_BALANCE\n",
        "    buy_order = None\n",
        "    sell_order = None\n",
        "    goal_reached = False\n",
        "\n",
        "    # Ready graph display\n",
        "    configure_browser_state()\n",
        "\n",
        "    # url = 'https://raw.githubusercontent.com/yetanotherpassword/COMS4507/main/BTC-USD.csv'\n",
        "    # update this url to new dataset for future retraining.\n",
        "    url = 'https://raw.githubusercontent.com/yetanotherpassword/COMS4507/main/BTC-USD.csv'\n",
        "    preprocessed_data = preprocess_data(url)\n",
        "    last_day_index = len(preprocessed_data.index)\n",
        "    # Split the data into train and test sets\n",
        "    #All data except approximately last three months, i.e. 100 datapoints are used to train the model.\n",
        "    df_train = preprocessed_data.iloc[:-100]\n",
        "    df_test = preprocessed_data.iloc[-100:]\n",
        "\n",
        "    model = train_arima_model(df_train)\n",
        "    transaction_record = []\n",
        "    profit_and_loss_record = []\n",
        "\n",
        "    # FIXME the line below is for experimental demonstration, remove line to get real prices\n",
        "    price = get_price()\n",
        "    test_prices = df_test['price']\n",
        "    i = 0\n",
        "    # keep running the bot if there is positive balance or an existing buy order has been placed.\n",
        "    while (balance > 0 or buy_order) and not goal_reached:\n",
        "        # FIXME\n",
        "        # uncomment the following line to get real prices\n",
        "        # current_price = get_price()\n",
        "\n",
        "        # FIXME\n",
        "        # the following line is for experimental demonstration, remove line to get real prices\n",
        "        if i > len(test_prices):\n",
        "            i = len(test_prices)\n",
        "        current_price = test_prices[i]\n",
        "        if not current_price:\n",
        "            current_price = random.randint(int(price * (1 - 0.1)), int(price * (1 + 0.1)))\n",
        "\n",
        "        if current_price is not None:\n",
        "            print(\"Current price of BTC: $\", current_price)\n",
        "            predicted_price = predict_future_price(model, df_train, df_test, i)\n",
        "            print(\"PREDICTED PRICE $\", predicted_price)\n",
        "            display(\n",
        "                Javascript(\n",
        "                    \"addData(\" + str(current_price) + \",\" + str(predicted_price) + \")\"\n",
        "                )\n",
        "            )\n",
        "            print(\"Predicted future price of BTC: $\", predicted_price)\n",
        "            buy_order, sell_order, balance = take_decision(\n",
        "                current_price, predicted_price, balance, buy_order, sell_order\n",
        "            )\n",
        "\n",
        "            if sell_order:\n",
        "                # record transaction\n",
        "                transaction_record.append(sell_order)\n",
        "                print(\"Sell order fulfilled. Profit: $\", sell_order.profit_or_loss)\n",
        "                profit_and_loss_record.append(\n",
        "                    {sell_order.transaction_id: sell_order.profit_or_loss}\n",
        "                )\n",
        "\n",
        "                # reset orders\n",
        "                buy_order = None\n",
        "                sell_order = None\n",
        "\n",
        "            elif buy_order:\n",
        "                # record transaction\n",
        "                transaction_record.append(buy_order)\n",
        "\n",
        "            if balance >= GOAL:\n",
        "                goal_reached = True\n",
        "                print(\"Investment goal reached! Stop trading.\")\n",
        "\n",
        "            print(\"Remaining balance (USD): $\", balance, \"\\n\")\n",
        "\n",
        "        else:\n",
        "            print(\"Error getting price from CoinMarketCap API\")\n",
        "\n",
        "        time.sleep(INTERVALS)\n",
        "        i += 1\n",
        "\n",
        "    print(\"Transaction record:\", transaction_record)\n",
        "    print(\"Profit and Loss:\", profit_and_loss_record)\n",
        "\n",
        "\n",
        "if __name__ == \"__main__\":\n",
        "    main()"
      ]
    }
  ]
}